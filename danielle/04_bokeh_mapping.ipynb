{
 "cells": [
  {
   "cell_type": "markdown",
   "metadata": {},
   "source": [
    "# 04: Identifying Power Outages Using Social Media - Mapping Outages\n",
    "### Danielle Medellin, Matthew Malone, Omar Smiley"
   ]
  },
  {
   "cell_type": "markdown",
   "metadata": {},
   "source": [
    "## Import Libraries "
   ]
  },
  {
   "cell_type": "code",
   "execution_count": 29,
   "metadata": {},
   "outputs": [],
   "source": [
    "import pandas as pd\n",
    "import numpy as np\n",
    "import matplotlib.pyplot as plt\n",
    "import seaborn as sns\n",
    "\n",
    "# install bokeh if needed\n",
    "#!pip install bokeh\n",
    "\n",
    "from os import path\n",
    "import bokeh\n",
    "from bokeh.plotting import figure, show, output_file\n",
    "from bokeh.tile_providers import get_provider, CARTODBPOSITRON_RETINA\n",
    "from bokeh.io import output_file, show\n",
    "from bokeh.models import ColumnDataSource\n",
    "from bokeh.layouts import column, row\n",
    "\n",
    "\n"
   ]
  },
  {
   "cell_type": "markdown",
   "metadata": {},
   "source": [
    "## Load Data"
   ]
  },
  {
   "cell_type": "code",
   "execution_count": 30,
   "metadata": {},
   "outputs": [],
   "source": [
    "tweets = pd.read_csv('../data/cleaned_tweets.csv')"
   ]
  },
  {
   "cell_type": "code",
   "execution_count": 31,
   "metadata": {},
   "outputs": [],
   "source": [
    "tweets['tweet_date'] = pd.to_datetime(tweets['tweet_date'])"
   ]
  },
  {
   "cell_type": "markdown",
   "metadata": {},
   "source": [
    "## Mapping Power Outages Using Bokeh"
   ]
  },
  {
   "cell_type": "code",
   "execution_count": 32,
   "metadata": {},
   "outputs": [],
   "source": [
    "# copy df to use for mapping purposes\n",
    "map_tweets = tweets.copy()"
   ]
  },
  {
   "cell_type": "markdown",
   "metadata": {},
   "source": [
    "### Converting Longitude and Latitude to Mercator Projection"
   ]
  },
  {
   "cell_type": "code",
   "execution_count": 33,
   "metadata": {},
   "outputs": [],
   "source": [
    "# references for the below code from Noah Christiansen &\n",
    "# https://wiki.openstreetmap.org/wiki/Mercator#Elliptical_.28true.29_Mercator_Projection\n",
    "\n",
    "\n",
    "def convert_longitude(long):\n",
    "    k = 6378137 # earth radius in meters \n",
    "    x = long * (k * np.pi/180)\n",
    "    \n",
    "    return x"
   ]
  },
  {
   "cell_type": "code",
   "execution_count": 34,
   "metadata": {},
   "outputs": [],
   "source": [
    "# references for the below code from Noah Christiansen &\n",
    "# https://wiki.openstreetmap.org/wiki/Mercator#Elliptical_.28true.29_Mercator_Projection\n",
    "\n",
    "def convert_latitude(lat):\n",
    "    k = 6378137 # earth radius in meters \n",
    "    y = np.log(np.tan((90 + lat) * np.pi/360)) * k\n",
    "    \n",
    "    return y"
   ]
  },
  {
   "cell_type": "code",
   "execution_count": 35,
   "metadata": {},
   "outputs": [],
   "source": [
    "def convert_radius(radius):\n",
    "    return int(radius[:-2])*1609.34 # convert miles to meters "
   ]
  },
  {
   "cell_type": "code",
   "execution_count": 36,
   "metadata": {},
   "outputs": [],
   "source": [
    "# converting lat and long to mercator, radius from miles to meters  \n",
    "\n",
    "map_tweets['lat'] = map_tweets['lat'].map(convert_latitude)\n",
    "map_tweets['long'] = map_tweets['long'].map(convert_longitude)\n",
    "map_tweets['radius'] = map_tweets['radius'].map(convert_radius)"
   ]
  },
  {
   "cell_type": "code",
   "execution_count": 40,
   "metadata": {},
   "outputs": [
    {
     "data": {
      "text/html": [
       "<div>\n",
       "<style scoped>\n",
       "    .dataframe tbody tr th:only-of-type {\n",
       "        vertical-align: middle;\n",
       "    }\n",
       "\n",
       "    .dataframe tbody tr th {\n",
       "        vertical-align: top;\n",
       "    }\n",
       "\n",
       "    .dataframe thead th {\n",
       "        text-align: right;\n",
       "    }\n",
       "</style>\n",
       "<table border=\"1\" class=\"dataframe\">\n",
       "  <thead>\n",
       "    <tr style=\"text-align: right;\">\n",
       "      <th></th>\n",
       "      <th>tweet_id</th>\n",
       "      <th>username</th>\n",
       "      <th>text</th>\n",
       "      <th>tweet_date</th>\n",
       "      <th>search_term</th>\n",
       "      <th>city</th>\n",
       "      <th>lat</th>\n",
       "      <th>long</th>\n",
       "      <th>radius</th>\n",
       "      <th>query_start</th>\n",
       "      <th>name_and_tweet</th>\n",
       "      <th>outage_sentiment</th>\n",
       "      <th>state</th>\n",
       "    </tr>\n",
       "  </thead>\n",
       "  <tbody>\n",
       "    <tr>\n",
       "      <th>0</th>\n",
       "      <td>710245730590404608</td>\n",
       "      <td>ttwn sf bay area</td>\n",
       "      <td>power outage in cupertino bayarea traffic</td>\n",
       "      <td>2016-03-16 23:25:52</td>\n",
       "      <td>power outage</td>\n",
       "      <td>San Jose</td>\n",
       "      <td>4.485527e+06</td>\n",
       "      <td>-1.356466e+07</td>\n",
       "      <td>16093.4</td>\n",
       "      <td>2016-01-01</td>\n",
       "      <td>ttwn sf bay area power outage in cupertino bay...</td>\n",
       "      <td>0.33</td>\n",
       "      <td>California</td>\n",
       "    </tr>\n",
       "    <tr>\n",
       "      <th>1</th>\n",
       "      <td>708811502241734656</td>\n",
       "      <td>san jose now</td>\n",
       "      <td>weather alert flash flood watch in bay area am...</td>\n",
       "      <td>2016-03-13 00:26:45</td>\n",
       "      <td>power outage</td>\n",
       "      <td>San Jose</td>\n",
       "      <td>4.485527e+06</td>\n",
       "      <td>-1.356466e+07</td>\n",
       "      <td>16093.4</td>\n",
       "      <td>2016-01-01</td>\n",
       "      <td>san jose now weather alert flash flood watch i...</td>\n",
       "      <td>0.25</td>\n",
       "      <td>California</td>\n",
       "    </tr>\n",
       "    <tr>\n",
       "      <th>2</th>\n",
       "      <td>706856719733776384</td>\n",
       "      <td>san jose now</td>\n",
       "      <td>power outages in san francisco on peninsula in...</td>\n",
       "      <td>2016-03-07 14:59:09</td>\n",
       "      <td>power outage</td>\n",
       "      <td>San Jose</td>\n",
       "      <td>4.485527e+06</td>\n",
       "      <td>-1.356466e+07</td>\n",
       "      <td>16093.4</td>\n",
       "      <td>2016-01-01</td>\n",
       "      <td>san jose now power outages in san francisco on...</td>\n",
       "      <td>0.18</td>\n",
       "      <td>California</td>\n",
       "    </tr>\n",
       "    <tr>\n",
       "      <th>3</th>\n",
       "      <td>726876023573204993</td>\n",
       "      <td>san jose now</td>\n",
       "      <td>power outage in fremont several intersections ...</td>\n",
       "      <td>2016-05-01 20:48:43</td>\n",
       "      <td>power outage</td>\n",
       "      <td>San Jose</td>\n",
       "      <td>4.485527e+06</td>\n",
       "      <td>-1.356466e+07</td>\n",
       "      <td>16093.4</td>\n",
       "      <td>2016-01-01</td>\n",
       "      <td>san jose now power outage in fremont several i...</td>\n",
       "      <td>0.23</td>\n",
       "      <td>California</td>\n",
       "    </tr>\n",
       "    <tr>\n",
       "      <th>4</th>\n",
       "      <td>724681945095888897</td>\n",
       "      <td>san jose now</td>\n",
       "      <td>east bay power outages also affects bart uc be...</td>\n",
       "      <td>2016-04-25 19:30:14</td>\n",
       "      <td>power outage</td>\n",
       "      <td>San Jose</td>\n",
       "      <td>4.485527e+06</td>\n",
       "      <td>-1.356466e+07</td>\n",
       "      <td>16093.4</td>\n",
       "      <td>2016-01-01</td>\n",
       "      <td>san jose now east bay power outages also affec...</td>\n",
       "      <td>0.20</td>\n",
       "      <td>California</td>\n",
       "    </tr>\n",
       "  </tbody>\n",
       "</table>\n",
       "</div>"
      ],
      "text/plain": [
       "             tweet_id          username  \\\n",
       "0  710245730590404608  ttwn sf bay area   \n",
       "1  708811502241734656      san jose now   \n",
       "2  706856719733776384      san jose now   \n",
       "3  726876023573204993      san jose now   \n",
       "4  724681945095888897      san jose now   \n",
       "\n",
       "                                                text          tweet_date  \\\n",
       "0          power outage in cupertino bayarea traffic 2016-03-16 23:25:52   \n",
       "1  weather alert flash flood watch in bay area am... 2016-03-13 00:26:45   \n",
       "2  power outages in san francisco on peninsula in... 2016-03-07 14:59:09   \n",
       "3  power outage in fremont several intersections ... 2016-05-01 20:48:43   \n",
       "4  east bay power outages also affects bart uc be... 2016-04-25 19:30:14   \n",
       "\n",
       "    search_term      city           lat          long   radius query_start  \\\n",
       "0  power outage  San Jose  4.485527e+06 -1.356466e+07  16093.4  2016-01-01   \n",
       "1  power outage  San Jose  4.485527e+06 -1.356466e+07  16093.4  2016-01-01   \n",
       "2  power outage  San Jose  4.485527e+06 -1.356466e+07  16093.4  2016-01-01   \n",
       "3  power outage  San Jose  4.485527e+06 -1.356466e+07  16093.4  2016-01-01   \n",
       "4  power outage  San Jose  4.485527e+06 -1.356466e+07  16093.4  2016-01-01   \n",
       "\n",
       "                                      name_and_tweet  outage_sentiment  \\\n",
       "0  ttwn sf bay area power outage in cupertino bay...              0.33   \n",
       "1  san jose now weather alert flash flood watch i...              0.25   \n",
       "2  san jose now power outages in san francisco on...              0.18   \n",
       "3  san jose now power outage in fremont several i...              0.23   \n",
       "4  san jose now east bay power outages also affec...              0.20   \n",
       "\n",
       "        state  \n",
       "0  California  \n",
       "1  California  \n",
       "2  California  \n",
       "3  California  \n",
       "4  California  "
      ]
     },
     "execution_count": 40,
     "metadata": {},
     "output_type": "execute_result"
    }
   ],
   "source": [
    "map_tweets.head()"
   ]
  },
  {
   "cell_type": "code",
   "execution_count": 41,
   "metadata": {},
   "outputs": [],
   "source": [
    "# separate data by outage sentiment threshold \n",
    "\n",
    "high_os = map_tweets[map_tweets['outage_sentiment'] >= .3]\n",
    "low_os = map_tweets[map_tweets['outage_sentiment'] < .3]"
   ]
  },
  {
   "cell_type": "markdown",
   "metadata": {},
   "source": [
    "Based on previously exploration of the data, since the 75th percentile of the outage sentiment landed at around .17, our threshold would fall above that. We determined that an outage sentiment of .3 or higher would indicate hige association with a power outage. "
   ]
  },
  {
   "cell_type": "code",
   "execution_count": 44,
   "metadata": {},
   "outputs": [],
   "source": [
    "# https://docs.bokeh.org/en/latest/docs/user_guide/geo.html\n",
    "\n",
    "# base map\n",
    "tile_provider = get_provider(CARTODBPOSITRON_RETINA)\n",
    "\n",
    "source = ColumnDataSource(data=dict(lat=high_os['lat'], # converted latitudes\n",
    "                                    long=high_os['long'], # converted longitudes \n",
    "                                    radius=high_os['radius'], # converted radius in meters\n",
    "                                   )\n",
    "                         )\n",
    "\n",
    "# Sidebar tools for the bokeh map\n",
    "TOOLS=\"pan,wheel_zoom,zoom_in,zoom_out,box_zoom,undo,redo,reset,save,box_select\"\n",
    "\n",
    "\n",
    "# range bounds supplied in web mercator coordinates\n",
    "p = figure(x_range=(-15000000, -6900000), y_range=(2000000, 6500000), # shows US\n",
    "           x_axis_type=\"mercator\", y_axis_type=\"mercator\", title='Power Outages in the United States (Tracked by Tweets)',\n",
    "           tools = TOOLS)\n",
    "\n",
    "\n",
    "p.add_tile(tile_provider)\n",
    "\n",
    "p.circle(x=\"long\", y=\"lat\", size = 5, fill_color=\"yellow\", line_color = 'red',line_width=2.5, fill_alpha=0.0, source=source, legend_label='Power Outage', radius=\"radius\")\n",
    "\n",
    "\n",
    "\n",
    "output_file(\"../visualizations/outage_map.html\")\n",
    "\n",
    "\n",
    "show(p)"
   ]
  },
  {
   "cell_type": "markdown",
   "metadata": {},
   "source": [
    "The above code will display the an interactive mapping of the power outages. It is saved as an html which can be found in the visualizations folder and opened in a browser. While this map shows all data that we collected over the course of roughly 3.5 years, our goal would be to project real time potential power outages found by live scraping and analysis of tweets. \n",
    "\n",
    "Another goal would be to show historical data of power outages and being able to use the addition of a slider to scroll through dates to see their power outage mappings."
   ]
  },
  {
   "cell_type": "code",
   "execution_count": null,
   "metadata": {},
   "outputs": [],
   "source": []
  }
 ],
 "metadata": {
  "kernelspec": {
   "display_name": "Python 3",
   "language": "python",
   "name": "python3"
  },
  "language_info": {
   "codemirror_mode": {
    "name": "ipython",
    "version": 3
   },
   "file_extension": ".py",
   "mimetype": "text/x-python",
   "name": "python",
   "nbconvert_exporter": "python",
   "pygments_lexer": "ipython3",
   "version": "3.7.6"
  }
 },
 "nbformat": 4,
 "nbformat_minor": 4
}
