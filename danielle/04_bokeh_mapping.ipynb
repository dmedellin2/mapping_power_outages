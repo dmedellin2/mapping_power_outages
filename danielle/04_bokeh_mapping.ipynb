{
 "cells": [
  {
   "cell_type": "markdown",
   "metadata": {},
   "source": [
    "# 04: Identifying Power Outages Using Social Media - Mapping Outages\n",
    "### Danielle Medellin, Matthew Malone, Omar Smiley"
   ]
  },
  {
   "cell_type": "markdown",
   "metadata": {},
   "source": [
    "## Import Libraries "
   ]
  },
  {
   "cell_type": "code",
   "execution_count": 154,
   "metadata": {},
   "outputs": [],
   "source": [
    "import pandas as pd\n",
    "import numpy as np\n",
    "import matplotlib.pyplot as plt\n",
    "import seaborn as sns\n",
    "\n",
    "# install bokeh if needed\n",
    "#!pip install bokeh\n",
    "\n",
    "from os import path\n",
    "from PIL import Image\n",
    "from bokeh.plotting import figure, show, output_file\n",
    "from bokeh.io import output_notebook\n",
    "from bokeh.tile_providers import CARTODBPOSITRON, get_provider, STAMEN_TERRAIN,STAMEN_TERRAIN_RETINA, CARTODBPOSITRON_RETINA\n",
    "import bokeh\n",
    "from bokeh.io import output_file, show\n",
    "from bokeh.models import ColumnDataSource, GMapOptions\n",
    "from bokeh.plotting import gmap\n",
    "\n",
    "from bokeh.io import output_file, show\n",
    "from bokeh.models import ColumnDataSource, GMapOptions\n",
    "from bokeh.plotting import gmap\n"
   ]
  },
  {
   "cell_type": "markdown",
   "metadata": {},
   "source": [
    "## Load Data"
   ]
  },
  {
   "cell_type": "code",
   "execution_count": 3,
   "metadata": {},
   "outputs": [],
   "source": [
    "tweets = pd.read_csv('../data/cleaned_tweets.csv')"
   ]
  },
  {
   "cell_type": "code",
   "execution_count": 4,
   "metadata": {},
   "outputs": [],
   "source": [
    "tweets['tweet_date'] = pd.to_datetime(tweets['tweet_date'])"
   ]
  },
  {
   "cell_type": "code",
   "execution_count": null,
   "metadata": {},
   "outputs": [],
   "source": []
  },
  {
   "cell_type": "markdown",
   "metadata": {},
   "source": [
    "## Bokeh Mapping"
   ]
  },
  {
   "cell_type": "code",
   "execution_count": 138,
   "metadata": {},
   "outputs": [],
   "source": [
    "map_tweets = tweets.copy()"
   ]
  },
  {
   "cell_type": "markdown",
   "metadata": {},
   "source": [
    "#### Converting Longitude and Latitude to Mercator Projection"
   ]
  },
  {
   "cell_type": "code",
   "execution_count": 139,
   "metadata": {},
   "outputs": [],
   "source": [
    "# references for the below code from Noah Christiansen &\n",
    "# https://wiki.openstreetmap.org/wiki/Mercator#Elliptical_.28true.29_Mercator_Projection\n",
    "\n",
    "\n",
    "def convert_longitude(long):\n",
    "    k = 6378137 # earth radius in meters \n",
    "    x = long * (k * np.pi/180)\n",
    "    \n",
    "    return x"
   ]
  },
  {
   "cell_type": "code",
   "execution_count": 140,
   "metadata": {},
   "outputs": [],
   "source": [
    "# references for the below code from Noah Christiansen &\n",
    "# https://wiki.openstreetmap.org/wiki/Mercator#Elliptical_.28true.29_Mercator_Projection\n",
    "\n",
    "def convert_latitude(lat):\n",
    "    k = 6378137 # earth radius in meters \n",
    "    y = np.log(np.tan((90 + lat) * np.pi/360)) * k\n",
    "    \n",
    "    return y"
   ]
  },
  {
   "cell_type": "code",
   "execution_count": 104,
   "metadata": {},
   "outputs": [
    {
     "data": {
      "text/plain": [
       "2572924.97689839"
      ]
     },
     "execution_count": 104,
     "metadata": {},
     "output_type": "execute_result"
    }
   ],
   "source": [
    "convert_latitude(48)"
   ]
  },
  {
   "cell_type": "code",
   "execution_count": 141,
   "metadata": {},
   "outputs": [],
   "source": [
    "# convert lat and long to mercator \n",
    "\n",
    "map_tweets['lat'] = map_tweets['lat'].map(convert_latitude)\n",
    "map_tweets['long'] = map_tweets['long'].map(convert_longitude)"
   ]
  },
  {
   "cell_type": "code",
   "execution_count": 146,
   "metadata": {},
   "outputs": [],
   "source": [
    "def convert_radius(radius):\n",
    "    return int(radius[:-2])*1609.34"
   ]
  },
  {
   "cell_type": "code",
   "execution_count": 147,
   "metadata": {},
   "outputs": [],
   "source": [
    "map_tweets['radius'] = map_tweets['radius'].map(convert_radius)"
   ]
  },
  {
   "cell_type": "code",
   "execution_count": 148,
   "metadata": {},
   "outputs": [
    {
     "data": {
      "text/html": [
       "<div>\n",
       "<style scoped>\n",
       "    .dataframe tbody tr th:only-of-type {\n",
       "        vertical-align: middle;\n",
       "    }\n",
       "\n",
       "    .dataframe tbody tr th {\n",
       "        vertical-align: top;\n",
       "    }\n",
       "\n",
       "    .dataframe thead th {\n",
       "        text-align: right;\n",
       "    }\n",
       "</style>\n",
       "<table border=\"1\" class=\"dataframe\">\n",
       "  <thead>\n",
       "    <tr style=\"text-align: right;\">\n",
       "      <th></th>\n",
       "      <th>tweet_id</th>\n",
       "      <th>username</th>\n",
       "      <th>text</th>\n",
       "      <th>tweet_date</th>\n",
       "      <th>search_term</th>\n",
       "      <th>city</th>\n",
       "      <th>lat</th>\n",
       "      <th>long</th>\n",
       "      <th>radius</th>\n",
       "      <th>query_start</th>\n",
       "      <th>name_and_tweet</th>\n",
       "      <th>outage_sentiment</th>\n",
       "      <th>state</th>\n",
       "    </tr>\n",
       "  </thead>\n",
       "  <tbody>\n",
       "    <tr>\n",
       "      <th>0</th>\n",
       "      <td>710245730590404608</td>\n",
       "      <td>ttwn sf bay area</td>\n",
       "      <td>power outage in cupertino bayarea traffic</td>\n",
       "      <td>2016-03-16 23:25:52</td>\n",
       "      <td>power outage</td>\n",
       "      <td>San Jose</td>\n",
       "      <td>4.485527e+06</td>\n",
       "      <td>-1.356466e+07</td>\n",
       "      <td>16093.4</td>\n",
       "      <td>2016-01-01</td>\n",
       "      <td>ttwn sf bay area power outage in cupertino bay...</td>\n",
       "      <td>0.33</td>\n",
       "      <td>California</td>\n",
       "    </tr>\n",
       "    <tr>\n",
       "      <th>1</th>\n",
       "      <td>708811502241734656</td>\n",
       "      <td>san jose now</td>\n",
       "      <td>weather alert flash flood watch in bay area am...</td>\n",
       "      <td>2016-03-13 00:26:45</td>\n",
       "      <td>power outage</td>\n",
       "      <td>San Jose</td>\n",
       "      <td>4.485527e+06</td>\n",
       "      <td>-1.356466e+07</td>\n",
       "      <td>16093.4</td>\n",
       "      <td>2016-01-01</td>\n",
       "      <td>san jose now weather alert flash flood watch i...</td>\n",
       "      <td>0.25</td>\n",
       "      <td>California</td>\n",
       "    </tr>\n",
       "    <tr>\n",
       "      <th>2</th>\n",
       "      <td>706856719733776384</td>\n",
       "      <td>san jose now</td>\n",
       "      <td>power outages in san francisco on peninsula in...</td>\n",
       "      <td>2016-03-07 14:59:09</td>\n",
       "      <td>power outage</td>\n",
       "      <td>San Jose</td>\n",
       "      <td>4.485527e+06</td>\n",
       "      <td>-1.356466e+07</td>\n",
       "      <td>16093.4</td>\n",
       "      <td>2016-01-01</td>\n",
       "      <td>san jose now power outages in san francisco on...</td>\n",
       "      <td>0.18</td>\n",
       "      <td>California</td>\n",
       "    </tr>\n",
       "    <tr>\n",
       "      <th>3</th>\n",
       "      <td>726876023573204993</td>\n",
       "      <td>san jose now</td>\n",
       "      <td>power outage in fremont several intersections ...</td>\n",
       "      <td>2016-05-01 20:48:43</td>\n",
       "      <td>power outage</td>\n",
       "      <td>San Jose</td>\n",
       "      <td>4.485527e+06</td>\n",
       "      <td>-1.356466e+07</td>\n",
       "      <td>16093.4</td>\n",
       "      <td>2016-01-01</td>\n",
       "      <td>san jose now power outage in fremont several i...</td>\n",
       "      <td>0.23</td>\n",
       "      <td>California</td>\n",
       "    </tr>\n",
       "    <tr>\n",
       "      <th>4</th>\n",
       "      <td>724681945095888897</td>\n",
       "      <td>san jose now</td>\n",
       "      <td>east bay power outages also affects bart uc be...</td>\n",
       "      <td>2016-04-25 19:30:14</td>\n",
       "      <td>power outage</td>\n",
       "      <td>San Jose</td>\n",
       "      <td>4.485527e+06</td>\n",
       "      <td>-1.356466e+07</td>\n",
       "      <td>16093.4</td>\n",
       "      <td>2016-01-01</td>\n",
       "      <td>san jose now east bay power outages also affec...</td>\n",
       "      <td>0.20</td>\n",
       "      <td>California</td>\n",
       "    </tr>\n",
       "  </tbody>\n",
       "</table>\n",
       "</div>"
      ],
      "text/plain": [
       "             tweet_id          username  \\\n",
       "0  710245730590404608  ttwn sf bay area   \n",
       "1  708811502241734656      san jose now   \n",
       "2  706856719733776384      san jose now   \n",
       "3  726876023573204993      san jose now   \n",
       "4  724681945095888897      san jose now   \n",
       "\n",
       "                                                text          tweet_date  \\\n",
       "0          power outage in cupertino bayarea traffic 2016-03-16 23:25:52   \n",
       "1  weather alert flash flood watch in bay area am... 2016-03-13 00:26:45   \n",
       "2  power outages in san francisco on peninsula in... 2016-03-07 14:59:09   \n",
       "3  power outage in fremont several intersections ... 2016-05-01 20:48:43   \n",
       "4  east bay power outages also affects bart uc be... 2016-04-25 19:30:14   \n",
       "\n",
       "    search_term      city           lat          long   radius query_start  \\\n",
       "0  power outage  San Jose  4.485527e+06 -1.356466e+07  16093.4  2016-01-01   \n",
       "1  power outage  San Jose  4.485527e+06 -1.356466e+07  16093.4  2016-01-01   \n",
       "2  power outage  San Jose  4.485527e+06 -1.356466e+07  16093.4  2016-01-01   \n",
       "3  power outage  San Jose  4.485527e+06 -1.356466e+07  16093.4  2016-01-01   \n",
       "4  power outage  San Jose  4.485527e+06 -1.356466e+07  16093.4  2016-01-01   \n",
       "\n",
       "                                      name_and_tweet  outage_sentiment  \\\n",
       "0  ttwn sf bay area power outage in cupertino bay...              0.33   \n",
       "1  san jose now weather alert flash flood watch i...              0.25   \n",
       "2  san jose now power outages in san francisco on...              0.18   \n",
       "3  san jose now power outage in fremont several i...              0.23   \n",
       "4  san jose now east bay power outages also affec...              0.20   \n",
       "\n",
       "        state  \n",
       "0  California  \n",
       "1  California  \n",
       "2  California  \n",
       "3  California  \n",
       "4  California  "
      ]
     },
     "execution_count": 148,
     "metadata": {},
     "output_type": "execute_result"
    }
   ],
   "source": [
    "map_tweets.head()"
   ]
  },
  {
   "cell_type": "code",
   "execution_count": 149,
   "metadata": {},
   "outputs": [],
   "source": [
    "# separate data \n",
    "\n",
    "high_os = map_tweets[map_tweets['outage_sentiment'] >= .3]\n",
    "low_os = map_tweets[map_tweets['outage_sentiment'] < .3]"
   ]
  },
  {
   "cell_type": "code",
   "execution_count": 171,
   "metadata": {},
   "outputs": [],
   "source": [
    "# https://docs.bokeh.org/en/latest/docs/user_guide/geo.html\n",
    "\n",
    "output_file(\"outage_map.html\")\n",
    "\n",
    "tile_provider = get_provider(CARTODBPOSITRON_RETINA)\n",
    "\n",
    "source = ColumnDataSource(\n",
    "    data=dict(lat=high_os['lat'], # converted latitudes\n",
    "              long=high_os['long'], # converted longitudes \n",
    "              radius=high_os['radius']) # converted radius in meters \n",
    ")\n",
    "\n",
    "# range bounds supplied in web mercator coordinates\n",
    "p = figure(x_range=(-15000000, -6900000), y_range=(2000000, 6500000), # shows US\n",
    "           x_axis_type=\"mercator\", y_axis_type=\"mercator\", title='Power Outages in the United States (Tracked by Tweets)')\n",
    "\n",
    "\n",
    "p.add_tile(tile_provider)\n",
    "\n",
    "\n",
    "p.circle(x=\"long\", y=\"lat\", size = 5, fill_color=\"yellow\", line_color = 'red',line_width=2.5, fill_alpha=0.0, source=source, legend_label='Power Outage', radius=\"radius\")\n",
    "\n",
    "\n",
    "show(p)"
   ]
  },
  {
   "cell_type": "code",
   "execution_count": null,
   "metadata": {},
   "outputs": [],
   "source": []
  }
 ],
 "metadata": {
  "kernelspec": {
   "display_name": "Python 3",
   "language": "python",
   "name": "python3"
  },
  "language_info": {
   "codemirror_mode": {
    "name": "ipython",
    "version": 3
   },
   "file_extension": ".py",
   "mimetype": "text/x-python",
   "name": "python",
   "nbconvert_exporter": "python",
   "pygments_lexer": "ipython3",
   "version": "3.7.6"
  }
 },
 "nbformat": 4,
 "nbformat_minor": 4
}
