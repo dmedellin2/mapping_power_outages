{
 "cells": [
  {
   "cell_type": "markdown",
   "metadata": {},
   "source": [
    "# 03: Identifying Power Outages Using Social Media - Exploratory Data Analysis\n",
    "### Danielle Medellin, Matthew Malone, Omar Smiley"
   ]
  },
  {
   "cell_type": "markdown",
   "metadata": {},
   "source": [
    "## Import Libraries "
   ]
  },
  {
   "cell_type": "code",
   "execution_count": 3,
   "metadata": {},
   "outputs": [],
   "source": [
    "import pandas as pd\n",
    "import numpy as np\n",
    "import matplotlib.pyplot as plt\n",
    "import seaborn as sns\n"
   ]
  },
  {
   "cell_type": "markdown",
   "metadata": {},
   "source": [
    "## Load Data"
   ]
  },
  {
   "cell_type": "code",
   "execution_count": 4,
   "metadata": {},
   "outputs": [],
   "source": [
    "tweets = pd.read_csv('../data/cleaned_tweets.csv')"
   ]
  },
  {
   "cell_type": "code",
   "execution_count": 6,
   "metadata": {},
   "outputs": [
    {
     "data": {
      "text/plain": [
       "(16913, 13)"
      ]
     },
     "execution_count": 6,
     "metadata": {},
     "output_type": "execute_result"
    }
   ],
   "source": [
    "tweets.shape"
   ]
  },
  {
   "cell_type": "code",
   "execution_count": 7,
   "metadata": {},
   "outputs": [
    {
     "data": {
      "text/plain": [
       "tweet_id              int64\n",
       "username             object\n",
       "text                 object\n",
       "tweet_date           object\n",
       "search_term          object\n",
       "city                 object\n",
       "lat                 float64\n",
       "long                float64\n",
       "radius               object\n",
       "query_start          object\n",
       "name_and_tweet       object\n",
       "outage_sentiment    float64\n",
       "state                object\n",
       "dtype: object"
      ]
     },
     "execution_count": 7,
     "metadata": {},
     "output_type": "execute_result"
    }
   ],
   "source": [
    "tweets.dtypes"
   ]
  },
  {
   "cell_type": "code",
   "execution_count": 8,
   "metadata": {},
   "outputs": [],
   "source": [
    "tweets['tweet_date'] = pd.to_datetime(tweets['tweet_date'])"
   ]
  },
  {
   "cell_type": "markdown",
   "metadata": {},
   "source": [
    "## Exploratory Data Analysis"
   ]
  },
  {
   "cell_type": "code",
   "execution_count": 12,
   "metadata": {},
   "outputs": [
    {
     "data": {
      "text/plain": [
       "count    16913.000000\n",
       "mean         0.124359\n",
       "std          0.096824\n",
       "min          0.000000\n",
       "25%          0.060000\n",
       "50%          0.100000\n",
       "75%          0.170000\n",
       "max          1.000000\n",
       "Name: outage_sentiment, dtype: float64"
      ]
     },
     "execution_count": 12,
     "metadata": {},
     "output_type": "execute_result"
    }
   ],
   "source": [
    "tweets['outage_sentiment'].describe()"
   ]
  },
  {
   "cell_type": "markdown",
   "metadata": {},
   "source": [
    "The minimum outage sentiment is 0 while the max is 1. The mean is .124, showing that there is a low average outage sentiment. The 75th percentile is below .2 showing that the overwhelming majority of the tweets have low proportions of words that are associationed with power outages.  "
   ]
  },
  {
   "cell_type": "markdown",
   "metadata": {},
   "source": [
    "### Looking at tweets with extreme outage sentiment"
   ]
  },
  {
   "cell_type": "code",
   "execution_count": 14,
   "metadata": {},
   "outputs": [
    {
     "data": {
      "text/plain": [
       "5315                                          power outage\n",
       "13649                                    this power outage\n",
       "14876    storm update cps reports there are currently  ...\n",
       "Name: text, dtype: object"
      ]
     },
     "execution_count": 14,
     "metadata": {},
     "output_type": "execute_result"
    }
   ],
   "source": [
    "tweets[tweets['outage_sentiment']==1]['text']"
   ]
  },
  {
   "cell_type": "markdown",
   "metadata": {},
   "source": [
    "The first two tweets in this list obviously have high association with power outages because that is literally all the tweet says. It makes sense for these tweets to have an outage sentiment value of 1. "
   ]
  },
  {
   "cell_type": "code",
   "execution_count": 18,
   "metadata": {},
   "outputs": [
    {
     "data": {
      "text/plain": [
       "'storm update cps reports there are currently  power outages affecting  customers in the san antonio area'"
      ]
     },
     "execution_count": 18,
     "metadata": {},
     "output_type": "execute_result"
    }
   ],
   "source": [
    "tweets.loc[14876,['text']][0]"
   ]
  },
  {
   "cell_type": "markdown",
   "metadata": {},
   "source": [
    "Looking at the final tweet with an outage sentiment of 1, we see a tweet that is explicitly describing a power outage in a specific area due to a storm. It, again, makes sense that this tweet would have an outage sentiment of 1 and is a great example of a tweet that would give information about a power outage. "
   ]
  },
  {
   "cell_type": "code",
   "execution_count": 20,
   "metadata": {},
   "outputs": [
    {
     "data": {
      "text/plain": [
       "815"
      ]
     },
     "execution_count": 20,
     "metadata": {},
     "output_type": "execute_result"
    }
   ],
   "source": [
    "len(tweets[tweets['outage_sentiment']==0]['text'])"
   ]
  },
  {
   "cell_type": "code",
   "execution_count": 32,
   "metadata": {},
   "outputs": [
    {
     "data": {
      "text/plain": [
       "16171    im requiem for a dream blu ray unrated directo...\n",
       "16247    ready to see the scariest movie of lightsout  ...\n",
       "16288    justinwells my man ashtonlogan is a beast he h...\n",
       "16301    silas nello qa on new record in todays dallas ...\n",
       "16369    your a voice a crack in the mirror see me now ...\n",
       "16384    bellamy is ready to crash if only someone woul...\n",
       "16397    yall lightsout taking a month off to rest reju...\n",
       "16444    cant stop playing atari and we have discovered...\n",
       "16509    lookin goodout of curiosity can i ask which ri...\n",
       "16542    lacy lying she fucking when the lights go outl...\n",
       "16544    long day at the office whos ready for friday l...\n",
       "16647                         mmmm   innout burger  irving\n",
       "16700    ive never seen a president mess with his own p...\n",
       "16712    cent spoiler alert you are a genius taking a p...\n",
       "16722    when you finally got weekends off and you dont...\n",
       "16734    im so bored i kinda wanna rewatch all of power...\n",
       "16774    power_starz now that was a good ass episode no...\n",
       "16775    most men live off pride and egomost women live...\n",
       "16776    future concert was absolutely electric  off to...\n",
       "16777    traingineer chuck turned the lights down low o...\n",
       "16780    i almost fell off the bird electric scooter la...\n",
       "16781    incredible week of work for hpscotsbaseball ca...\n",
       "16782    djplaymaker_ lying to these people telling the...\n",
       "16785    omg jeffreestar this jawbreaker palette  i use...\n",
       "16786    electric atmosphere at the intercollegiate esp...\n",
       "16787    my first electric six concert is off to an awe...\n",
       "16788    had a good birthday yesterday off to sxsw  bey...\n",
       "16789    did you know that every   seconds an airplane ...\n",
       "16790    nah i was doing flips off them lil electric bo...\n",
       "16792    and  barring a scientific breakthrough we may ...\n",
       "16793    deluxe velvet durag  dark electric forest gree...\n",
       "16794    for first no chargers  nd i do not know one pe...\n",
       "16795    todays canned food donation for irving cares w...\n",
       "16796    heres how you can show appreciation to your sp...\n",
       "16797    to worry about your health even when theyre of...\n",
       "16798    the juice from a regular juice supplier is lik...\n",
       "16799    oh shut up it wasnt acting she said that her s...\n",
       "16800    things like updating home appliances your onli...\n",
       "16801    i purchased a rose gold electric lighter and i...\n",
       "16803    i have a scar from when i fell off an electric...\n",
       "16804    i get to kick off my kobe year under the elect...\n",
       "16805    i know one thing i need to turn all my damn li...\n",
       "16806    im officialy off the waitlist for an edclv tic...\n",
       "16807    great visit with coppellfootball today caught ...\n",
       "16808    rushs first american tour and their first time...\n",
       "16809    weve had such a great time recording at the be...\n",
       "16824    when  stopped writing the show turned lost sub...\n",
       "16844    yes almost feel some way about tommy though lo...\n",
       "16885    you know all this mask wearing is going to rea...\n",
       "16898    just like the great depression what leaders sh...\n",
       "Name: text, dtype: object"
      ]
     },
     "execution_count": 32,
     "metadata": {},
     "output_type": "execute_result"
    }
   ],
   "source": [
    "tweets[tweets['outage_sentiment']==0]['text'].tail(50)"
   ]
  },
  {
   "cell_type": "markdown",
   "metadata": {},
   "source": [
    "There are 815 tweets in the data set that received an outage sentiment score of 0. This means they are expected to have absoluetly no association with power outages. We will spot check a few of these tweets."
   ]
  },
  {
   "cell_type": "code",
   "execution_count": 37,
   "metadata": {},
   "outputs": [
    {
     "data": {
      "text/plain": [
       "'carmen garsia here at the movies to see lightsout they werent kidding where are'"
      ]
     },
     "execution_count": 37,
     "metadata": {},
     "output_type": "execute_result"
    }
   ],
   "source": [
    "tweets.loc[335,['name_and_tweet']][0]"
   ]
  },
  {
   "cell_type": "markdown",
   "metadata": {},
   "source": [
    "The above tweet has the phrase `lightsout` which was part of the search terms that we looked for in our intial scrape. We noticed that this pulled in many tweets about a horror movie, Lights Out, that came out in 2016. For this reason, we removed `lightsout` from our association list and, correctly, identified that tweets like the one above don't actually have any association with a power outage. "
   ]
  },
  {
   "cell_type": "code",
   "execution_count": 38,
   "metadata": {},
   "outputs": [
    {
     "data": {
      "text/plain": [
       "'pahblow i got bills theyre multiplying and im loosing controlcause the powerthey supplyingis gonna get cut off if i dont get my shit together'"
      ]
     },
     "execution_count": 38,
     "metadata": {},
     "output_type": "execute_result"
    }
   ],
   "source": [
    "tweets.loc[1738,['name_and_tweet']][0]"
   ]
  },
  {
   "cell_type": "markdown",
   "metadata": {},
   "source": [
    "The tweet above was pulled into our dataset because of its use of the word `power` and `cut` which were search terms. But after closer analysis of the tweet, we can see the tweet doesn't actually have anything to a power outage, despite the user discussing their power supply and it possibly being shut off. "
   ]
  },
  {
   "cell_type": "code",
   "execution_count": 40,
   "metadata": {},
   "outputs": [
    {
     "data": {
      "text/plain": [
       "'ashley bischoff and  barring a scientific breakthrough we may be a looooong way off from electric planes  \\xa0with current tech an airbus a would need  kg   lbs of batteries to have the same flight rangethats four times the weight of the entire plane'"
      ]
     },
     "execution_count": 40,
     "metadata": {},
     "output_type": "execute_result"
    }
   ],
   "source": [
    "tweets.loc[16792,['name_and_tweet']][0]"
   ]
  },
  {
   "cell_type": "code",
   "execution_count": null,
   "metadata": {},
   "outputs": [],
   "source": [
    "plt.hist(sent_df['outage_sentiment'],color='purple')\n",
    "plt.title('Histogram of Outage Sentiments')\n",
    "plt.xlabel('Outage Sentiment')\n",
    "plt.ylabel('Frequency');"
   ]
  },
  {
   "cell_type": "code",
   "execution_count": null,
   "metadata": {},
   "outputs": [],
   "source": [
    "# adding 1 to each value to be able to log\n",
    "sent_1 = [i+1 for i in sentiments]"
   ]
  },
  {
   "cell_type": "code",
   "execution_count": null,
   "metadata": {},
   "outputs": [],
   "source": [
    "plt.hist(np.log(sent_1),color='pink')\n",
    "plt.title('Histogram of Log of Outage Sentiments')\n",
    "plt.xlabel('Log of Outage Sentiment')\n",
    "plt.ylabel('Frequency');"
   ]
  },
  {
   "cell_type": "code",
   "execution_count": null,
   "metadata": {},
   "outputs": [],
   "source": [
    "tweets.insert(11,column = 'outage_sentiment', value=sentiments, allow_duplicates=False)"
   ]
  },
  {
   "cell_type": "code",
   "execution_count": null,
   "metadata": {},
   "outputs": [],
   "source": [
    "tweets.head()"
   ]
  },
  {
   "cell_type": "code",
   "execution_count": null,
   "metadata": {},
   "outputs": [],
   "source": []
  },
  {
   "cell_type": "code",
   "execution_count": null,
   "metadata": {},
   "outputs": [],
   "source": [
    "plt.boxplot(tweets['outage_sentiment']);"
   ]
  },
  {
   "cell_type": "code",
   "execution_count": null,
   "metadata": {},
   "outputs": [],
   "source": [
    "word_count = []\n",
    "\n",
    "for tweet in corpus:\n",
    "    word_count.append(len(tweet))\n",
    "    \n",
    "np.mean(word_count)"
   ]
  },
  {
   "cell_type": "code",
   "execution_count": null,
   "metadata": {},
   "outputs": [],
   "source": [
    "lengths = []\n",
    "\n",
    "for tweet in tweets['text']:\n",
    "    lengths.append(len(tweet))\n",
    "    \n",
    "np.mean(lengths)"
   ]
  }
 ],
 "metadata": {
  "kernelspec": {
   "display_name": "Python 3",
   "language": "python",
   "name": "python3"
  },
  "language_info": {
   "codemirror_mode": {
    "name": "ipython",
    "version": 3
   },
   "file_extension": ".py",
   "mimetype": "text/x-python",
   "name": "python",
   "nbconvert_exporter": "python",
   "pygments_lexer": "ipython3",
   "version": "3.7.6"
  }
 },
 "nbformat": 4,
 "nbformat_minor": 4
}
