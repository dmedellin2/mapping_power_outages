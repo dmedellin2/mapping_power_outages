{
 "cells": [
  {
   "cell_type": "markdown",
   "metadata": {},
   "source": [
    "# 03: Identifying Power Outages Using Social Media - Exploratory Data Analysis\n",
    "### Danielle Medellin, Matthew Malone, Omar Smiley"
   ]
  },
  {
   "cell_type": "markdown",
   "metadata": {},
   "source": [
    "## Import Libraries "
   ]
  },
  {
   "cell_type": "code",
   "execution_count": 3,
   "metadata": {},
   "outputs": [],
   "source": [
    "import pandas as pd\n",
    "import numpy as np\n",
    "import matplotlib.pyplot as plt\n",
    "import seaborn as sns\n"
   ]
  },
  {
   "cell_type": "markdown",
   "metadata": {},
   "source": [
    "## Load Data"
   ]
  },
  {
   "cell_type": "code",
   "execution_count": 4,
   "metadata": {},
   "outputs": [],
   "source": [
    "tweets = pd.read_csv('../data/cleaned_tweets.csv')"
   ]
  },
  {
   "cell_type": "code",
   "execution_count": 54,
   "metadata": {},
   "outputs": [
    {
     "data": {
      "text/html": [
       "<div>\n",
       "<style scoped>\n",
       "    .dataframe tbody tr th:only-of-type {\n",
       "        vertical-align: middle;\n",
       "    }\n",
       "\n",
       "    .dataframe tbody tr th {\n",
       "        vertical-align: top;\n",
       "    }\n",
       "\n",
       "    .dataframe thead th {\n",
       "        text-align: right;\n",
       "    }\n",
       "</style>\n",
       "<table border=\"1\" class=\"dataframe\">\n",
       "  <thead>\n",
       "    <tr style=\"text-align: right;\">\n",
       "      <th></th>\n",
       "      <th>tweet_id</th>\n",
       "      <th>username</th>\n",
       "      <th>text</th>\n",
       "      <th>tweet_date</th>\n",
       "      <th>search_term</th>\n",
       "      <th>city</th>\n",
       "      <th>lat</th>\n",
       "      <th>long</th>\n",
       "      <th>radius</th>\n",
       "      <th>query_start</th>\n",
       "      <th>name_and_tweet</th>\n",
       "      <th>outage_sentiment</th>\n",
       "      <th>state</th>\n",
       "    </tr>\n",
       "  </thead>\n",
       "  <tbody>\n",
       "    <tr>\n",
       "      <th>0</th>\n",
       "      <td>710245730590404608</td>\n",
       "      <td>ttwn sf bay area</td>\n",
       "      <td>power outage in cupertino bayarea traffic</td>\n",
       "      <td>2016-03-16 23:25:52</td>\n",
       "      <td>power outage</td>\n",
       "      <td>San Jose</td>\n",
       "      <td>37.3323</td>\n",
       "      <td>-121.853394</td>\n",
       "      <td>10mi</td>\n",
       "      <td>2016-01-01</td>\n",
       "      <td>ttwn sf bay area power outage in cupertino bay...</td>\n",
       "      <td>0.33</td>\n",
       "      <td>California</td>\n",
       "    </tr>\n",
       "    <tr>\n",
       "      <th>1</th>\n",
       "      <td>708811502241734656</td>\n",
       "      <td>san jose now</td>\n",
       "      <td>weather alert flash flood watch in bay area am...</td>\n",
       "      <td>2016-03-13 00:26:45</td>\n",
       "      <td>power outage</td>\n",
       "      <td>San Jose</td>\n",
       "      <td>37.3323</td>\n",
       "      <td>-121.853394</td>\n",
       "      <td>10mi</td>\n",
       "      <td>2016-01-01</td>\n",
       "      <td>san jose now weather alert flash flood watch i...</td>\n",
       "      <td>0.25</td>\n",
       "      <td>California</td>\n",
       "    </tr>\n",
       "    <tr>\n",
       "      <th>2</th>\n",
       "      <td>706856719733776384</td>\n",
       "      <td>san jose now</td>\n",
       "      <td>power outages in san francisco on peninsula in...</td>\n",
       "      <td>2016-03-07 14:59:09</td>\n",
       "      <td>power outage</td>\n",
       "      <td>San Jose</td>\n",
       "      <td>37.3323</td>\n",
       "      <td>-121.853394</td>\n",
       "      <td>10mi</td>\n",
       "      <td>2016-01-01</td>\n",
       "      <td>san jose now power outages in san francisco on...</td>\n",
       "      <td>0.18</td>\n",
       "      <td>California</td>\n",
       "    </tr>\n",
       "    <tr>\n",
       "      <th>3</th>\n",
       "      <td>726876023573204993</td>\n",
       "      <td>san jose now</td>\n",
       "      <td>power outage in fremont several intersections ...</td>\n",
       "      <td>2016-05-01 20:48:43</td>\n",
       "      <td>power outage</td>\n",
       "      <td>San Jose</td>\n",
       "      <td>37.3323</td>\n",
       "      <td>-121.853394</td>\n",
       "      <td>10mi</td>\n",
       "      <td>2016-01-01</td>\n",
       "      <td>san jose now power outage in fremont several i...</td>\n",
       "      <td>0.23</td>\n",
       "      <td>California</td>\n",
       "    </tr>\n",
       "    <tr>\n",
       "      <th>4</th>\n",
       "      <td>724681945095888897</td>\n",
       "      <td>san jose now</td>\n",
       "      <td>east bay power outages also affects bart uc be...</td>\n",
       "      <td>2016-04-25 19:30:14</td>\n",
       "      <td>power outage</td>\n",
       "      <td>San Jose</td>\n",
       "      <td>37.3323</td>\n",
       "      <td>-121.853394</td>\n",
       "      <td>10mi</td>\n",
       "      <td>2016-01-01</td>\n",
       "      <td>san jose now east bay power outages also affec...</td>\n",
       "      <td>0.20</td>\n",
       "      <td>California</td>\n",
       "    </tr>\n",
       "  </tbody>\n",
       "</table>\n",
       "</div>"
      ],
      "text/plain": [
       "             tweet_id          username  \\\n",
       "0  710245730590404608  ttwn sf bay area   \n",
       "1  708811502241734656      san jose now   \n",
       "2  706856719733776384      san jose now   \n",
       "3  726876023573204993      san jose now   \n",
       "4  724681945095888897      san jose now   \n",
       "\n",
       "                                                text          tweet_date  \\\n",
       "0          power outage in cupertino bayarea traffic 2016-03-16 23:25:52   \n",
       "1  weather alert flash flood watch in bay area am... 2016-03-13 00:26:45   \n",
       "2  power outages in san francisco on peninsula in... 2016-03-07 14:59:09   \n",
       "3  power outage in fremont several intersections ... 2016-05-01 20:48:43   \n",
       "4  east bay power outages also affects bart uc be... 2016-04-25 19:30:14   \n",
       "\n",
       "    search_term      city      lat        long radius query_start  \\\n",
       "0  power outage  San Jose  37.3323 -121.853394   10mi  2016-01-01   \n",
       "1  power outage  San Jose  37.3323 -121.853394   10mi  2016-01-01   \n",
       "2  power outage  San Jose  37.3323 -121.853394   10mi  2016-01-01   \n",
       "3  power outage  San Jose  37.3323 -121.853394   10mi  2016-01-01   \n",
       "4  power outage  San Jose  37.3323 -121.853394   10mi  2016-01-01   \n",
       "\n",
       "                                      name_and_tweet  outage_sentiment  \\\n",
       "0  ttwn sf bay area power outage in cupertino bay...              0.33   \n",
       "1  san jose now weather alert flash flood watch i...              0.25   \n",
       "2  san jose now power outages in san francisco on...              0.18   \n",
       "3  san jose now power outage in fremont several i...              0.23   \n",
       "4  san jose now east bay power outages also affec...              0.20   \n",
       "\n",
       "        state  \n",
       "0  California  \n",
       "1  California  \n",
       "2  California  \n",
       "3  California  \n",
       "4  California  "
      ]
     },
     "execution_count": 54,
     "metadata": {},
     "output_type": "execute_result"
    }
   ],
   "source": [
    "tweets.head()"
   ]
  },
  {
   "cell_type": "code",
   "execution_count": 6,
   "metadata": {},
   "outputs": [
    {
     "data": {
      "text/plain": [
       "(16913, 13)"
      ]
     },
     "execution_count": 6,
     "metadata": {},
     "output_type": "execute_result"
    }
   ],
   "source": [
    "tweets.shape"
   ]
  },
  {
   "cell_type": "code",
   "execution_count": 7,
   "metadata": {},
   "outputs": [
    {
     "data": {
      "text/plain": [
       "tweet_id              int64\n",
       "username             object\n",
       "text                 object\n",
       "tweet_date           object\n",
       "search_term          object\n",
       "city                 object\n",
       "lat                 float64\n",
       "long                float64\n",
       "radius               object\n",
       "query_start          object\n",
       "name_and_tweet       object\n",
       "outage_sentiment    float64\n",
       "state                object\n",
       "dtype: object"
      ]
     },
     "execution_count": 7,
     "metadata": {},
     "output_type": "execute_result"
    }
   ],
   "source": [
    "tweets.dtypes"
   ]
  },
  {
   "cell_type": "code",
   "execution_count": 8,
   "metadata": {},
   "outputs": [],
   "source": [
    "tweets['tweet_date'] = pd.to_datetime(tweets['tweet_date'])"
   ]
  },
  {
   "cell_type": "markdown",
   "metadata": {},
   "source": [
    "## Exploratory Data Analysis"
   ]
  },
  {
   "cell_type": "code",
   "execution_count": 12,
   "metadata": {},
   "outputs": [
    {
     "data": {
      "text/plain": [
       "count    16913.000000\n",
       "mean         0.124359\n",
       "std          0.096824\n",
       "min          0.000000\n",
       "25%          0.060000\n",
       "50%          0.100000\n",
       "75%          0.170000\n",
       "max          1.000000\n",
       "Name: outage_sentiment, dtype: float64"
      ]
     },
     "execution_count": 12,
     "metadata": {},
     "output_type": "execute_result"
    }
   ],
   "source": [
    "tweets['outage_sentiment'].describe()"
   ]
  },
  {
   "cell_type": "markdown",
   "metadata": {},
   "source": [
    "The minimum outage sentiment is 0 while the max is 1. The mean is .124, showing that there is a low average outage sentiment. The 75th percentile is below .2 showing that the overwhelming majority of the tweets have low proportions of words that are associationed with power outages.  "
   ]
  },
  {
   "cell_type": "markdown",
   "metadata": {},
   "source": [
    "### Looking at tweets with extreme outage sentiment"
   ]
  },
  {
   "cell_type": "code",
   "execution_count": 14,
   "metadata": {},
   "outputs": [
    {
     "data": {
      "text/plain": [
       "5315                                          power outage\n",
       "13649                                    this power outage\n",
       "14876    storm update cps reports there are currently  ...\n",
       "Name: text, dtype: object"
      ]
     },
     "execution_count": 14,
     "metadata": {},
     "output_type": "execute_result"
    }
   ],
   "source": [
    "tweets[tweets['outage_sentiment']==1]['text']"
   ]
  },
  {
   "cell_type": "markdown",
   "metadata": {},
   "source": [
    "The first two tweets in this list obviously have high association with power outages because that is literally all the tweet says. It makes sense for these tweets to have an outage sentiment value of 1. "
   ]
  },
  {
   "cell_type": "code",
   "execution_count": 18,
   "metadata": {},
   "outputs": [
    {
     "data": {
      "text/plain": [
       "'storm update cps reports there are currently  power outages affecting  customers in the san antonio area'"
      ]
     },
     "execution_count": 18,
     "metadata": {},
     "output_type": "execute_result"
    }
   ],
   "source": [
    "tweets.loc[14876,['text']][0]"
   ]
  },
  {
   "cell_type": "markdown",
   "metadata": {},
   "source": [
    "Looking at the final tweet with an outage sentiment of 1, we see a tweet that is explicitly describing a power outage in a specific area due to a storm. It, again, makes sense that this tweet would have an outage sentiment of 1 and is a great example of a tweet that would give information about a power outage. "
   ]
  },
  {
   "cell_type": "code",
   "execution_count": 20,
   "metadata": {},
   "outputs": [
    {
     "data": {
      "text/plain": [
       "815"
      ]
     },
     "execution_count": 20,
     "metadata": {},
     "output_type": "execute_result"
    }
   ],
   "source": [
    "len(tweets[tweets['outage_sentiment']==0]['text'])"
   ]
  },
  {
   "cell_type": "markdown",
   "metadata": {},
   "source": [
    "There are 815 tweets in the data set that received an outage sentiment score of 0. This means they are expected to have absoluetly no association with power outages. We will spot check a few of these tweets."
   ]
  },
  {
   "cell_type": "code",
   "execution_count": 37,
   "metadata": {},
   "outputs": [
    {
     "data": {
      "text/plain": [
       "'carmen garsia here at the movies to see lightsout they werent kidding where are'"
      ]
     },
     "execution_count": 37,
     "metadata": {},
     "output_type": "execute_result"
    }
   ],
   "source": [
    "tweets.loc[335,['name_and_tweet']][0]"
   ]
  },
  {
   "cell_type": "markdown",
   "metadata": {},
   "source": [
    "The above tweet has the phrase `lightsout` which was part of the search terms that we looked for in our intial scrape. We noticed that this pulled in many tweets about a horror movie, Lights Out, that came out in 2016. For this reason, we removed `lightsout` from our association list and, correctly, identified that tweets like the one above don't actually have any association with a power outage. "
   ]
  },
  {
   "cell_type": "code",
   "execution_count": 38,
   "metadata": {},
   "outputs": [
    {
     "data": {
      "text/plain": [
       "'pahblow i got bills theyre multiplying and im loosing controlcause the powerthey supplyingis gonna get cut off if i dont get my shit together'"
      ]
     },
     "execution_count": 38,
     "metadata": {},
     "output_type": "execute_result"
    }
   ],
   "source": [
    "tweets.loc[1738,['name_and_tweet']][0]"
   ]
  },
  {
   "cell_type": "markdown",
   "metadata": {},
   "source": [
    "The tweet above was pulled into our dataset because of its use of the word `power` and `cut` which were search terms. But after closer analysis of the tweet, we can see the tweet doesn't actually have anything to a power outage, despite the user discussing their power supply and it possibly being shut off. "
   ]
  },
  {
   "cell_type": "code",
   "execution_count": 41,
   "metadata": {},
   "outputs": [
    {
     "data": {
      "text/plain": [
       "'performance course incredible week of work for hpscotsbaseball capped off by an electric competition daycompete in preparation dominate in performanceso to our s of the week the legend drake  homerun sterling   at highland park high school'"
      ]
     },
     "execution_count": 41,
     "metadata": {},
     "output_type": "execute_result"
    }
   ],
   "source": [
    "tweets.loc[16781,['name_and_tweet']][0]"
   ]
  },
  {
   "cell_type": "markdown",
   "metadata": {},
   "source": [
    "The above tweet was pulled into our dataset for its use of the word `electric`, but obviously has nothing to do with power outages or electricity. It is valid that this tweet has an outage sentiment of 0. "
   ]
  },
  {
   "cell_type": "code",
   "execution_count": 50,
   "metadata": {},
   "outputs": [
    {
     "data": {
      "image/png": "[encoded data removed]",
      "text/plain": [
       "<Figure size 432x288 with 1 Axes>"
      ]
     },
     "metadata": {
      "needs_background": "light"
     },
     "output_type": "display_data"
    }
   ],
   "source": [
    "plt.hist(tweets['outage_sentiment'],color='purple')\n",
    "plt.title('Distribution of Outage Sentiments', size = 15)\n",
    "plt.xlabel('Outage Sentiment', size=12)\n",
    "plt.ylabel('Frequency',size=12);"
   ]
  },
  {
   "cell_type": "markdown",
   "metadata": {},
   "source": [
    "Above is the distribution of outage sentiment values for all tweets. The data is right skewed with a majority of the data falling below 0.2. As outage sentiment increases, the amount of tweets with that value decreases. Most of the tweets we found did not have strong associations to power outages. "
   ]
  },
  {
   "cell_type": "code",
   "execution_count": 51,
   "metadata": {},
   "outputs": [
    {
     "data": {
      "image/png": "[encoded data removed]",
      "text/plain": [
       "<Figure size 432x288 with 1 Axes>"
      ]
     },
     "metadata": {
      "needs_background": "light"
     },
     "output_type": "display_data"
    }
   ],
   "source": [
    "boxplot = sns.boxplot(tweets['outage_sentiment'])\n",
    "boxplot.set(xlabel='Outage Sentiment',title='Distribution of Outage Sentiments');"
   ]
  },
  {
   "cell_type": "markdown",
   "metadata": {},
   "source": [
    "Again, we see that the majority of the data has a low outage sentiment value. As the outage sentiment value increases, the amount of tweets with that value decreases. Based on what we have observed, a tweet with an outage sentiment value of .3 or above should qualify as as valid tweet discussing a power outage. "
   ]
  },
  {
   "cell_type": "code",
   "execution_count": 59,
   "metadata": {},
   "outputs": [
    {
     "data": {
      "text/html": [
       "<div>\n",
       "<style scoped>\n",
       "    .dataframe tbody tr th:only-of-type {\n",
       "        vertical-align: middle;\n",
       "    }\n",
       "\n",
       "    .dataframe tbody tr th {\n",
       "        vertical-align: top;\n",
       "    }\n",
       "\n",
       "    .dataframe thead th {\n",
       "        text-align: right;\n",
       "    }\n",
       "</style>\n",
       "<table border=\"1\" class=\"dataframe\">\n",
       "  <thead>\n",
       "    <tr style=\"text-align: right;\">\n",
       "      <th></th>\n",
       "      <th>tweet_id</th>\n",
       "      <th>username</th>\n",
       "      <th>text</th>\n",
       "      <th>tweet_date</th>\n",
       "      <th>search_term</th>\n",
       "      <th>city</th>\n",
       "      <th>lat</th>\n",
       "      <th>long</th>\n",
       "      <th>radius</th>\n",
       "      <th>query_start</th>\n",
       "      <th>name_and_tweet</th>\n",
       "      <th>outage_sentiment</th>\n",
       "      <th>state</th>\n",
       "    </tr>\n",
       "  </thead>\n",
       "  <tbody>\n",
       "  </tbody>\n",
       "</table>\n",
       "</div>"
      ],
      "text/plain": [
       "Empty DataFrame\n",
       "Columns: [tweet_id, username, text, tweet_date, search_term, city, lat, long, radius, query_start, name_and_tweet, outage_sentiment, state]\n",
       "Index: []"
      ]
     },
     "execution_count": 59,
     "metadata": {},
     "output_type": "execute_result"
    }
   ],
   "source": [
    "tweets[tweets['city']=='Cleveland']"
   ]
  },
  {
   "cell_type": "code",
   "execution_count": 53,
   "metadata": {},
   "outputs": [
    {
     "data": {
      "text/plain": [
       "California    4814\n",
       "Texas         3326\n",
       "New York      3019\n",
       "Michigan      2204\n",
       "Name: state, dtype: int64"
      ]
     },
     "execution_count": 53,
     "metadata": {},
     "output_type": "execute_result"
    }
   ],
   "source": [
    "tweets['state'].value_counts()"
   ]
  },
  {
   "cell_type": "code",
   "execution_count": null,
   "metadata": {},
   "outputs": [],
   "source": [
    "lengths = []\n",
    "\n",
    "for tweet in tweets['text']:\n",
    "    lengths.append(len(tweet))\n",
    "    \n",
    "np.mean(lengths)"
   ]
  }
 ],
 "metadata": {
  "kernelspec": {
   "display_name": "Python 3",
   "language": "python",
   "name": "python3"
  },
  "language_info": {
   "codemirror_mode": {
    "name": "ipython",
    "version": 3
   },
   "file_extension": ".py",
   "mimetype": "text/x-python",
   "name": "python",
   "nbconvert_exporter": "python",
   "pygments_lexer": "ipython3",
   "version": "3.7.6"
  }
 },
 "nbformat": 4,
 "nbformat_minor": 4
}
