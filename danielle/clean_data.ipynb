{
 "cells": [
  {
   "cell_type": "markdown",
   "metadata": {},
   "source": [
    "# Data Import"
   ]
  },
  {
   "cell_type": "markdown",
   "metadata": {},
   "source": [
    "[Word2Vec](https://pathmind.com/wiki/word2vec)\n",
    "\n",
    "[More Word2Vec](https://kavita-ganesan.com/gensim-word2vec-tutorial-starter-code/#.XrtY6xNKiRs)"
   ]
  },
  {
   "cell_type": "markdown",
   "metadata": {},
   "source": [
    "# Load in datasets"
   ]
  },
  {
   "cell_type": "code",
   "execution_count": 316,
   "metadata": {},
   "outputs": [],
   "source": [
    "import pandas as pd\n",
    "import re\n",
    "import string\n",
    "from nltk.corpus import stopwords\n",
    "import numpy as np\n",
    "import matplotlib.pyplot as plt"
   ]
  },
  {
   "cell_type": "code",
   "execution_count": 30,
   "metadata": {},
   "outputs": [
    {
     "data": {
      "text/html": [
       "<div>\n",
       "<style scoped>\n",
       "    .dataframe tbody tr th:only-of-type {\n",
       "        vertical-align: middle;\n",
       "    }\n",
       "\n",
       "    .dataframe tbody tr th {\n",
       "        vertical-align: top;\n",
       "    }\n",
       "\n",
       "    .dataframe thead th {\n",
       "        text-align: right;\n",
       "    }\n",
       "</style>\n",
       "<table border=\"1\" class=\"dataframe\">\n",
       "  <thead>\n",
       "    <tr style=\"text-align: right;\">\n",
       "      <th></th>\n",
       "      <th>tweet_id</th>\n",
       "      <th>username</th>\n",
       "      <th>text</th>\n",
       "      <th>tweet_date</th>\n",
       "      <th>search_term</th>\n",
       "      <th>city</th>\n",
       "      <th>lat</th>\n",
       "      <th>long</th>\n",
       "      <th>radius</th>\n",
       "      <th>query_start</th>\n",
       "    </tr>\n",
       "  </thead>\n",
       "  <tbody>\n",
       "    <tr>\n",
       "      <th>0</th>\n",
       "      <td>710245730590404608</td>\n",
       "      <td>TTWN SF Bay Area</td>\n",
       "      <td>Power outage in Cupertino #BayArea #Traffic ht...</td>\n",
       "      <td>2016-03-16 23:25:52</td>\n",
       "      <td>power outage</td>\n",
       "      <td>San Jose</td>\n",
       "      <td>37.3323</td>\n",
       "      <td>-121.853394</td>\n",
       "      <td>10mi</td>\n",
       "      <td>2016-01-01</td>\n",
       "    </tr>\n",
       "    <tr>\n",
       "      <th>1</th>\n",
       "      <td>708811502241734656</td>\n",
       "      <td>San Jose Now</td>\n",
       "      <td>WEATHER ALERT: Flash flood watch in Bay Area a...</td>\n",
       "      <td>2016-03-13 00:26:45</td>\n",
       "      <td>power outage</td>\n",
       "      <td>San Jose</td>\n",
       "      <td>37.3323</td>\n",
       "      <td>-121.853394</td>\n",
       "      <td>10mi</td>\n",
       "      <td>2016-01-01</td>\n",
       "    </tr>\n",
       "    <tr>\n",
       "      <th>2</th>\n",
       "      <td>706856719733776384</td>\n",
       "      <td>San Jose Now</td>\n",
       "      <td>Power outages:30 in San Francisco154 on Penins...</td>\n",
       "      <td>2016-03-07 14:59:09</td>\n",
       "      <td>power outage</td>\n",
       "      <td>San Jose</td>\n",
       "      <td>37.3323</td>\n",
       "      <td>-121.853394</td>\n",
       "      <td>10mi</td>\n",
       "      <td>2016-01-01</td>\n",
       "    </tr>\n",
       "    <tr>\n",
       "      <th>3</th>\n",
       "      <td>726876023573204993</td>\n",
       "      <td>San Jose Now</td>\n",
       "      <td>Power outage in Fremont. Several intersections...</td>\n",
       "      <td>2016-05-01 20:48:43</td>\n",
       "      <td>power outage</td>\n",
       "      <td>San Jose</td>\n",
       "      <td>37.3323</td>\n",
       "      <td>-121.853394</td>\n",
       "      <td>10mi</td>\n",
       "      <td>2016-01-01</td>\n",
       "    </tr>\n",
       "    <tr>\n",
       "      <th>4</th>\n",
       "      <td>724681945095888897</td>\n",
       "      <td>San Jose Now</td>\n",
       "      <td>East Bay power outages also affects BART, UC B...</td>\n",
       "      <td>2016-04-25 19:30:14</td>\n",
       "      <td>power outage</td>\n",
       "      <td>San Jose</td>\n",
       "      <td>37.3323</td>\n",
       "      <td>-121.853394</td>\n",
       "      <td>10mi</td>\n",
       "      <td>2016-01-01</td>\n",
       "    </tr>\n",
       "  </tbody>\n",
       "</table>\n",
       "</div>"
      ],
      "text/plain": [
       "             tweet_id          username  \\\n",
       "0  710245730590404608  TTWN SF Bay Area   \n",
       "1  708811502241734656      San Jose Now   \n",
       "2  706856719733776384      San Jose Now   \n",
       "3  726876023573204993      San Jose Now   \n",
       "4  724681945095888897      San Jose Now   \n",
       "\n",
       "                                                text           tweet_date  \\\n",
       "0  Power outage in Cupertino #BayArea #Traffic ht...  2016-03-16 23:25:52   \n",
       "1  WEATHER ALERT: Flash flood watch in Bay Area a...  2016-03-13 00:26:45   \n",
       "2  Power outages:30 in San Francisco154 on Penins...  2016-03-07 14:59:09   \n",
       "3  Power outage in Fremont. Several intersections...  2016-05-01 20:48:43   \n",
       "4  East Bay power outages also affects BART, UC B...  2016-04-25 19:30:14   \n",
       "\n",
       "    search_term      city      lat        long radius query_start  \n",
       "0  power outage  San Jose  37.3323 -121.853394   10mi  2016-01-01  \n",
       "1  power outage  San Jose  37.3323 -121.853394   10mi  2016-01-01  \n",
       "2  power outage  San Jose  37.3323 -121.853394   10mi  2016-01-01  \n",
       "3  power outage  San Jose  37.3323 -121.853394   10mi  2016-01-01  \n",
       "4  power outage  San Jose  37.3323 -121.853394   10mi  2016-01-01  "
      ]
     },
     "execution_count": 30,
     "metadata": {},
     "output_type": "execute_result"
    }
   ],
   "source": [
    "\n",
    "\n",
    "cali = pd.read_csv('../data/scrape_dm_cali.csv')\n",
    "\n",
    "mich = pd.read_csv('../data/scrape_dm_mich.csv')\n",
    "\n",
    "ny = pd.read_csv('../data/scrape_dm_ny.csv')\n",
    "\n",
    "ohio = pd.read_csv('../data/scrape_dm_ohio.csv')\n",
    "\n",
    "texas = pd.read_csv('../data/scrape_dm_texas.csv')\n",
    "\n",
    "tweets = pd.concat([cali, mich, ny, ohio, texas])\n",
    "\n",
    "tweets.head()"
   ]
  },
  {
   "cell_type": "markdown",
   "metadata": {},
   "source": [
    "## Data Cleaning"
   ]
  },
  {
   "cell_type": "code",
   "execution_count": 31,
   "metadata": {},
   "outputs": [
    {
     "data": {
      "text/plain": [
       "(20100, 10)"
      ]
     },
     "execution_count": 31,
     "metadata": {},
     "output_type": "execute_result"
    }
   ],
   "source": [
    "tweets.shape"
   ]
  },
  {
   "cell_type": "code",
   "execution_count": 32,
   "metadata": {},
   "outputs": [],
   "source": [
    "tweets.drop_duplicates(inplace=True)"
   ]
  },
  {
   "cell_type": "code",
   "execution_count": 33,
   "metadata": {},
   "outputs": [
    {
     "data": {
      "text/plain": [
       "(16913, 10)"
      ]
     },
     "execution_count": 33,
     "metadata": {},
     "output_type": "execute_result"
    }
   ],
   "source": [
    "tweets.shape"
   ]
  },
  {
   "cell_type": "code",
   "execution_count": 34,
   "metadata": {},
   "outputs": [],
   "source": [
    "tweets.reset_index(inplace= True)"
   ]
  },
  {
   "cell_type": "code",
   "execution_count": 35,
   "metadata": {},
   "outputs": [
    {
     "data": {
      "text/plain": [
       "index          0\n",
       "tweet_id       0\n",
       "username       0\n",
       "text           0\n",
       "tweet_date     0\n",
       "search_term    0\n",
       "city           0\n",
       "lat            0\n",
       "long           0\n",
       "radius         0\n",
       "query_start    0\n",
       "dtype: int64"
      ]
     },
     "execution_count": 35,
     "metadata": {},
     "output_type": "execute_result"
    }
   ],
   "source": [
    "tweets.isnull().sum()"
   ]
  },
  {
   "cell_type": "markdown",
   "metadata": {},
   "source": [
    "## Function to clean tweets & usernames"
   ]
  },
  {
   "cell_type": "code",
   "execution_count": 36,
   "metadata": {},
   "outputs": [],
   "source": [
    "def clean_str(string):\n",
    "    string = string.lower()\n",
    "    url_pattern = r'((http|ftp|https):\\/\\/)?[\\w\\-_]+(\\.[\\w\\-_]+)+([\\w\\-\\.,@?^=%&amp;:/~\\+#]*[\\w\\-\\@?^=%&amp;/~\\+#])?'\n",
    "    string = re.sub(url_pattern, ' ', string)\n",
    "    string = re.sub(r\"\\n\", \"\", string)    \n",
    "    string = re.sub(r\"\\r\", \"\", string) \n",
    "    string = re.sub(r\"[0-9]+\", \"\", string)\n",
    "    string = re.sub(r'[^\\w\\s]','', string)    \n",
    "    \n",
    "    return string.strip()"
   ]
  },
  {
   "cell_type": "code",
   "execution_count": 37,
   "metadata": {},
   "outputs": [],
   "source": [
    "tweets['text'] = tweets['text'].map(clean_str)\n",
    "tweets['username'] = tweets['username'].map(clean_str)"
   ]
  },
  {
   "cell_type": "code",
   "execution_count": 38,
   "metadata": {},
   "outputs": [],
   "source": [
    "# making new column with username + tweet\n",
    "tweets['name_and_tweet'] = tweets['username'] + \" \" +tweets['text']"
   ]
  },
  {
   "cell_type": "markdown",
   "metadata": {},
   "source": [
    "## Word2Vec Stuff"
   ]
  },
  {
   "cell_type": "code",
   "execution_count": 39,
   "metadata": {},
   "outputs": [],
   "source": [
    "# Import Word2Vec\n",
    "from gensim.models.word2vec import Word2Vec\n"
   ]
  },
  {
   "cell_type": "code",
   "execution_count": 151,
   "metadata": {},
   "outputs": [],
   "source": [
    "# turning cleaned tweets into list of lists\n",
    "\n",
    "def tweet_to_words(tweets):\n",
    "    # empty list of tweets\n",
    "    list_of_tweets = []\n",
    "    \n",
    "    # make tweet into list of words\n",
    "    for tweet in tweets:\n",
    "        tweet = tweet.split()\n",
    "    \n",
    "        # list of stop words\n",
    "        stops = ['los','angeles','san','diego','jose','columbus','cleveland',\n",
    "             'cincinatti','detroit','ann','arbor','warren','new','york',\n",
    "             'ny','buffalo','rochester','michigan','california','ohio','texas',\n",
    "            'st','amc','scott','schudlich','finnished','de','antonio','la','houston',\n",
    "                 'dallas', 'santa', 'ana', 'clara', 'grand', 'rapids', 'kearny','mesa',\n",
    "                'peticolas','christmas']\n",
    "    \n",
    "        # Remove stopwords.\n",
    "        meaningful_tweet = [w for w in tweet if not w in stops]\n",
    "    \n",
    "        # add tweet to big list\n",
    "        list_of_tweets.append(meaningful_tweet)\n",
    "\n",
    "    return list_of_tweets"
   ]
  },
  {
   "cell_type": "code",
   "execution_count": 152,
   "metadata": {},
   "outputs": [],
   "source": [
    "# making corpus\n",
    "corpus = tweet_to_words(tweets['name_and_tweet'])"
   ]
  },
  {
   "cell_type": "code",
   "execution_count": 153,
   "metadata": {},
   "outputs": [],
   "source": [
    "\n",
    "# # Train a model! \n",
    "model = Word2Vec(corpus,      # Corpus of data.\n",
    "                  size=150,    # How many dimensions do you want in your word vector?\n",
    "                  window=5,    # How many \"context words\" do you want?\n",
    "                  min_count=3, # Ignores words below this threshold.\n",
    "                  sg=1,        # SG = 1 uses SkipGram, SG = 0 uses CBOW (default).\n",
    "                  workers=4)   # Number of \"worker threads\" to use (parallelizes process).\n",
    "\n",
    "# # Do what you'd like to do with your data!\n",
    "# model.most_similar(\"car\")"
   ]
  },
  {
   "cell_type": "markdown",
   "metadata": {},
   "source": [
    "## Testing out words"
   ]
  },
  {
   "cell_type": "code",
   "execution_count": 99,
   "metadata": {},
   "outputs": [
    {
     "name": "stderr",
     "output_type": "stream",
     "text": [
      "/opt/anaconda3/envs/dsi/lib/python3.7/site-packages/ipykernel_launcher.py:1: DeprecationWarning: Call to deprecated `most_similar` (Method will be removed in 4.0.0, use self.wv.most_similar() instead).\n",
      "  \"\"\"Entry point for launching an IPython kernel.\n"
     ]
    },
    {
     "data": {
      "text/plain": [
       "[('aep', 0.9570109844207764),\n",
       " ('currently', 0.9534438848495483),\n",
       " ('reported', 0.9530239105224609),\n",
       " ('update', 0.9519146680831909),\n",
       " ('widespread', 0.950791597366333),\n",
       " ('wind', 0.9502784013748169),\n",
       " ('planned', 0.9488312602043152),\n",
       " ('experiencing', 0.9479764699935913),\n",
       " ('affecting', 0.9418179392814636),\n",
       " ('news', 0.9389858841896057)]"
      ]
     },
     "execution_count": 99,
     "metadata": {},
     "output_type": "execute_result"
    }
   ],
   "source": [
    "model.most_similar('dte')"
   ]
  },
  {
   "cell_type": "code",
   "execution_count": 154,
   "metadata": {},
   "outputs": [
    {
     "name": "stderr",
     "output_type": "stream",
     "text": [
      "/opt/anaconda3/envs/dsi/lib/python3.7/site-packages/ipykernel_launcher.py:1: DeprecationWarning: Call to deprecated `most_similar` (Method will be removed in 4.0.0, use self.wv.most_similar() instead).\n",
      "  \"\"\"Entry point for launching an IPython kernel.\n"
     ]
    },
    {
     "data": {
      "text/plain": [
       "[('customers', 0.8135694861412048),\n",
       " ('restoration', 0.7925965189933777),\n",
       " ('without', 0.788556694984436),\n",
       " ('outage', 0.7836710810661316),\n",
       " ('affected', 0.7732450366020203),\n",
       " ('update', 0.7657163143157959),\n",
       " ('crews', 0.7627595067024231),\n",
       " ('areas', 0.7591037750244141),\n",
       " ('restore', 0.7575193047523499),\n",
       " ('updates', 0.7553784847259521)]"
      ]
     },
     "execution_count": 154,
     "metadata": {},
     "output_type": "execute_result"
    }
   ],
   "source": [
    "model.most_similar('outages')"
   ]
  },
  {
   "cell_type": "code",
   "execution_count": 160,
   "metadata": {},
   "outputs": [
    {
     "name": "stderr",
     "output_type": "stream",
     "text": [
      "/opt/anaconda3/envs/dsi/lib/python3.7/site-packages/ipykernel_launcher.py:1: DeprecationWarning: Call to deprecated `most_similar` (Method will be removed in 4.0.0, use self.wv.most_similar() instead).\n",
      "  \"\"\"Entry point for launching an IPython kernel.\n"
     ]
    },
    {
     "data": {
      "text/plain": [
       "[('service', 0.9441245794296265),\n",
       " ('information', 0.9268373250961304),\n",
       " ('electricity', 0.9248515367507935),\n",
       " ('centerpoint', 0.9238839149475098),\n",
       " ('consumers', 0.9225161671638489),\n",
       " ('report', 0.9220605492591858),\n",
       " ('inconvenience', 0.9189209342002869),\n",
       " ('customer', 0.9159246683120728),\n",
       " ('cps', 0.9132009744644165),\n",
       " ('forecast', 0.9091302156448364)]"
      ]
     },
     "execution_count": 160,
     "metadata": {},
     "output_type": "execute_result"
    }
   ],
   "source": [
    "model.most_similar('interruption')"
   ]
  },
  {
   "cell_type": "markdown",
   "metadata": {},
   "source": [
    "## Code to check for words in tweets"
   ]
  },
  {
   "cell_type": "code",
   "execution_count": 221,
   "metadata": {},
   "outputs": [
    {
     "name": "stdout",
     "output_type": "stream",
     "text": [
      "josué pierre if kevin parker wants us to believe hes not on the side of national grid and for regular brooklynites like you and me he needs to return the  given by the nationalgrid voluntary pac and  from independent power producers of new york ippny money immediately\n",
      "christoph knudsen nationalgridus horrendous customer service from national grid who called me exactly once in the briefest moment i was away from my phone during my hour appointment windowi was outside calling back  mins after missed call gone and wouldnt be making a nd attempt today\n",
      "emily smaldino for realtime power outage information  online outage reporting   indepth storm safety tips visit the nationalgridus outage central site\n",
      "mark poloncarz latest power outage updatenationalgridus is reporting  without power in erie and has recently reported to me it expects complete restoration by noon nyseandg is reporting without power\n",
      "sarah minkewicz my dad works for nationalgridus and has been up working since    and will be working until  tonight because of all the power outages hes  you guys my dad is my hero\n",
      "emily smaldino for realtime power outage information  online outage reporting   indepth storm safety tips visit the nationalgridus outage central site\n",
      "emily smaldino the nationalgridus field force is active in wny focusing on public safety  restoring power remember never touch downed power lines  if you see one report it to national grid at  or by calling  outage map\n",
      "stephen t watson lost power about  minutes ago lights flickered twice then went dark our side of the street is out across the street power is still on one next door neighbor has a generator nationalgridus says  am restoration\n",
      "stephen t watson lost power about  minutes ago lights flickered twice then went dark our side of the street is out across the street power is still on one next door neighbor has a generator nationalgridus says  am restoration\n",
      "emily smaldino the nationalgridus field force is active in wny focusing on public safety  restoring power remember never touch downed power lines  if you see one report it to national grid at  or by calling  outage map\n",
      "emily smaldino the nationalgridus field force is active in wny focusing on public safety  restoring power remember never touch downed power lines  if you see one report it to national grid at  or by calling  outage map\n"
     ]
    }
   ],
   "source": [
    "for tweet in tweets['name_and_tweet']:\n",
    "    if 'nationalgrid' in tweet:\n",
    "        print(tweet)"
   ]
  },
  {
   "cell_type": "markdown",
   "metadata": {},
   "source": [
    "## Words associated with the most common words"
   ]
  },
  {
   "cell_type": "code",
   "execution_count": 105,
   "metadata": {},
   "outputs": [
    {
     "name": "stderr",
     "output_type": "stream",
     "text": [
      "/opt/anaconda3/envs/dsi/lib/python3.7/site-packages/ipykernel_launcher.py:1: DeprecationWarning: Call to deprecated `most_similar` (Method will be removed in 4.0.0, use self.wv.most_similar() instead).\n",
      "  \"\"\"Entry point for launching an IPython kernel.\n"
     ]
    },
    {
     "data": {
      "text/plain": [
       "[('business', 0.8201457262039185),\n",
       " ('internet', 0.8165985345840454),\n",
       " ('electricity', 0.814180850982666),\n",
       " ('cause', 0.8131715655326843),\n",
       " ('building', 0.8123186826705933),\n",
       " ('towers', 0.8117901086807251),\n",
       " ('left', 0.805801272392273),\n",
       " ('multiple', 0.8051167130470276),\n",
       " ('k', 0.8032269477844238),\n",
       " ('block', 0.8025606274604797)]"
      ]
     },
     "execution_count": 105,
     "metadata": {},
     "output_type": "execute_result"
    }
   ],
   "source": [
    "model.most_similar('power')"
   ]
  },
  {
   "cell_type": "code",
   "execution_count": 147,
   "metadata": {},
   "outputs": [
    {
     "name": "stderr",
     "output_type": "stream",
     "text": [
      "/opt/anaconda3/envs/dsi/lib/python3.7/site-packages/ipykernel_launcher.py:1: DeprecationWarning: Call to deprecated `most_similar` (Method will be removed in 4.0.0, use self.wv.most_similar() instead).\n",
      "  \"\"\"Entry point for launching an IPython kernel.\n"
     ]
    },
    {
     "data": {
      "text/plain": [
       "[('say', 0.27668213844299316),\n",
       " ('this', 0.27341434359550476),\n",
       " ('what', 0.2708932161331177),\n",
       " ('whats', 0.2664024829864502),\n",
       " ('im', 0.26533204317092896),\n",
       " ('hall', 0.2630937695503235),\n",
       " ('or', 0.26236265897750854),\n",
       " ('go', 0.2571299076080322),\n",
       " ('movie', 0.25652045011520386),\n",
       " ('call', 0.25565534830093384)]"
      ]
     },
     "execution_count": 147,
     "metadata": {},
     "output_type": "execute_result"
    }
   ],
   "source": [
    "model.most_similar(positive ='light', negative='light')"
   ]
  },
  {
   "cell_type": "code",
   "execution_count": 162,
   "metadata": {},
   "outputs": [
    {
     "name": "stderr",
     "output_type": "stream",
     "text": [
      "/opt/anaconda3/envs/dsi/lib/python3.7/site-packages/ipykernel_launcher.py:1: DeprecationWarning: Call to deprecated `most_similar` (Method will be removed in 4.0.0, use self.wv.most_similar() instead).\n",
      "  \"\"\"Entry point for launching an IPython kernel.\n"
     ]
    },
    {
     "data": {
      "text/plain": [
       "[('their', -0.15730451047420502),\n",
       " ('are', -0.16887733340263367),\n",
       " ('our', -0.2122805267572403),\n",
       " ('has', -0.21275129914283752),\n",
       " ('your', -0.21671441197395325),\n",
       " ('states', -0.21912848949432373),\n",
       " ('who', -0.22259311378002167),\n",
       " ('of', -0.22326290607452393),\n",
       " ('customers', -0.22353070974349976),\n",
       " ('vote', -0.22732646763324738)]"
      ]
     },
     "execution_count": 162,
     "metadata": {},
     "output_type": "execute_result"
    }
   ],
   "source": [
    "model.most_similar(negative = 'poweroutage')"
   ]
  },
  {
   "cell_type": "code",
   "execution_count": 177,
   "metadata": {},
   "outputs": [
    {
     "name": "stderr",
     "output_type": "stream",
     "text": [
      "/opt/anaconda3/envs/dsi/lib/python3.7/site-packages/ipykernel_launcher.py:1: DeprecationWarning: Call to deprecated `most_similar` (Method will be removed in 4.0.0, use self.wv.most_similar() instead).\n",
      "  \"\"\"Entry point for launching an IPython kernel.\n"
     ]
    },
    {
     "data": {
      "text/plain": [
       "[('massive', 0.15457022190093994),\n",
       " ('or', 0.15294699370861053),\n",
       " ('major', 0.1520165055990219),\n",
       " ('parts', 0.14867782592773438),\n",
       " ('by', 0.14253634214401245),\n",
       " ('metro', 0.14215369522571564),\n",
       " ('that', 0.13888679444789886),\n",
       " ('south', 0.13774588704109192),\n",
       " ('any', 0.13749615848064423),\n",
       " ('widespread', 0.13435782492160797)]"
      ]
     },
     "execution_count": 177,
     "metadata": {},
     "output_type": "execute_result"
    }
   ],
   "source": [
    "model.most_similar(positive = 'poweroutage', negative= 'poweroutage')"
   ]
  },
  {
   "cell_type": "code",
   "execution_count": 178,
   "metadata": {},
   "outputs": [
    {
     "name": "stderr",
     "output_type": "stream",
     "text": [
      "/opt/anaconda3/envs/dsi/lib/python3.7/site-packages/ipykernel_launcher.py:1: DeprecationWarning: Call to deprecated `most_similar` (Method will be removed in 4.0.0, use self.wv.most_similar() instead).\n",
      "  \"\"\"Entry point for launching an IPython kernel.\n"
     ]
    },
    {
     "data": {
      "text/plain": [
       "[('can', 0.18247757852077484),\n",
       " ('j', 0.15669091045856476),\n",
       " ('its', 0.14508596062660217),\n",
       " ('some', 0.1442054957151413),\n",
       " ('hall', 0.13173703849315643),\n",
       " ('are', 0.13054904341697693),\n",
       " ('im', 0.1296537220478058),\n",
       " ('do', 0.1272273063659668),\n",
       " ('da', 0.12307941913604736),\n",
       " ('cannot', 0.12209022045135498)]"
      ]
     },
     "execution_count": 178,
     "metadata": {},
     "output_type": "execute_result"
    }
   ],
   "source": [
    "model.most_similar(negative = 'service', positive= 'service')"
   ]
  },
  {
   "cell_type": "code",
   "execution_count": 179,
   "metadata": {},
   "outputs": [
    {
     "name": "stderr",
     "output_type": "stream",
     "text": [
      "/opt/anaconda3/envs/dsi/lib/python3.7/site-packages/ipykernel_launcher.py:1: DeprecationWarning: Call to deprecated `most_similar` (Method will be removed in 4.0.0, use self.wv.most_similar() instead).\n",
      "  \"\"\"Entry point for launching an IPython kernel.\n"
     ]
    },
    {
     "data": {
      "text/plain": [
       "[('electric', 0.09509434551000595),\n",
       " ('martin', 0.055878713726997375),\n",
       " ('darkness', 0.05486219748854637),\n",
       " ('so', 0.05294876918196678),\n",
       " ('luther', 0.050982534885406494),\n",
       " ('power', 0.049686796963214874),\n",
       " ('great', 0.047631800174713135),\n",
       " ('sure', 0.046588584780693054),\n",
       " ('trump', 0.046476516872644424),\n",
       " ('she', 0.0451337955892086)]"
      ]
     },
     "execution_count": 179,
     "metadata": {},
     "output_type": "execute_result"
    }
   ],
   "source": [
    "model.most_similar(negative = 'interruption',positive = 'interruption')"
   ]
  },
  {
   "cell_type": "code",
   "execution_count": 228,
   "metadata": {},
   "outputs": [
    {
     "name": "stderr",
     "output_type": "stream",
     "text": [
      "/opt/anaconda3/envs/dsi/lib/python3.7/site-packages/ipykernel_launcher.py:1: DeprecationWarning: Call to deprecated `most_similar` (Method will be removed in 4.0.0, use self.wv.most_similar() instead).\n",
      "  \"\"\"Entry point for launching an IPython kernel.\n"
     ]
    },
    {
     "data": {
      "text/plain": [
       "[('or', 0.27351099252700806),\n",
       " ('ever', 0.25272107124328613),\n",
       " ('john', 0.24911025166511536),\n",
       " ('body', 0.24727512896060944),\n",
       " ('myself', 0.2433042824268341),\n",
       " ('mr', 0.2419574111700058),\n",
       " ('c', 0.24138088524341583),\n",
       " ('b', 0.23943538963794708),\n",
       " ('u', 0.2393842488527298),\n",
       " ('heating', 0.2389916479587555)]"
      ]
     },
     "execution_count": 228,
     "metadata": {},
     "output_type": "execute_result"
    }
   ],
   "source": [
    "model.most_similar(positive = 'grid',negative='grid') #, negative='dukeenergy')"
   ]
  },
  {
   "cell_type": "markdown",
   "metadata": {},
   "source": [
    "## Words associated with our key search w"
   ]
  },
  {
   "cell_type": "code",
   "execution_count": 229,
   "metadata": {},
   "outputs": [],
   "source": [
    "# outage outages poweroutage poweroutages interruption service\n",
    "\n",
    "associated = ['outages', 'poweroutage','outage','poweroutages','area','failure','dte',\n",
    "              'transformer','caused','update','storm','customers','without','lines',\n",
    "              'crews','affecting','experiencing','restoration','reports','area','ladwp',\n",
    "              'clepublicpower','hurricaneseason','dispatching','interruption','report',\n",
    "              'service','centerpoint','inconvenience','cps','customer','consumers',\n",
    "              'prevent','conditions','fire','explosion','pole','accident','caused',\n",
    "              'electricity','grid','information','pge','aep','currently','planned',\n",
    "              'reported','widespread','wind','updates','estimates','according',\n",
    "             'utility','areas','sdge','warnings','capacity','thousand','disabled',\n",
    "              'covid','regional','impacted','resolve','determine','phones','homes',\n",
    "             'numerous','resume','forecasted','reopen','shutdown','blackout','scheduled',\n",
    "             'reported','partial','significant','causes','delayed','temporary',\n",
    "             'unplanned','shortly','utilities','safety','homes','route','businesses',\n",
    "             'national','pge','coned','rge','dukeenergy','consumersenergy',\n",
    "              'nationalgrid','wildfires','info','electrical']\n"
   ]
  },
  {
   "cell_type": "code",
   "execution_count": 230,
   "metadata": {},
   "outputs": [],
   "source": [
    "# outage outages poweroutage poweroutages interruption service \n",
    "\n",
    "non_associated = ['electric','martin','darkness','so','luther','power','great',\n",
    "                  'sure','trump','she','of','or','by','day','up','if','please',\n",
    "                  'for','their','your','massive','major','parts','by','metro',\n",
    "                  'that','south','any','widespread','closet','poshmark','car',\n",
    "                 'bike','use','phone','guitar','room','off','play','gas','off',\n",
    "                 'use','out','can','its','some','hall','are','im','do','da','cannot',\n",
    "                   'cut','own','life','hands','wash','miles','care','family',\n",
    "                   'had','person','bill','matter','trust','so','give','realdonaldtrump',\n",
    "                   'absolutely','reason','thats','am','were','be','theyre','youre',\n",
    "                    'was','traffic','both','link','lightsout','video','song','click',\n",
    "                    'bio','bubblelife','mothers','center','zoo','day','cuts','an',\n",
    "                   'festival', 'about','scooter','ready','saw','turn','ford','roberts',\n",
    "                    'william','mary','discount','code','kick','grab','entire','body',\n",
    "                   'myself','heating','john']"
   ]
  },
  {
   "cell_type": "code",
   "execution_count": 246,
   "metadata": {},
   "outputs": [],
   "source": [
    "# code based off of simple_sentiment() from Global Lesson, 5.03 NLP I\n",
    "\n",
    "def outage_sentiment(tweet):\n",
    "    \n",
    "    # associated word list\n",
    "    associated = ['outages', 'poweroutage','outage','poweroutages','area','failure','dte',\n",
    "              'transformer','caused','update','storm','customers','without','lines',\n",
    "              'crews','affecting','experiencing','restoration','reports','area','ladwp',\n",
    "              'clepublicpower','hurricaneseason','dispatching','interruption','report',\n",
    "              'service','centerpoint','inconvenience','cps','customer','consumers',\n",
    "              'prevent','conditions','fire','explosion','pole','accident','caused',\n",
    "              'electricity','grid','information','pge','aep','currently','planned',\n",
    "              'reported','widespread','wind','updates','estimates','according',\n",
    "             'utility','areas','sdge','warnings','capacity','thousand','disabled',\n",
    "              'covid','regional','impacted','resolve','determine','phones','homes',\n",
    "             'numerous','resume','forecasted','reopen','shutdown','blackout','scheduled',\n",
    "             'reported','partial','significant','causes','delayed','temporary',\n",
    "             'unplanned','shortly','utilities','safety','homes','route','businesses',\n",
    "             'national','pge','coned','rge','dukeenergy','consumersenergy',\n",
    "              'nationalgrid','wildfires','info','electrical']\n",
    "    \n",
    "    # non-associated word list\n",
    "    non_associated = ['electric','martin','darkness','so','luther','power','great',\n",
    "                  'sure','trump','she','of','or','by','day','up','if','please',\n",
    "                  'for','their','your','massive','major','parts','by','metro',\n",
    "                  'that','south','any','widespread','closet','poshmark','car',\n",
    "                 'bike','use','phone','guitar','room','off','play','gas','off',\n",
    "                 'use','out','can','its','some','hall','are','im','do','da','cannot',\n",
    "                   'cut','own','life','hands','wash','miles','care','family',\n",
    "                   'had','person','bill','matter','trust','so','give','realdonaldtrump',\n",
    "                   'absolutely','reason','thats','am','were','be','theyre','youre',\n",
    "                    'was','traffic','both','link','lightsout','video','song','click',\n",
    "                    'bio','bubblelife','mothers','center','zoo','day','cuts','an',\n",
    "                   'festival', 'about','scooter','ready','saw','turn','ford','roberts',\n",
    "                    'william','mary','discount','code','kick','grab','entire','body',\n",
    "                   'myself','heating','john']\n",
    "    \n",
    "    # Count \"associated\" words.\n",
    "    associated_count = len([w for w in tweet if w in associated])\n",
    "    \n",
    "    # Count \"non-associated\" words\n",
    "    non_associated_count = len([w for w in tweet if w in non_associated])\n",
    "\n",
    "    # calculate sentiment\n",
    "    \n",
    "    return round((associated_count - non_associated_count) / len(tweet),2)"
   ]
  },
  {
   "cell_type": "code",
   "execution_count": 347,
   "metadata": {},
   "outputs": [],
   "source": [
    "# code based off of simple_sentiment() from Global Lesson, 5.03 NLP I\n",
    "\n",
    "def outage_sentiment(tweet):\n",
    "    \n",
    "    # associated word list\n",
    "    associated = ['outages', 'poweroutage','outage','poweroutages','area','failure','dte',\n",
    "              'transformer','caused','update','storm','customers','without','lines',\n",
    "              'crews','affecting','experiencing','restoration','reports','area','ladwp',\n",
    "              'clepublicpower','hurricaneseason','dispatching','interruption','report',\n",
    "              'service','centerpoint','inconvenience','cps','customer','consumers',\n",
    "              'prevent','conditions','fire','explosion','pole','accident','caused',\n",
    "              'electricity','grid','information','pge','aep','currently','planned',\n",
    "              'reported','widespread','wind','updates','estimates','according',\n",
    "             'utility','areas','sdge','warnings','capacity','thousand','disabled',\n",
    "              'covid','regional','impacted','resolve','determine','phones','homes',\n",
    "             'numerous','resume','forecasted','reopen','shutdown','blackout','scheduled',\n",
    "             'reported','partial','significant','causes','delayed','temporary',\n",
    "             'unplanned','shortly','utilities','safety','homes','route','businesses',\n",
    "             'national','pge','coned','rge','dukeenergy','consumersenergy',\n",
    "              'nationalgrid','wildfires','info','electrical','out','power']\n",
    "\n",
    "    \n",
    "    words = [i for i in tweet if i not in custom_stopwords]\n",
    "    \n",
    "    # Count \"associated\" words.\n",
    "    associated_count = len([w for w in words if w in associated])\n",
    "\n",
    "    # calculate sentiment\n",
    "    \n",
    "    return round((associated_count) / len(words),2)"
   ]
  },
  {
   "cell_type": "code",
   "execution_count": 251,
   "metadata": {},
   "outputs": [
    {
     "data": {
      "text/plain": [
       "[['ttwn',\n",
       "  'sf',\n",
       "  'bay',\n",
       "  'area',\n",
       "  'power',\n",
       "  'outage',\n",
       "  'in',\n",
       "  'cupertino',\n",
       "  'bayarea',\n",
       "  'traffic'],\n",
       " ['now',\n",
       "  'weather',\n",
       "  'alert',\n",
       "  'flash',\n",
       "  'flood',\n",
       "  'watch',\n",
       "  'in',\n",
       "  'bay',\n",
       "  'area',\n",
       "  'amid',\n",
       "  'rainrelated',\n",
       "  'mudslides',\n",
       "  'power',\n",
       "  'outages'],\n",
       " ['now',\n",
       "  'power',\n",
       "  'outages',\n",
       "  'in',\n",
       "  'francisco',\n",
       "  'on',\n",
       "  'peninsula',\n",
       "  'in',\n",
       "  'the',\n",
       "  'north',\n",
       "  'bay',\n",
       "  'in',\n",
       "  'east',\n",
       "  'bay',\n",
       "  'in',\n",
       "  'the',\n",
       "  'south',\n",
       "  'bay',\n",
       "  'nbcbayarea'],\n",
       " ['now',\n",
       "  'power',\n",
       "  'outage',\n",
       "  'in',\n",
       "  'fremont',\n",
       "  'several',\n",
       "  'intersections',\n",
       "  'without',\n",
       "  'signal',\n",
       "  'lights',\n",
       "  'officers',\n",
       "  'directing',\n",
       "  'traffic',\n",
       "  'please',\n",
       "  'drive'],\n",
       " ['now',\n",
       "  'east',\n",
       "  'bay',\n",
       "  'power',\n",
       "  'outages',\n",
       "  'also',\n",
       "  'affects',\n",
       "  'bart',\n",
       "  'uc',\n",
       "  'berkeley',\n",
       "  'and',\n",
       "  'schools']]"
      ]
     },
     "execution_count": 251,
     "metadata": {},
     "output_type": "execute_result"
    }
   ],
   "source": [
    "corpus[0:5]"
   ]
  },
  {
   "cell_type": "code",
   "execution_count": 348,
   "metadata": {},
   "outputs": [
    {
     "data": {
      "text/plain": [
       "0.33"
      ]
     },
     "execution_count": 348,
     "metadata": {},
     "output_type": "execute_result"
    }
   ],
   "source": [
    "outage_sentiment(corpus[0])"
   ]
  },
  {
   "cell_type": "code",
   "execution_count": 349,
   "metadata": {},
   "outputs": [
    {
     "data": {
      "text/plain": [
       "0.25"
      ]
     },
     "execution_count": 349,
     "metadata": {},
     "output_type": "execute_result"
    }
   ],
   "source": [
    "outage_sentiment(corpus[1])"
   ]
  },
  {
   "cell_type": "code",
   "execution_count": 350,
   "metadata": {},
   "outputs": [
    {
     "data": {
      "text/plain": [
       "0.18"
      ]
     },
     "execution_count": 350,
     "metadata": {},
     "output_type": "execute_result"
    }
   ],
   "source": [
    "outage_sentiment(corpus[2])"
   ]
  },
  {
   "cell_type": "code",
   "execution_count": 351,
   "metadata": {},
   "outputs": [
    {
     "data": {
      "text/plain": [
       "0.23"
      ]
     },
     "execution_count": 351,
     "metadata": {},
     "output_type": "execute_result"
    }
   ],
   "source": [
    "outage_sentiment(corpus[3])"
   ]
  },
  {
   "cell_type": "code",
   "execution_count": 279,
   "metadata": {},
   "outputs": [
    {
     "data": {
      "text/plain": [
       "16913"
      ]
     },
     "execution_count": 279,
     "metadata": {},
     "output_type": "execute_result"
    }
   ],
   "source": [
    "len(corpus)"
   ]
  },
  {
   "cell_type": "code",
   "execution_count": 317,
   "metadata": {},
   "outputs": [],
   "source": [
    "custom_stopwords = stopwords.words('english')"
   ]
  },
  {
   "cell_type": "code",
   "execution_count": 318,
   "metadata": {},
   "outputs": [
    {
     "data": {
      "text/plain": [
       "179"
      ]
     },
     "execution_count": 318,
     "metadata": {},
     "output_type": "execute_result"
    }
   ],
   "source": [
    "len(custom_stopwords)"
   ]
  },
  {
   "cell_type": "code",
   "execution_count": 320,
   "metadata": {},
   "outputs": [],
   "source": [
    "custom_stopwords.remove('out')"
   ]
  },
  {
   "cell_type": "code",
   "execution_count": 321,
   "metadata": {},
   "outputs": [
    {
     "data": {
      "text/plain": [
       "178"
      ]
     },
     "execution_count": 321,
     "metadata": {},
     "output_type": "execute_result"
    }
   ],
   "source": [
    "len(custom_stopwords)"
   ]
  },
  {
   "cell_type": "code",
   "execution_count": 325,
   "metadata": {},
   "outputs": [
    {
     "data": {
      "text/plain": [
       "set()"
      ]
     },
     "execution_count": 325,
     "metadata": {},
     "output_type": "execute_result"
    }
   ],
   "source": [
    "set(associated).intersection(set(custom_stopwords))"
   ]
  },
  {
   "cell_type": "code",
   "execution_count": null,
   "metadata": {},
   "outputs": [],
   "source": []
  },
  {
   "cell_type": "code",
   "execution_count": null,
   "metadata": {},
   "outputs": [],
   "source": []
  },
  {
   "cell_type": "code",
   "execution_count": 327,
   "metadata": {},
   "outputs": [],
   "source": [
    "#custom_stopwords"
   ]
  },
  {
   "cell_type": "code",
   "execution_count": 352,
   "metadata": {},
   "outputs": [],
   "source": [
    "sents = []\n",
    "for tweet in corpus:\n",
    "    os = outage_sentiment(tweet)\n",
    "    sents.append(os)\n"
   ]
  },
  {
   "cell_type": "code",
   "execution_count": 353,
   "metadata": {},
   "outputs": [
    {
     "data": {
      "text/plain": [
       "1.0"
      ]
     },
     "execution_count": 353,
     "metadata": {},
     "output_type": "execute_result"
    }
   ],
   "source": [
    "max(sents)"
   ]
  },
  {
   "cell_type": "code",
   "execution_count": 354,
   "metadata": {},
   "outputs": [
    {
     "data": {
      "text/plain": [
       "0.0"
      ]
     },
     "execution_count": 354,
     "metadata": {},
     "output_type": "execute_result"
    }
   ],
   "source": [
    "min(sents)"
   ]
  },
  {
   "cell_type": "code",
   "execution_count": 355,
   "metadata": {},
   "outputs": [
    {
     "data": {
      "text/plain": [
       "0.12435877727192102"
      ]
     },
     "execution_count": 355,
     "metadata": {},
     "output_type": "execute_result"
    }
   ],
   "source": [
    "import numpy as np\n",
    "np.mean(sents)"
   ]
  },
  {
   "cell_type": "code",
   "execution_count": 367,
   "metadata": {},
   "outputs": [
    {
     "data": {
      "text/plain": [
       "(array([8.157e+03, 5.749e+03, 2.099e+03, 4.580e+02, 2.570e+02, 1.460e+02,\n",
       "        2.800e+01, 1.500e+01, 1.000e+00, 3.000e+00]),\n",
       " array([0. , 0.1, 0.2, 0.3, 0.4, 0.5, 0.6, 0.7, 0.8, 0.9, 1. ]),\n",
       " <a list of 10 Patch objects>)"
      ]
     },
     "execution_count": 367,
     "metadata": {},
     "output_type": "execute_result"
    },
    {
     "data": {
      "image/png": "[encoded data removed]",
      "text/plain": [
       "<Figure size 432x288 with 1 Axes>"
      ]
     },
     "metadata": {
      "needs_background": "light"
     },
     "output_type": "display_data"
    }
   ],
   "source": [
    "plt.hist(sents)"
   ]
  },
  {
   "cell_type": "code",
   "execution_count": 356,
   "metadata": {},
   "outputs": [],
   "source": [
    "sents_1 = [i+1 for i in sents]"
   ]
  },
  {
   "cell_type": "code",
   "execution_count": 357,
   "metadata": {},
   "outputs": [
    {
     "data": {
      "image/png": "[encoded data removed]",
      "text/plain": [
       "<Figure size 432x288 with 1 Axes>"
      ]
     },
     "metadata": {
      "needs_background": "light"
     },
     "output_type": "display_data"
    }
   ],
   "source": [
    "plt.hist(np.log(sents_1), bins = 13);"
   ]
  },
  {
   "cell_type": "code",
   "execution_count": 358,
   "metadata": {},
   "outputs": [
    {
     "data": {
      "image/png": "[encoded data removed]",
      "text/plain": [
       "<Figure size 432x288 with 1 Axes>"
      ]
     },
     "metadata": {
      "needs_background": "light"
     },
     "output_type": "display_data"
    }
   ],
   "source": [
    "plt.boxplot(sents);"
   ]
  },
  {
   "cell_type": "code",
   "execution_count": 363,
   "metadata": {},
   "outputs": [
    {
     "data": {
      "text/plain": [
       "8718     0.00\n",
       "9331     0.00\n",
       "8657     0.00\n",
       "13538    0.00\n",
       "13532    0.00\n",
       "         ... \n",
       "5272     0.78\n",
       "993      0.80\n",
       "13649    1.00\n",
       "5315     1.00\n",
       "14876    1.00\n",
       "Length: 16913, dtype: float64"
      ]
     },
     "execution_count": 363,
     "metadata": {},
     "output_type": "execute_result"
    }
   ],
   "source": [
    "pd.Series(sents).sort_values()"
   ]
  },
  {
   "cell_type": "code",
   "execution_count": 335,
   "metadata": {},
   "outputs": [
    {
     "data": {
      "text/plain": [
       "0.7526754567492462"
      ]
     },
     "execution_count": 335,
     "metadata": {},
     "output_type": "execute_result"
    }
   ],
   "source": []
  },
  {
   "cell_type": "code",
   "execution_count": 360,
   "metadata": {},
   "outputs": [],
   "source": [
    "data = {'tweet':tweets['name_and_tweet'],'outage_sent':sents}"
   ]
  },
  {
   "cell_type": "code",
   "execution_count": 361,
   "metadata": {},
   "outputs": [
    {
     "data": {
      "text/html": [
       "<div>\n",
       "<style scoped>\n",
       "    .dataframe tbody tr th:only-of-type {\n",
       "        vertical-align: middle;\n",
       "    }\n",
       "\n",
       "    .dataframe tbody tr th {\n",
       "        vertical-align: top;\n",
       "    }\n",
       "\n",
       "    .dataframe thead th {\n",
       "        text-align: right;\n",
       "    }\n",
       "</style>\n",
       "<table border=\"1\" class=\"dataframe\">\n",
       "  <thead>\n",
       "    <tr style=\"text-align: right;\">\n",
       "      <th></th>\n",
       "      <th>tweet</th>\n",
       "      <th>outage_sent</th>\n",
       "    </tr>\n",
       "  </thead>\n",
       "  <tbody>\n",
       "    <tr>\n",
       "      <th>0</th>\n",
       "      <td>ttwn sf bay area power outage in cupertino bay...</td>\n",
       "      <td>0.33</td>\n",
       "    </tr>\n",
       "    <tr>\n",
       "      <th>1</th>\n",
       "      <td>san jose now weather alert flash flood watch i...</td>\n",
       "      <td>0.25</td>\n",
       "    </tr>\n",
       "    <tr>\n",
       "      <th>2</th>\n",
       "      <td>san jose now power outages in san francisco on...</td>\n",
       "      <td>0.18</td>\n",
       "    </tr>\n",
       "    <tr>\n",
       "      <th>3</th>\n",
       "      <td>san jose now power outage in fremont several i...</td>\n",
       "      <td>0.23</td>\n",
       "    </tr>\n",
       "    <tr>\n",
       "      <th>4</th>\n",
       "      <td>san jose now east bay power outages also affec...</td>\n",
       "      <td>0.20</td>\n",
       "    </tr>\n",
       "  </tbody>\n",
       "</table>\n",
       "</div>"
      ],
      "text/plain": [
       "                                               tweet  outage_sent\n",
       "0  ttwn sf bay area power outage in cupertino bay...         0.33\n",
       "1  san jose now weather alert flash flood watch i...         0.25\n",
       "2  san jose now power outages in san francisco on...         0.18\n",
       "3  san jose now power outage in fremont several i...         0.23\n",
       "4  san jose now east bay power outages also affec...         0.20"
      ]
     },
     "execution_count": 361,
     "metadata": {},
     "output_type": "execute_result"
    }
   ],
   "source": [
    "sent_df = pd.DataFrame(data)\n",
    "sent_df.head()"
   ]
  },
  {
   "cell_type": "code",
   "execution_count": 362,
   "metadata": {},
   "outputs": [
    {
     "data": {
      "text/html": [
       "<div>\n",
       "<style scoped>\n",
       "    .dataframe tbody tr th:only-of-type {\n",
       "        vertical-align: middle;\n",
       "    }\n",
       "\n",
       "    .dataframe tbody tr th {\n",
       "        vertical-align: top;\n",
       "    }\n",
       "\n",
       "    .dataframe thead th {\n",
       "        text-align: right;\n",
       "    }\n",
       "</style>\n",
       "<table border=\"1\" class=\"dataframe\">\n",
       "  <thead>\n",
       "    <tr style=\"text-align: right;\">\n",
       "      <th></th>\n",
       "      <th>tweet</th>\n",
       "      <th>outage_sent</th>\n",
       "    </tr>\n",
       "  </thead>\n",
       "  <tbody>\n",
       "    <tr>\n",
       "      <th>8718</th>\n",
       "      <td>leah lavigne andddddd im back with an electric...</td>\n",
       "      <td>0.00</td>\n",
       "    </tr>\n",
       "    <tr>\n",
       "      <th>9331</th>\n",
       "      <td>glenn moses you get em sister love  light and ...</td>\n",
       "      <td>0.00</td>\n",
       "    </tr>\n",
       "    <tr>\n",
       "      <th>8657</th>\n",
       "      <td>illiotti media inc lecheminduroi   we nxt  mea...</td>\n",
       "      <td>0.00</td>\n",
       "    </tr>\n",
       "    <tr>\n",
       "      <th>13538</th>\n",
       "      <td>oss lost pix of ghost from power_starz   cleve...</td>\n",
       "      <td>0.00</td>\n",
       "    </tr>\n",
       "    <tr>\n",
       "      <th>13532</th>\n",
       "      <td>phil kalina  stayhome electric lights are stil...</td>\n",
       "      <td>0.00</td>\n",
       "    </tr>\n",
       "    <tr>\n",
       "      <th>...</th>\n",
       "      <td>...</td>\n",
       "      <td>...</td>\n",
       "    </tr>\n",
       "    <tr>\n",
       "      <th>5272</th>\n",
       "      <td>detroit now dte energy power outage updates th...</td>\n",
       "      <td>0.78</td>\n",
       "    </tr>\n",
       "    <tr>\n",
       "      <th>993</th>\n",
       "      <td>los angeles now explosion at lacma causes powe...</td>\n",
       "      <td>0.80</td>\n",
       "    </tr>\n",
       "    <tr>\n",
       "      <th>13649</th>\n",
       "      <td>this power outage</td>\n",
       "      <td>1.00</td>\n",
       "    </tr>\n",
       "    <tr>\n",
       "      <th>5315</th>\n",
       "      <td>power outage</td>\n",
       "      <td>1.00</td>\n",
       "    </tr>\n",
       "    <tr>\n",
       "      <th>14876</th>\n",
       "      <td>san antonio now storm update cps reports there...</td>\n",
       "      <td>1.00</td>\n",
       "    </tr>\n",
       "  </tbody>\n",
       "</table>\n",
       "<p>16913 rows × 2 columns</p>\n",
       "</div>"
      ],
      "text/plain": [
       "                                                   tweet  outage_sent\n",
       "8718   leah lavigne andddddd im back with an electric...         0.00\n",
       "9331   glenn moses you get em sister love  light and ...         0.00\n",
       "8657   illiotti media inc lecheminduroi   we nxt  mea...         0.00\n",
       "13538  oss lost pix of ghost from power_starz   cleve...         0.00\n",
       "13532  phil kalina  stayhome electric lights are stil...         0.00\n",
       "...                                                  ...          ...\n",
       "5272   detroit now dte energy power outage updates th...         0.78\n",
       "993    los angeles now explosion at lacma causes powe...         0.80\n",
       "13649                                  this power outage         1.00\n",
       "5315                                        power outage         1.00\n",
       "14876  san antonio now storm update cps reports there...         1.00\n",
       "\n",
       "[16913 rows x 2 columns]"
      ]
     },
     "execution_count": 362,
     "metadata": {},
     "output_type": "execute_result"
    }
   ],
   "source": [
    "sent_df.sort_values('outage_sent')"
   ]
  },
  {
   "cell_type": "code",
   "execution_count": 364,
   "metadata": {},
   "outputs": [],
   "source": [
    "sent_0 = sent_df[sent_df['outage_sent']==0]"
   ]
  },
  {
   "cell_type": "code",
   "execution_count": 366,
   "metadata": {},
   "outputs": [
    {
     "data": {
      "text/plain": [
       "815"
      ]
     },
     "execution_count": 366,
     "metadata": {},
     "output_type": "execute_result"
    }
   ],
   "source": [
    "len(sent_0)"
   ]
  },
  {
   "cell_type": "code",
   "execution_count": 369,
   "metadata": {},
   "outputs": [
    {
     "data": {
      "text/plain": [
       "'san antonio now storm update cps reports there are currently  power outages affecting  customers in the san antonio area'"
      ]
     },
     "execution_count": 369,
     "metadata": {},
     "output_type": "execute_result"
    }
   ],
   "source": [
    "sent_df.loc[14876,'tweet']"
   ]
  },
  {
   "cell_type": "code",
   "execution_count": null,
   "metadata": {},
   "outputs": [],
   "source": []
  }
 ],
 "metadata": {
  "kernelspec": {
   "display_name": "Python 3",
   "language": "python",
   "name": "python3"
  },
  "language_info": {
   "codemirror_mode": {
    "name": "ipython",
    "version": 3
   },
   "file_extension": ".py",
   "mimetype": "text/x-python",
   "name": "python",
   "nbconvert_exporter": "python",
   "pygments_lexer": "ipython3",
   "version": "3.7.6"
  }
 },
 "nbformat": 4,
 "nbformat_minor": 4
}
