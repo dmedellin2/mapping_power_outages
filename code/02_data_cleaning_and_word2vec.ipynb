{
 "cells": [
  {
   "cell_type": "markdown",
   "metadata": {},
   "source": [
    "# 02: Identifying Power Outages Using Social Media - Data Cleaning, Word2Vec Model, Outage Sentiment\n",
    "### Danielle Medellin, Matthew Malone, Omar Smiley"
   ]
  },
  {
   "cell_type": "markdown",
   "metadata": {},
   "source": [
    "## Table of Contents\n",
    "- [Import Libraries](#Import-Libraries)  \n",
    "- [Load Data](#Load-in-Datasets)  \n",
    "- [Data Dictionary](#Data-Dictionary)\n",
    "- [Data Cleaning](#Data-Cleaning)  \n",
    "    - [NLP - Cleaning Tweets & Usernames](#NLP---Cleaning-Tweets-and-Usernames)  \n",
    "- [Count Vectorizer](#CountVectorizer)  \n",
    "- [Word2Vec Model](#Word2Vec-Model)  \n",
    "    - [Results: Word Associations](#Words-most-and-least-associated-with-search_terms)  \n",
    "- [Outage Sentiment Analysis](#Outage-Sentiment-Analysis)\n",
    "- [Write Data to CSV](#Write-Data-to-CSV)\n",
    "- [Next Steps](#Next-Steps)  "
   ]
  },
  {
   "cell_type": "markdown",
   "metadata": {},
   "source": [
    "## Import Libraries"
   ]
  },
  {
   "cell_type": "code",
   "execution_count": 603,
   "metadata": {},
   "outputs": [],
   "source": [
    "import pandas as pd\n",
    "import re\n",
    "import string\n",
    "from nltk.corpus import stopwords\n",
    "import numpy as n\n",
    "import matplotlib.pyplot as plt\n",
    "from gensim.models.word2vec import Word2Vec\n",
    "from sklearn.feature_extraction.text import CountVectorizer"
   ]
  },
  {
   "cell_type": "markdown",
   "metadata": {},
   "source": [
    "## Load in Datasets"
   ]
  },
  {
   "cell_type": "code",
   "execution_count": 604,
   "metadata": {},
   "outputs": [],
   "source": [
    "# bring in each data set for each state\n",
    "\n",
    "cali = pd.read_csv('../data/scrape_dm_cali.csv')\n",
    "\n",
    "mich = pd.read_csv('../data/scrape_dm_mich.csv')\n",
    "\n",
    "ny = pd.read_csv('../data/scrape_dm_ny.csv')\n",
    "\n",
    "ohio = pd.read_csv('../data/scrape_dm_ohio.csv')\n",
    "\n",
    "texas = pd.read_csv('../data/scrape_dm_texas.csv')\n",
    "\n"
   ]
  },
  {
   "cell_type": "code",
   "execution_count": 605,
   "metadata": {},
   "outputs": [],
   "source": [
    "ohio_edit = {'Colombus':'Columbus',\n",
    "            'Clevland':'Cleveland',\n",
    "            'Cincinatti':'Cincinatti'}"
   ]
  },
  {
   "cell_type": "code",
   "execution_count": 606,
   "metadata": {},
   "outputs": [],
   "source": [
    "ohio['city'] = ohio['city'].map(ohio_edit)"
   ]
  },
  {
   "cell_type": "code",
   "execution_count": 607,
   "metadata": {},
   "outputs": [
    {
     "data": {
      "text/plain": [
       "Cleveland     2390\n",
       "Cincinatti    1678\n",
       "Columbus       881\n",
       "Name: city, dtype: int64"
      ]
     },
     "execution_count": 607,
     "metadata": {},
     "output_type": "execute_result"
    }
   ],
   "source": [
    "ohio['city'].value_counts()"
   ]
  },
  {
   "cell_type": "markdown",
   "metadata": {},
   "source": [
    "We had some issues with the way we pulled in Ohio data so those are resolved in the above code. "
   ]
  },
  {
   "cell_type": "code",
   "execution_count": 608,
   "metadata": {},
   "outputs": [
    {
     "data": {
      "text/html": [
       "<div>\n",
       "<style scoped>\n",
       "    .dataframe tbody tr th:only-of-type {\n",
       "        vertical-align: middle;\n",
       "    }\n",
       "\n",
       "    .dataframe tbody tr th {\n",
       "        vertical-align: top;\n",
       "    }\n",
       "\n",
       "    .dataframe thead th {\n",
       "        text-align: right;\n",
       "    }\n",
       "</style>\n",
       "<table border=\"1\" class=\"dataframe\">\n",
       "  <thead>\n",
       "    <tr style=\"text-align: right;\">\n",
       "      <th></th>\n",
       "      <th>tweet_id</th>\n",
       "      <th>username</th>\n",
       "      <th>text</th>\n",
       "      <th>tweet_date</th>\n",
       "      <th>search_term</th>\n",
       "      <th>city</th>\n",
       "      <th>lat</th>\n",
       "      <th>long</th>\n",
       "      <th>radius</th>\n",
       "      <th>query_start</th>\n",
       "    </tr>\n",
       "  </thead>\n",
       "  <tbody>\n",
       "    <tr>\n",
       "      <th>0</th>\n",
       "      <td>710245730590404608</td>\n",
       "      <td>TTWN SF Bay Area</td>\n",
       "      <td>Power outage in Cupertino #BayArea #Traffic ht...</td>\n",
       "      <td>2016-03-16 23:25:52</td>\n",
       "      <td>power outage</td>\n",
       "      <td>San Jose</td>\n",
       "      <td>37.3323</td>\n",
       "      <td>-121.853394</td>\n",
       "      <td>10mi</td>\n",
       "      <td>2016-01-01</td>\n",
       "    </tr>\n",
       "    <tr>\n",
       "      <th>1</th>\n",
       "      <td>708811502241734656</td>\n",
       "      <td>San Jose Now</td>\n",
       "      <td>WEATHER ALERT: Flash flood watch in Bay Area a...</td>\n",
       "      <td>2016-03-13 00:26:45</td>\n",
       "      <td>power outage</td>\n",
       "      <td>San Jose</td>\n",
       "      <td>37.3323</td>\n",
       "      <td>-121.853394</td>\n",
       "      <td>10mi</td>\n",
       "      <td>2016-01-01</td>\n",
       "    </tr>\n",
       "    <tr>\n",
       "      <th>2</th>\n",
       "      <td>706856719733776384</td>\n",
       "      <td>San Jose Now</td>\n",
       "      <td>Power outages:30 in San Francisco154 on Penins...</td>\n",
       "      <td>2016-03-07 14:59:09</td>\n",
       "      <td>power outage</td>\n",
       "      <td>San Jose</td>\n",
       "      <td>37.3323</td>\n",
       "      <td>-121.853394</td>\n",
       "      <td>10mi</td>\n",
       "      <td>2016-01-01</td>\n",
       "    </tr>\n",
       "    <tr>\n",
       "      <th>3</th>\n",
       "      <td>726876023573204993</td>\n",
       "      <td>San Jose Now</td>\n",
       "      <td>Power outage in Fremont. Several intersections...</td>\n",
       "      <td>2016-05-01 20:48:43</td>\n",
       "      <td>power outage</td>\n",
       "      <td>San Jose</td>\n",
       "      <td>37.3323</td>\n",
       "      <td>-121.853394</td>\n",
       "      <td>10mi</td>\n",
       "      <td>2016-01-01</td>\n",
       "    </tr>\n",
       "    <tr>\n",
       "      <th>4</th>\n",
       "      <td>724681945095888897</td>\n",
       "      <td>San Jose Now</td>\n",
       "      <td>East Bay power outages also affects BART, UC B...</td>\n",
       "      <td>2016-04-25 19:30:14</td>\n",
       "      <td>power outage</td>\n",
       "      <td>San Jose</td>\n",
       "      <td>37.3323</td>\n",
       "      <td>-121.853394</td>\n",
       "      <td>10mi</td>\n",
       "      <td>2016-01-01</td>\n",
       "    </tr>\n",
       "  </tbody>\n",
       "</table>\n",
       "</div>"
      ],
      "text/plain": [
       "             tweet_id          username  \\\n",
       "0  710245730590404608  TTWN SF Bay Area   \n",
       "1  708811502241734656      San Jose Now   \n",
       "2  706856719733776384      San Jose Now   \n",
       "3  726876023573204993      San Jose Now   \n",
       "4  724681945095888897      San Jose Now   \n",
       "\n",
       "                                                text           tweet_date  \\\n",
       "0  Power outage in Cupertino #BayArea #Traffic ht...  2016-03-16 23:25:52   \n",
       "1  WEATHER ALERT: Flash flood watch in Bay Area a...  2016-03-13 00:26:45   \n",
       "2  Power outages:30 in San Francisco154 on Penins...  2016-03-07 14:59:09   \n",
       "3  Power outage in Fremont. Several intersections...  2016-05-01 20:48:43   \n",
       "4  East Bay power outages also affects BART, UC B...  2016-04-25 19:30:14   \n",
       "\n",
       "    search_term      city      lat        long radius query_start  \n",
       "0  power outage  San Jose  37.3323 -121.853394   10mi  2016-01-01  \n",
       "1  power outage  San Jose  37.3323 -121.853394   10mi  2016-01-01  \n",
       "2  power outage  San Jose  37.3323 -121.853394   10mi  2016-01-01  \n",
       "3  power outage  San Jose  37.3323 -121.853394   10mi  2016-01-01  \n",
       "4  power outage  San Jose  37.3323 -121.853394   10mi  2016-01-01  "
      ]
     },
     "execution_count": 608,
     "metadata": {},
     "output_type": "execute_result"
    }
   ],
   "source": [
    "# concatenate datasets to one dataframe \n",
    "tweets = pd.concat([cali, mich, ny, ohio, texas])\n",
    "\n",
    "tweets.head()"
   ]
  },
  {
   "cell_type": "markdown",
   "metadata": {},
   "source": [
    "The 5 datasets for each state were loaded in and combined into a `tweets` dataset. "
   ]
  },
  {
   "cell_type": "markdown",
   "metadata": {},
   "source": [
    "## Data Dictionary"
   ]
  },
  {
   "cell_type": "markdown",
   "metadata": {},
   "source": [
    "| Parameter | Description | Data Type | Example |\n",
    "| ------ | ------ | :-------: | ------ |\n",
    "| tweet_id | Numerical ID of the desired Tweet. | Integer | 123 |\n",
    "| username | Twitter Username | String | \"san jose now\" |\n",
    "| text | Text of the tweet | String | \"power outage in cupertino bayarea\" |\n",
    "| tweet_date | Date of tweet | String | 2016-01-01 01:14:23|\n",
    "| search_term | Search term to query tweets | String | \"#powerout\" |\n",
    "| city | City tweet originated from | String | \"Dallas\" |\n",
    "| lat | Latitude of the coordinates used to search tweets | Integer | 37.3323 |\n",
    "| long | Longitude of the coordinates used to search tweets | Integer | -121.853394 |\n",
    "| radius | Search radius for tweets from the city's geographic coordinates  | String | \"10mi\" |\n",
    "| name_and_tweet | Concatenated Twitter username and tweet text | String | \"ttwn sf bay area power outage in cupertino bay...\" |\n",
    "| outage_sentiment | Sentiment value regarding power outages  | Integer | 0.5 |\n",
    "| state | State tweet originated from | String | \"Ohio\" |"
   ]
  },
  {
   "cell_type": "markdown",
   "metadata": {},
   "source": [
    "## Data Cleaning"
   ]
  },
  {
   "cell_type": "code",
   "execution_count": 591,
   "metadata": {},
   "outputs": [
    {
     "data": {
      "text/plain": [
       "(20100, 10)"
      ]
     },
     "execution_count": 591,
     "metadata": {},
     "output_type": "execute_result"
    }
   ],
   "source": [
    "tweets.shape"
   ]
  },
  {
   "cell_type": "code",
   "execution_count": 592,
   "metadata": {},
   "outputs": [],
   "source": [
    "# drop duplicates \n",
    "tweets.drop_duplicates(inplace=True)"
   ]
  },
  {
   "cell_type": "code",
   "execution_count": 593,
   "metadata": {},
   "outputs": [
    {
     "data": {
      "text/plain": [
       "(16913, 10)"
      ]
     },
     "execution_count": 593,
     "metadata": {},
     "output_type": "execute_result"
    }
   ],
   "source": [
    "tweets.shape"
   ]
  },
  {
   "cell_type": "code",
   "execution_count": 594,
   "metadata": {},
   "outputs": [],
   "source": [
    "# reset index \n",
    "tweets.reset_index(inplace= True, drop = True)"
   ]
  },
  {
   "cell_type": "code",
   "execution_count": 610,
   "metadata": {},
   "outputs": [],
   "source": [
    "tweets.drop(columns='query_start',inplace=True)"
   ]
  },
  {
   "cell_type": "code",
   "execution_count": 611,
   "metadata": {},
   "outputs": [
    {
     "data": {
      "text/html": [
       "<div>\n",
       "<style scoped>\n",
       "    .dataframe tbody tr th:only-of-type {\n",
       "        vertical-align: middle;\n",
       "    }\n",
       "\n",
       "    .dataframe tbody tr th {\n",
       "        vertical-align: top;\n",
       "    }\n",
       "\n",
       "    .dataframe thead th {\n",
       "        text-align: right;\n",
       "    }\n",
       "</style>\n",
       "<table border=\"1\" class=\"dataframe\">\n",
       "  <thead>\n",
       "    <tr style=\"text-align: right;\">\n",
       "      <th></th>\n",
       "      <th>tweet_id</th>\n",
       "      <th>username</th>\n",
       "      <th>text</th>\n",
       "      <th>tweet_date</th>\n",
       "      <th>search_term</th>\n",
       "      <th>city</th>\n",
       "      <th>lat</th>\n",
       "      <th>long</th>\n",
       "      <th>radius</th>\n",
       "    </tr>\n",
       "  </thead>\n",
       "  <tbody>\n",
       "    <tr>\n",
       "      <th>0</th>\n",
       "      <td>710245730590404608</td>\n",
       "      <td>TTWN SF Bay Area</td>\n",
       "      <td>Power outage in Cupertino #BayArea #Traffic ht...</td>\n",
       "      <td>2016-03-16 23:25:52</td>\n",
       "      <td>power outage</td>\n",
       "      <td>San Jose</td>\n",
       "      <td>37.3323</td>\n",
       "      <td>-121.853394</td>\n",
       "      <td>10mi</td>\n",
       "    </tr>\n",
       "    <tr>\n",
       "      <th>1</th>\n",
       "      <td>708811502241734656</td>\n",
       "      <td>San Jose Now</td>\n",
       "      <td>WEATHER ALERT: Flash flood watch in Bay Area a...</td>\n",
       "      <td>2016-03-13 00:26:45</td>\n",
       "      <td>power outage</td>\n",
       "      <td>San Jose</td>\n",
       "      <td>37.3323</td>\n",
       "      <td>-121.853394</td>\n",
       "      <td>10mi</td>\n",
       "    </tr>\n",
       "    <tr>\n",
       "      <th>2</th>\n",
       "      <td>706856719733776384</td>\n",
       "      <td>San Jose Now</td>\n",
       "      <td>Power outages:30 in San Francisco154 on Penins...</td>\n",
       "      <td>2016-03-07 14:59:09</td>\n",
       "      <td>power outage</td>\n",
       "      <td>San Jose</td>\n",
       "      <td>37.3323</td>\n",
       "      <td>-121.853394</td>\n",
       "      <td>10mi</td>\n",
       "    </tr>\n",
       "    <tr>\n",
       "      <th>3</th>\n",
       "      <td>726876023573204993</td>\n",
       "      <td>San Jose Now</td>\n",
       "      <td>Power outage in Fremont. Several intersections...</td>\n",
       "      <td>2016-05-01 20:48:43</td>\n",
       "      <td>power outage</td>\n",
       "      <td>San Jose</td>\n",
       "      <td>37.3323</td>\n",
       "      <td>-121.853394</td>\n",
       "      <td>10mi</td>\n",
       "    </tr>\n",
       "    <tr>\n",
       "      <th>4</th>\n",
       "      <td>724681945095888897</td>\n",
       "      <td>San Jose Now</td>\n",
       "      <td>East Bay power outages also affects BART, UC B...</td>\n",
       "      <td>2016-04-25 19:30:14</td>\n",
       "      <td>power outage</td>\n",
       "      <td>San Jose</td>\n",
       "      <td>37.3323</td>\n",
       "      <td>-121.853394</td>\n",
       "      <td>10mi</td>\n",
       "    </tr>\n",
       "  </tbody>\n",
       "</table>\n",
       "</div>"
      ],
      "text/plain": [
       "             tweet_id          username  \\\n",
       "0  710245730590404608  TTWN SF Bay Area   \n",
       "1  708811502241734656      San Jose Now   \n",
       "2  706856719733776384      San Jose Now   \n",
       "3  726876023573204993      San Jose Now   \n",
       "4  724681945095888897      San Jose Now   \n",
       "\n",
       "                                                text           tweet_date  \\\n",
       "0  Power outage in Cupertino #BayArea #Traffic ht...  2016-03-16 23:25:52   \n",
       "1  WEATHER ALERT: Flash flood watch in Bay Area a...  2016-03-13 00:26:45   \n",
       "2  Power outages:30 in San Francisco154 on Penins...  2016-03-07 14:59:09   \n",
       "3  Power outage in Fremont. Several intersections...  2016-05-01 20:48:43   \n",
       "4  East Bay power outages also affects BART, UC B...  2016-04-25 19:30:14   \n",
       "\n",
       "    search_term      city      lat        long radius  \n",
       "0  power outage  San Jose  37.3323 -121.853394   10mi  \n",
       "1  power outage  San Jose  37.3323 -121.853394   10mi  \n",
       "2  power outage  San Jose  37.3323 -121.853394   10mi  \n",
       "3  power outage  San Jose  37.3323 -121.853394   10mi  \n",
       "4  power outage  San Jose  37.3323 -121.853394   10mi  "
      ]
     },
     "execution_count": 611,
     "metadata": {},
     "output_type": "execute_result"
    }
   ],
   "source": [
    "tweets.head()"
   ]
  },
  {
   "cell_type": "code",
   "execution_count": 612,
   "metadata": {},
   "outputs": [
    {
     "data": {
      "text/plain": [
       "tweet_id       0\n",
       "username       0\n",
       "text           0\n",
       "tweet_date     0\n",
       "search_term    0\n",
       "city           0\n",
       "lat            0\n",
       "long           0\n",
       "radius         0\n",
       "dtype: int64"
      ]
     },
     "execution_count": 612,
     "metadata": {},
     "output_type": "execute_result"
    }
   ],
   "source": [
    "tweets.isnull().sum()"
   ]
  },
  {
   "cell_type": "markdown",
   "metadata": {},
   "source": [
    "There are no null values in the dataset. "
   ]
  },
  {
   "cell_type": "markdown",
   "metadata": {},
   "source": [
    "## NLP - Cleaning Tweets and Usernames"
   ]
  },
  {
   "cell_type": "code",
   "execution_count": 613,
   "metadata": {},
   "outputs": [],
   "source": [
    "def clean_str(string):\n",
    "    string = string.lower()\n",
    "    url_pattern = r'((http|ftp|https):\\/\\/)?[\\w\\-_]+(\\.[\\w\\-_]+)+([\\w\\-\\.,@?^=%&amp;:/~\\+#]*[\\w\\-\\@?^=%&amp;/~\\+#])?'\n",
    "    string = re.sub(url_pattern, ' ', string)\n",
    "    string = re.sub(r\"\\n\", \"\", string)    \n",
    "    string = re.sub(r\"\\r\", \"\", string) \n",
    "    string = re.sub(r\"[0-9]+\", \"\", string)\n",
    "    string = re.sub(r'[^\\w\\s]','', string)    \n",
    "    \n",
    "    return string.strip()"
   ]
  },
  {
   "cell_type": "code",
   "execution_count": 614,
   "metadata": {},
   "outputs": [],
   "source": [
    "tweets['text'] = tweets['text'].map(clean_str) # clean tweets\n",
    "tweets['username'] = tweets['username'].map(clean_str) # clean username"
   ]
  },
  {
   "cell_type": "code",
   "execution_count": 615,
   "metadata": {},
   "outputs": [],
   "source": [
    "# making new column with username + tweet\n",
    "tweets['name_and_tweet'] = tweets['username'] + \" \" +tweets['text']"
   ]
  },
  {
   "cell_type": "markdown",
   "metadata": {},
   "source": [
    "The above code cleans each tweet, removing any character that is not a letter, removes links, makes all text lowercase, and removes emojis. We ran that cleaning function on the text from the tweets (`text`) and the `username` for each tweet. We then created a new column that includes the username and the tweet. "
   ]
  },
  {
   "cell_type": "markdown",
   "metadata": {},
   "source": [
    "## CountVectorizer"
   ]
  },
  {
   "cell_type": "code",
   "execution_count": 616,
   "metadata": {},
   "outputs": [],
   "source": [
    "cv_tweets = CountVectorizer(stop_words = 'english')\n",
    "tweet_words = cv_tweets.fit_transform(tweets['name_and_tweet'])\n",
    "\n",
    "cv_tweets = pd.DataFrame(tweet_words.todense(), columns=cv_tweets.get_feature_names())"
   ]
  },
  {
   "cell_type": "code",
   "execution_count": 617,
   "metadata": {},
   "outputs": [],
   "source": [
    "top_twenty_words = cv_tweets.sum().sort_values().tail(20)"
   ]
  },
  {
   "cell_type": "code",
   "execution_count": 618,
   "metadata": {},
   "outputs": [
    {
     "data": {
      "text/plain": [
       "just         1926\n",
       "electric     1940\n",
       "lights       2446\n",
       "light        3414\n",
       "power       12462\n",
       "dtype: int64"
      ]
     },
     "execution_count": 618,
     "metadata": {},
     "output_type": "execute_result"
    }
   ],
   "source": [
    "top_twenty_words.tail()"
   ]
  },
  {
   "cell_type": "code",
   "execution_count": 619,
   "metadata": {},
   "outputs": [
    {
     "data": {
      "image/png": "[encoded data removed]",
      "text/plain": [
       "<Figure size 720x576 with 1 Axes>"
      ]
     },
     "metadata": {
      "needs_background": "light"
     },
     "output_type": "display_data"
    }
   ],
   "source": [
    "plt.figure(figsize=(10,8))\n",
    "\n",
    "top_twenty_words.plot(kind='barh')\n",
    "plt.title('Top 20 Words')\n",
    "plt.xlabel('Word Count')\n",
    "plt.ylabel('Word');"
   ]
  },
  {
   "cell_type": "markdown",
   "metadata": {},
   "source": [
    "We used CountVectorizer to get a word count to analyze the most frequently occuring words in the tweets we scraped. This allowed us to gain a better understanding of the key words related to our word and word phrase searches when we originally scraped tweets from Twitter. Once these words were identified we could start to assess the words most associated with the most frequently occuring words. "
   ]
  },
  {
   "cell_type": "markdown",
   "metadata": {},
   "source": [
    "## Word2Vec Model"
   ]
  },
  {
   "cell_type": "code",
   "execution_count": 620,
   "metadata": {},
   "outputs": [],
   "source": [
    "# turning cleaned tweets into list of lists\n",
    "\n",
    "def tweet_to_words(tweets):\n",
    "    # empty list of tweets\n",
    "    list_of_tweets = []\n",
    "    \n",
    "    # make tweet into list of words\n",
    "    for tweet in tweets:\n",
    "        tweet = tweet.split()\n",
    "    \n",
    "        # list of stop words\n",
    "        stops = ['los','angeles','san','diego','jose','columbus','cleveland',\n",
    "             'cincinatti','detroit','ann','arbor','warren','new','york',\n",
    "             'ny','buffalo','rochester','michigan','california','ohio','texas',\n",
    "            'st','amc','scott','schudlich','finnished','de','antonio','la','houston',\n",
    "                 'dallas', 'santa', 'ana', 'clara', 'grand', 'rapids', 'kearny','mesa',\n",
    "                'peticolas','christmas']\n",
    "    \n",
    "        # Remove stopwords.\n",
    "        meaningful_tweet = [w for w in tweet if not w in stops]\n",
    "    \n",
    "        # add tweet to big list\n",
    "        list_of_tweets.append(meaningful_tweet)\n",
    "\n",
    "    return list_of_tweets"
   ]
  },
  {
   "cell_type": "markdown",
   "metadata": {},
   "source": [
    "A stop words list was created through an iterative process with the Word2Vec model. We looked at the most closely associated words to our `search_terms` and took out words that were not relevant or associated to a different meaning of the word.\n",
    "\n",
    "For example, we took out all words associated with the cities/locations, because they didn't directly impact the meaning of a tweet and its discussion of a power outage. \n",
    "\n",
    "Another example is the word _peticolas_, which we learned is a brewery in Dallas, Texas, that makes `light` and `dark` beers, and a drink called `turn out the lights`. Thus, _Peticolas_ was throwing off our model. \n",
    "\n",
    "We made each tweet into a list of _meaningful_ words in that tweet, meaning the words were not found in our stop words list `stops`. "
   ]
  },
  {
   "cell_type": "code",
   "execution_count": 621,
   "metadata": {},
   "outputs": [],
   "source": [
    "# making corpus, which is a list of lists for all of the tweets \n",
    "corpus = tweet_to_words(tweets['name_and_tweet'])"
   ]
  },
  {
   "cell_type": "code",
   "execution_count": 622,
   "metadata": {},
   "outputs": [],
   "source": [
    " # Train a model! \n",
    "model = Word2Vec(corpus,      # Corpus of data.\n",
    "                  size=150,    # How many dimensions do you want in your word vector?\n",
    "                  window=5,    # How many \"context words\" do you want?\n",
    "                  min_count=3, # Ignores words below this threshold.\n",
    "                  sg=1,        # SG = 1 uses SkipGram\n",
    "                  workers=4)   # Number of \"worker threads\" to use (parallelizes process)."
   ]
  },
  {
   "cell_type": "markdown",
   "metadata": {},
   "source": [
    "We used a **Word2Vec** model, which \"is a two-layer neural net that processes text by “vectorizing” words. Its input is a text corpus and its output is a set of vectors: feature vectors that represent words in that corpus.\" [i](https://pathmind.com/wiki/word2vec). \"Word2vec can make highly accurate guesses about a word’s meaning based on past appearances. Those guesses can be used to establish a word’s association with other words.\" \n",
    "\n",
    "We put the corpus of tweets found through our specific power outage scrape into Word2Vec to find the words most associated with our key search terms. Our `search_terms` were those that we put into each individual query list in the data collection process. Our model can now return a _cosine similarity_ for each pair of words which indicates how similar or associated a pair of words is. "
   ]
  },
  {
   "cell_type": "markdown",
   "metadata": {},
   "source": [
    "## Words most and least associated with `search_terms`"
   ]
  },
  {
   "cell_type": "markdown",
   "metadata": {},
   "source": [
    "For each of our `seach_terms`, including the utility companies,  we looked at the top 10 most associated words and top 10 least associated words. Associated is determined by cosine similarity, where a value of 1 means completely the same, a value of -1 means completely the opposite and a value of 0 means one word will give you no information on the other word. We determined the most associated words to be those with the highest cosine similarities, and the least associated words to be those with cosine similarities closest to 0, giving us no information about that word.  \n",
    "\n",
    "Some examples of those most and least associated words are below. "
   ]
  },
  {
   "cell_type": "code",
   "execution_count": 623,
   "metadata": {},
   "outputs": [
    {
     "name": "stderr",
     "output_type": "stream",
     "text": [
      "/opt/anaconda3/envs/dsi/lib/python3.7/site-packages/ipykernel_launcher.py:2: DeprecationWarning: Call to deprecated `most_similar` (Method will be removed in 4.0.0, use self.wv.most_similar() instead).\n",
      "  \n"
     ]
    },
    {
     "data": {
      "text/plain": [
       "[('customers', 0.7839943766593933),\n",
       " ('outage', 0.7572487592697144),\n",
       " ('reports', 0.7288787961006165),\n",
       " ('without', 0.7181663513183594),\n",
       " ('bay', 0.7172672152519226),\n",
       " ('widespread', 0.7129043340682983),\n",
       " ('county', 0.7104349136352539),\n",
       " ('areas', 0.7097245454788208),\n",
       " ('restoration', 0.7078258991241455),\n",
       " ('weather', 0.7076248526573181)]"
      ]
     },
     "execution_count": 623,
     "metadata": {},
     "output_type": "execute_result"
    }
   ],
   "source": [
    "# most similar to 'outages'\n",
    "model.most_similar('outages')"
   ]
  },
  {
   "cell_type": "code",
   "execution_count": 624,
   "metadata": {},
   "outputs": [
    {
     "name": "stderr",
     "output_type": "stream",
     "text": [
      "/opt/anaconda3/envs/dsi/lib/python3.7/site-packages/ipykernel_launcher.py:2: DeprecationWarning: Call to deprecated `most_similar` (Method will be removed in 4.0.0, use self.wv.most_similar() instead).\n",
      "  \n"
     ]
    },
    {
     "data": {
      "text/plain": [
       "[('customer', 0.9411681890487671),\n",
       " ('utilities', 0.9180457592010498),\n",
       " ('steffen', 0.9126494526863098),\n",
       " ('consumers', 0.9062497615814209),\n",
       " ('prepare', 0.9056295156478882),\n",
       " ('centerpoint', 0.903733491897583),\n",
       " ('electrical', 0.9003263115882874),\n",
       " ('plans', 0.8971975445747375),\n",
       " ('extreme', 0.8962675929069519),\n",
       " ('payment', 0.8962274193763733)]"
      ]
     },
     "execution_count": 624,
     "metadata": {},
     "output_type": "execute_result"
    }
   ],
   "source": [
    "# most similar to 'interruption'\n",
    "model.most_similar('interruption')"
   ]
  },
  {
   "cell_type": "code",
   "execution_count": 629,
   "metadata": {},
   "outputs": [
    {
     "name": "stderr",
     "output_type": "stream",
     "text": [
      "/opt/anaconda3/envs/dsi/lib/python3.7/site-packages/ipykernel_launcher.py:2: DeprecationWarning: Call to deprecated `most_similar` (Method will be removed in 4.0.0, use self.wv.most_similar() instead).\n",
      "  \n"
     ]
    },
    {
     "data": {
      "text/plain": [
       "[('all', 0.15609130263328552),\n",
       " ('holy', 0.13891884684562683),\n",
       " ('clients', 0.12998947501182556),\n",
       " ('chain', 0.12960048019886017),\n",
       " ('ark', 0.1294528692960739),\n",
       " ('eyes', 0.12915803492069244),\n",
       " ('general', 0.12788721919059753),\n",
       " ('corrupt', 0.12780514359474182),\n",
       " ('eric', 0.12671306729316711),\n",
       " ('massage', 0.12667997181415558)]"
      ]
     },
     "execution_count": 629,
     "metadata": {},
     "output_type": "execute_result"
    }
   ],
   "source": [
    "# least similar to coned (ConEdison)\n",
    "model.most_similar(positive ='coned', negative='coned')"
   ]
  },
  {
   "cell_type": "markdown",
   "metadata": {},
   "source": [
    "Through this process we were able to compile a list of the most associated words with our `search_terms`, as well as a list of those with cosine similarities close to 0,  to help us determine how related to power outages a tweet would be. Those lists are below."
   ]
  },
  {
   "cell_type": "code",
   "execution_count": 431,
   "metadata": {},
   "outputs": [],
   "source": [
    "associated = ['outages', 'poweroutage','outage','poweroutages','area','failure','dte',\n",
    "              'transformer','caused','update','storm','customers','without','lines',\n",
    "              'crews','affecting','experiencing','restoration','reports','area','ladwp',\n",
    "              'clepublicpower','hurricaneseason','dispatching','interruption','report',\n",
    "              'service','centerpoint','inconvenience','cps','customer','consumers',\n",
    "              'prevent','conditions','fire','explosion','pole','accident','caused',\n",
    "              'electricity','grid','information','pge','aep','currently','planned',\n",
    "              'reported','widespread','wind','updates','estimates','according',\n",
    "             'utility','areas','sdge','warnings','capacity','thousand','disabled',\n",
    "              'covid','regional','impacted','resolve','determine','phones','homes',\n",
    "             'numerous','resume','forecasted','reopen','shutdown','blackout','scheduled',\n",
    "             'reported','partial','significant','causes','delayed','temporary',\n",
    "             'unplanned','shortly','utilities','safety','homes','route','businesses',\n",
    "             'national','pge','coned','rge','dukeenergy','consumersenergy',\n",
    "              'nationalgrid','wildfires','info','electrical']\n",
    "\n",
    "non_associated = ['electric','martin','darkness','so','luther','power','great',\n",
    "                  'sure','trump','she','of','or','by','day','up','if','please',\n",
    "                  'for','their','your','massive','major','parts','by','metro',\n",
    "                  'that','south','any','widespread','closet','poshmark','car',\n",
    "                 'bike','use','phone','guitar','room','off','play','gas','off',\n",
    "                 'use','out','can','its','some','hall','are','im','do','da','cannot',\n",
    "                   'cut','own','life','hands','wash','miles','care','family',\n",
    "                   'had','person','bill','matter','trust','so','give','realdonaldtrump',\n",
    "                   'absolutely','reason','thats','am','were','be','theyre','youre',\n",
    "                    'was','traffic','both','link','lightsout','video','song','click',\n",
    "                    'bio','bubblelife','mothers','center','zoo','day','cuts','an',\n",
    "                   'festival', 'about','scooter','ready','saw','turn','ford','roberts',\n",
    "                    'william','mary','discount','code','kick','grab','entire','body',\n",
    "                   'myself','heating','john']"
   ]
  },
  {
   "cell_type": "markdown",
   "metadata": {},
   "source": [
    "## Outage Sentiment Analysis"
   ]
  },
  {
   "cell_type": "markdown",
   "metadata": {},
   "source": [
    "We have built a function that calculates the _outage sentiment_ for each tweets. The function will count how many associated words are found in the tweet and returns a percentage. Tweets with an outage sentiment of 1 are estimated to be completely related to power outages, where tweets with outage sentiments of 0 are estimated to be not related to power outages at all. \n",
    "\n",
    "The tweets run through a second stop words list here that is based on the English stop words list from `nltk`. "
   ]
  },
  {
   "cell_type": "code",
   "execution_count": 434,
   "metadata": {},
   "outputs": [],
   "source": [
    "# creating another stop words list \n",
    "custom_stopwords = stopwords.words('english')\n",
    "custom_stopwords.remove('out')"
   ]
  },
  {
   "cell_type": "code",
   "execution_count": 435,
   "metadata": {},
   "outputs": [
    {
     "data": {
      "text/plain": [
       "set()"
      ]
     },
     "execution_count": 435,
     "metadata": {},
     "output_type": "execute_result"
    }
   ],
   "source": [
    "# checking for overlap of associated words and stop words \n",
    "set(associated).intersection(set(custom_stopwords))"
   ]
  },
  {
   "cell_type": "code",
   "execution_count": 436,
   "metadata": {},
   "outputs": [],
   "source": [
    "# code based off of simple_sentiment() from Global Lesson, 5.03 - NLP I\n",
    "\n",
    "def outage_sentiment(tweet):\n",
    "    \"\"\"The function takes a tweet in the form of a list of strings (words). \n",
    "    Will return outage sentiment percentage as a decimal.\"\"\"\n",
    "    \n",
    "    # associated word list\n",
    "    associated = ['outages', 'poweroutage','outage','poweroutages','area','failure','dte',\n",
    "              'transformer','caused','update','storm','customers','without','lines',\n",
    "              'crews','affecting','experiencing','restoration','reports','area','ladwp',\n",
    "              'clepublicpower','hurricaneseason','dispatching','interruption','report',\n",
    "              'service','centerpoint','inconvenience','cps','customer','consumers',\n",
    "              'prevent','conditions','fire','explosion','pole','accident','caused',\n",
    "              'electricity','grid','information','pge','aep','currently','planned',\n",
    "              'reported','widespread','wind','updates','estimates','according',\n",
    "             'utility','areas','sdge','warnings','capacity','thousand','disabled',\n",
    "              'covid','regional','impacted','resolve','determine','phones','homes',\n",
    "             'numerous','resume','forecasted','reopen','shutdown','blackout','scheduled',\n",
    "             'reported','partial','significant','causes','delayed','temporary',\n",
    "             'unplanned','shortly','utilities','safety','homes','route','businesses',\n",
    "             'national','pge','coned','rge','dukeenergy','consumersenergy',\n",
    "              'nationalgrid','wildfires','info','electrical','out','power']\n",
    "\n",
    "    # cleans tweet of nltk stop words\n",
    "    words = [i for i in tweet if i not in custom_stopwords]\n",
    "    \n",
    "    # Count \"associated\" words.\n",
    "    associated_count = len([w for w in words if w in associated])\n",
    "\n",
    "    # calculate sentiment\n",
    "\n",
    "    return round((associated_count) / len(words),2)"
   ]
  },
  {
   "cell_type": "code",
   "execution_count": 580,
   "metadata": {},
   "outputs": [],
   "source": [
    "# calculating outage sentiment for each tweet\n",
    "\n",
    "sentiments = [] # empty list for sentiments\n",
    "for tweet in corpus: # iterate through once-cleaned tweets\n",
    "    os = outage_sentiment(tweet) # calculate sentiment\n",
    "    sentiments.append(os) # append to sentiment list\n"
   ]
  },
  {
   "cell_type": "code",
   "execution_count": 581,
   "metadata": {},
   "outputs": [
    {
     "data": {
      "text/html": [
       "<div>\n",
       "<style scoped>\n",
       "    .dataframe tbody tr th:only-of-type {\n",
       "        vertical-align: middle;\n",
       "    }\n",
       "\n",
       "    .dataframe tbody tr th {\n",
       "        vertical-align: top;\n",
       "    }\n",
       "\n",
       "    .dataframe thead th {\n",
       "        text-align: right;\n",
       "    }\n",
       "</style>\n",
       "<table border=\"1\" class=\"dataframe\">\n",
       "  <thead>\n",
       "    <tr style=\"text-align: right;\">\n",
       "      <th></th>\n",
       "      <th>username_and_tweet</th>\n",
       "      <th>outage_sentiment</th>\n",
       "    </tr>\n",
       "  </thead>\n",
       "  <tbody>\n",
       "    <tr>\n",
       "      <th>0</th>\n",
       "      <td>ttwn sf bay area power outage in cupertino bay...</td>\n",
       "      <td>0.33</td>\n",
       "    </tr>\n",
       "    <tr>\n",
       "      <th>1</th>\n",
       "      <td>san jose now weather alert flash flood watch i...</td>\n",
       "      <td>0.25</td>\n",
       "    </tr>\n",
       "    <tr>\n",
       "      <th>2</th>\n",
       "      <td>san jose now power outages in san francisco on...</td>\n",
       "      <td>0.18</td>\n",
       "    </tr>\n",
       "    <tr>\n",
       "      <th>3</th>\n",
       "      <td>san jose now power outage in fremont several i...</td>\n",
       "      <td>0.23</td>\n",
       "    </tr>\n",
       "    <tr>\n",
       "      <th>4</th>\n",
       "      <td>san jose now east bay power outages also affec...</td>\n",
       "      <td>0.20</td>\n",
       "    </tr>\n",
       "  </tbody>\n",
       "</table>\n",
       "</div>"
      ],
      "text/plain": [
       "                                  username_and_tweet  outage_sentiment\n",
       "0  ttwn sf bay area power outage in cupertino bay...              0.33\n",
       "1  san jose now weather alert flash flood watch i...              0.25\n",
       "2  san jose now power outages in san francisco on...              0.18\n",
       "3  san jose now power outage in fremont several i...              0.23\n",
       "4  san jose now east bay power outages also affec...              0.20"
      ]
     },
     "execution_count": 581,
     "metadata": {},
     "output_type": "execute_result"
    }
   ],
   "source": [
    "# quickly looking at some tweets and their outage sentiments \n",
    "data = {'username_and_tweet':tweets['name_and_tweet'],'outage_sentiment':sentiments}\n",
    "\n",
    "sent_df = pd.DataFrame(data)\n",
    "sent_df.head()"
   ]
  },
  {
   "cell_type": "code",
   "execution_count": 599,
   "metadata": {},
   "outputs": [],
   "source": [
    "# inserting the outage sentiment into tweets df \n",
    "tweets.insert(11,column = 'outage_sentiment', value=sentiments, allow_duplicates=False)"
   ]
  },
  {
   "cell_type": "code",
   "execution_count": 600,
   "metadata": {},
   "outputs": [],
   "source": [
    "# inserting state into the tweets df \n",
    "state = {'San Jose':'California', 'San Diego': 'California', 'Los Angeles':'California', \n",
    "         'Detroit':'Michigan', 'Grand Rapids': 'Michigan','Ann Arbor': 'Michigan', \n",
    "         'Dallas': 'Texas', 'San Antonio': 'Texas',  'Houston': 'Texas', \n",
    "         'New York City': 'New York', 'Buffalo': 'New York', 'Rochester': 'New York',\n",
    "         'Columbus': 'Ohio', 'Cincinnati': 'Ohio', 'Cleveland': 'Ohio'}\n",
    "tweets['state'] = tweets['city'].map(state)"
   ]
  },
  {
   "cell_type": "markdown",
   "metadata": {},
   "source": [
    "## Write Data to CSV"
   ]
  },
  {
   "cell_type": "code",
   "execution_count": 601,
   "metadata": {},
   "outputs": [],
   "source": [
    "# exporting cleaned tweets df to csv\n",
    "tweets.to_csv('../data/cleaned_tweets.csv', index=False)"
   ]
  },
  {
   "cell_type": "code",
   "execution_count": 602,
   "metadata": {},
   "outputs": [
    {
     "data": {
      "text/html": [
       "<div>\n",
       "<style scoped>\n",
       "    .dataframe tbody tr th:only-of-type {\n",
       "        vertical-align: middle;\n",
       "    }\n",
       "\n",
       "    .dataframe tbody tr th {\n",
       "        vertical-align: top;\n",
       "    }\n",
       "\n",
       "    .dataframe thead th {\n",
       "        text-align: right;\n",
       "    }\n",
       "</style>\n",
       "<table border=\"1\" class=\"dataframe\">\n",
       "  <thead>\n",
       "    <tr style=\"text-align: right;\">\n",
       "      <th></th>\n",
       "      <th>tweet_id</th>\n",
       "      <th>username</th>\n",
       "      <th>text</th>\n",
       "      <th>tweet_date</th>\n",
       "      <th>search_term</th>\n",
       "      <th>city</th>\n",
       "      <th>lat</th>\n",
       "      <th>long</th>\n",
       "      <th>radius</th>\n",
       "      <th>query_start</th>\n",
       "      <th>name_and_tweet</th>\n",
       "      <th>outage_sentiment</th>\n",
       "      <th>state</th>\n",
       "    </tr>\n",
       "  </thead>\n",
       "  <tbody>\n",
       "    <tr>\n",
       "      <th>0</th>\n",
       "      <td>710245730590404608</td>\n",
       "      <td>ttwn sf bay area</td>\n",
       "      <td>power outage in cupertino bayarea traffic</td>\n",
       "      <td>2016-03-16 23:25:52</td>\n",
       "      <td>power outage</td>\n",
       "      <td>San Jose</td>\n",
       "      <td>37.332300</td>\n",
       "      <td>-121.853394</td>\n",
       "      <td>10mi</td>\n",
       "      <td>2016-01-01</td>\n",
       "      <td>ttwn sf bay area power outage in cupertino bay...</td>\n",
       "      <td>0.33</td>\n",
       "      <td>California</td>\n",
       "    </tr>\n",
       "    <tr>\n",
       "      <th>1</th>\n",
       "      <td>708811502241734656</td>\n",
       "      <td>san jose now</td>\n",
       "      <td>weather alert flash flood watch in bay area am...</td>\n",
       "      <td>2016-03-13 00:26:45</td>\n",
       "      <td>power outage</td>\n",
       "      <td>San Jose</td>\n",
       "      <td>37.332300</td>\n",
       "      <td>-121.853394</td>\n",
       "      <td>10mi</td>\n",
       "      <td>2016-01-01</td>\n",
       "      <td>san jose now weather alert flash flood watch i...</td>\n",
       "      <td>0.25</td>\n",
       "      <td>California</td>\n",
       "    </tr>\n",
       "    <tr>\n",
       "      <th>2</th>\n",
       "      <td>706856719733776384</td>\n",
       "      <td>san jose now</td>\n",
       "      <td>power outages in san francisco on peninsula in...</td>\n",
       "      <td>2016-03-07 14:59:09</td>\n",
       "      <td>power outage</td>\n",
       "      <td>San Jose</td>\n",
       "      <td>37.332300</td>\n",
       "      <td>-121.853394</td>\n",
       "      <td>10mi</td>\n",
       "      <td>2016-01-01</td>\n",
       "      <td>san jose now power outages in san francisco on...</td>\n",
       "      <td>0.18</td>\n",
       "      <td>California</td>\n",
       "    </tr>\n",
       "    <tr>\n",
       "      <th>3</th>\n",
       "      <td>726876023573204993</td>\n",
       "      <td>san jose now</td>\n",
       "      <td>power outage in fremont several intersections ...</td>\n",
       "      <td>2016-05-01 20:48:43</td>\n",
       "      <td>power outage</td>\n",
       "      <td>San Jose</td>\n",
       "      <td>37.332300</td>\n",
       "      <td>-121.853394</td>\n",
       "      <td>10mi</td>\n",
       "      <td>2016-01-01</td>\n",
       "      <td>san jose now power outage in fremont several i...</td>\n",
       "      <td>0.23</td>\n",
       "      <td>California</td>\n",
       "    </tr>\n",
       "    <tr>\n",
       "      <th>4</th>\n",
       "      <td>724681945095888897</td>\n",
       "      <td>san jose now</td>\n",
       "      <td>east bay power outages also affects bart uc be...</td>\n",
       "      <td>2016-04-25 19:30:14</td>\n",
       "      <td>power outage</td>\n",
       "      <td>San Jose</td>\n",
       "      <td>37.332300</td>\n",
       "      <td>-121.853394</td>\n",
       "      <td>10mi</td>\n",
       "      <td>2016-01-01</td>\n",
       "      <td>san jose now east bay power outages also affec...</td>\n",
       "      <td>0.20</td>\n",
       "      <td>California</td>\n",
       "    </tr>\n",
       "    <tr>\n",
       "      <th>...</th>\n",
       "      <td>...</td>\n",
       "      <td>...</td>\n",
       "      <td>...</td>\n",
       "      <td>...</td>\n",
       "      <td>...</td>\n",
       "      <td>...</td>\n",
       "      <td>...</td>\n",
       "      <td>...</td>\n",
       "      <td>...</td>\n",
       "      <td>...</td>\n",
       "      <td>...</td>\n",
       "      <td>...</td>\n",
       "      <td>...</td>\n",
       "    </tr>\n",
       "    <tr>\n",
       "      <th>16908</th>\n",
       "      <td>1138224668207407106</td>\n",
       "      <td>katy blakey</td>\n",
       "      <td>if  like me  you wondered what to do about the...</td>\n",
       "      <td>2019-06-10 23:21:22</td>\n",
       "      <td>#poweroutage</td>\n",
       "      <td>Dallas</td>\n",
       "      <td>32.776665</td>\n",
       "      <td>-96.796989</td>\n",
       "      <td>15mi</td>\n",
       "      <td>2016-01-01</td>\n",
       "      <td>katy blakey if  like me  you wondered what to ...</td>\n",
       "      <td>0.10</td>\n",
       "      <td>Texas</td>\n",
       "    </tr>\n",
       "    <tr>\n",
       "      <th>16909</th>\n",
       "      <td>1138224130631843840</td>\n",
       "      <td>t r e y</td>\n",
       "      <td>this dallas poweroutage has gone to far the pa...</td>\n",
       "      <td>2019-06-10 23:19:14</td>\n",
       "      <td>#poweroutage</td>\n",
       "      <td>Dallas</td>\n",
       "      <td>32.776665</td>\n",
       "      <td>-96.796989</td>\n",
       "      <td>15mi</td>\n",
       "      <td>2016-01-01</td>\n",
       "      <td>t r e y this dallas poweroutage has gone to fa...</td>\n",
       "      <td>0.12</td>\n",
       "      <td>Texas</td>\n",
       "    </tr>\n",
       "    <tr>\n",
       "      <th>16910</th>\n",
       "      <td>1138140304341635073</td>\n",
       "      <td>charity advertising  marketing partners</td>\n",
       "      <td>cant stop wont stop  dallasweather thunderstor...</td>\n",
       "      <td>2019-06-10 17:46:08</td>\n",
       "      <td>#poweroutage</td>\n",
       "      <td>Dallas</td>\n",
       "      <td>32.776665</td>\n",
       "      <td>-96.796989</td>\n",
       "      <td>15mi</td>\n",
       "      <td>2016-01-01</td>\n",
       "      <td>charity advertising  marketing partners cant s...</td>\n",
       "      <td>0.07</td>\n",
       "      <td>Texas</td>\n",
       "    </tr>\n",
       "    <tr>\n",
       "      <th>16911</th>\n",
       "      <td>1138102344728666113</td>\n",
       "      <td>eisemann center</td>\n",
       "      <td>power ac  wifi if anyone needs a place to chil...</td>\n",
       "      <td>2019-06-10 15:15:18</td>\n",
       "      <td>#poweroutage</td>\n",
       "      <td>Dallas</td>\n",
       "      <td>32.776665</td>\n",
       "      <td>-96.796989</td>\n",
       "      <td>15mi</td>\n",
       "      <td>2016-01-01</td>\n",
       "      <td>eisemann center power ac  wifi if anyone needs...</td>\n",
       "      <td>0.11</td>\n",
       "      <td>Texas</td>\n",
       "    </tr>\n",
       "    <tr>\n",
       "      <th>16912</th>\n",
       "      <td>1137919777261985792</td>\n",
       "      <td>patrick ptomey</td>\n",
       "      <td>eating meatballs in the dark dallasstorm power...</td>\n",
       "      <td>2019-06-10 03:09:51</td>\n",
       "      <td>#poweroutage</td>\n",
       "      <td>Dallas</td>\n",
       "      <td>32.776665</td>\n",
       "      <td>-96.796989</td>\n",
       "      <td>15mi</td>\n",
       "      <td>2016-01-01</td>\n",
       "      <td>patrick ptomey eating meatballs in the dark da...</td>\n",
       "      <td>0.14</td>\n",
       "      <td>Texas</td>\n",
       "    </tr>\n",
       "  </tbody>\n",
       "</table>\n",
       "<p>16913 rows × 13 columns</p>\n",
       "</div>"
      ],
      "text/plain": [
       "                  tweet_id                                 username  \\\n",
       "0       710245730590404608                         ttwn sf bay area   \n",
       "1       708811502241734656                             san jose now   \n",
       "2       706856719733776384                             san jose now   \n",
       "3       726876023573204993                             san jose now   \n",
       "4       724681945095888897                             san jose now   \n",
       "...                    ...                                      ...   \n",
       "16908  1138224668207407106                              katy blakey   \n",
       "16909  1138224130631843840                                  t r e y   \n",
       "16910  1138140304341635073  charity advertising  marketing partners   \n",
       "16911  1138102344728666113                          eisemann center   \n",
       "16912  1137919777261985792                           patrick ptomey   \n",
       "\n",
       "                                                    text           tweet_date  \\\n",
       "0              power outage in cupertino bayarea traffic  2016-03-16 23:25:52   \n",
       "1      weather alert flash flood watch in bay area am...  2016-03-13 00:26:45   \n",
       "2      power outages in san francisco on peninsula in...  2016-03-07 14:59:09   \n",
       "3      power outage in fremont several intersections ...  2016-05-01 20:48:43   \n",
       "4      east bay power outages also affects bart uc be...  2016-04-25 19:30:14   \n",
       "...                                                  ...                  ...   \n",
       "16908  if  like me  you wondered what to do about the...  2019-06-10 23:21:22   \n",
       "16909  this dallas poweroutage has gone to far the pa...  2019-06-10 23:19:14   \n",
       "16910  cant stop wont stop  dallasweather thunderstor...  2019-06-10 17:46:08   \n",
       "16911  power ac  wifi if anyone needs a place to chil...  2019-06-10 15:15:18   \n",
       "16912  eating meatballs in the dark dallasstorm power...  2019-06-10 03:09:51   \n",
       "\n",
       "        search_term      city        lat        long radius query_start  \\\n",
       "0      power outage  San Jose  37.332300 -121.853394   10mi  2016-01-01   \n",
       "1      power outage  San Jose  37.332300 -121.853394   10mi  2016-01-01   \n",
       "2      power outage  San Jose  37.332300 -121.853394   10mi  2016-01-01   \n",
       "3      power outage  San Jose  37.332300 -121.853394   10mi  2016-01-01   \n",
       "4      power outage  San Jose  37.332300 -121.853394   10mi  2016-01-01   \n",
       "...             ...       ...        ...         ...    ...         ...   \n",
       "16908  #poweroutage    Dallas  32.776665  -96.796989   15mi  2016-01-01   \n",
       "16909  #poweroutage    Dallas  32.776665  -96.796989   15mi  2016-01-01   \n",
       "16910  #poweroutage    Dallas  32.776665  -96.796989   15mi  2016-01-01   \n",
       "16911  #poweroutage    Dallas  32.776665  -96.796989   15mi  2016-01-01   \n",
       "16912  #poweroutage    Dallas  32.776665  -96.796989   15mi  2016-01-01   \n",
       "\n",
       "                                          name_and_tweet  outage_sentiment  \\\n",
       "0      ttwn sf bay area power outage in cupertino bay...              0.33   \n",
       "1      san jose now weather alert flash flood watch i...              0.25   \n",
       "2      san jose now power outages in san francisco on...              0.18   \n",
       "3      san jose now power outage in fremont several i...              0.23   \n",
       "4      san jose now east bay power outages also affec...              0.20   \n",
       "...                                                  ...               ...   \n",
       "16908  katy blakey if  like me  you wondered what to ...              0.10   \n",
       "16909  t r e y this dallas poweroutage has gone to fa...              0.12   \n",
       "16910  charity advertising  marketing partners cant s...              0.07   \n",
       "16911  eisemann center power ac  wifi if anyone needs...              0.11   \n",
       "16912  patrick ptomey eating meatballs in the dark da...              0.14   \n",
       "\n",
       "            state  \n",
       "0      California  \n",
       "1      California  \n",
       "2      California  \n",
       "3      California  \n",
       "4      California  \n",
       "...           ...  \n",
       "16908       Texas  \n",
       "16909       Texas  \n",
       "16910       Texas  \n",
       "16911       Texas  \n",
       "16912       Texas  \n",
       "\n",
       "[16913 rows x 13 columns]"
      ]
     },
     "execution_count": 602,
     "metadata": {},
     "output_type": "execute_result"
    }
   ],
   "source": [
    "tweets"
   ]
  },
  {
   "cell_type": "markdown",
   "metadata": {},
   "source": [
    "## Next Steps"
   ]
  },
  {
   "cell_type": "markdown",
   "metadata": {},
   "source": [
    "Now that we've calculated the outage sentiment for each tweet, we will do more exploratory data analysis. We will take a deeper dive into the tweets and the outage sentiment they received, as well as how other factors affected outage sentiment. Continue to the `03_EDA.ipynb` [notebook](./03_EDA.ipynb)."
   ]
  }
 ],
 "metadata": {
  "kernelspec": {
   "display_name": "Python 3",
   "language": "python",
   "name": "python3"
  },
  "language_info": {
   "codemirror_mode": {
    "name": "ipython",
    "version": 3
   },
   "file_extension": ".py",
   "mimetype": "text/x-python",
   "name": "python",
   "nbconvert_exporter": "python",
   "pygments_lexer": "ipython3",
   "version": "3.7.6"
  }
 },
 "nbformat": 4,
 "nbformat_minor": 4
}
