{
 "cells": [
  {
   "cell_type": "code",
   "execution_count": 10,
   "metadata": {},
   "outputs": [],
   "source": [
    "import pandas as pd\n",
    "import json\n",
    "import tweepy"
   ]
  },
  {
   "cell_type": "code",
   "execution_count": 4,
   "metadata": {},
   "outputs": [],
   "source": [
    "#Adding credentials\n",
    "consumer_key = 'irzeg5mNLek4utdotfT284wLV'\n",
    "consumer_secret = 'L42uDnM5f9Qqbiql2mQBKwisTt9EozJVfjdy6d5cGzyPDJ6L13'\n",
    "access_token = '17564363-ISwFywmfdZlSzZ5dxYNbHdyKdKaoZqbv531tCiZk2'\n",
    "access_token_secret = '0u936wgBZd0Q6Dft7aQImehn0QcP1eX4BWAdqkoLZaIFH'\n",
    "\n",
    "twitter_keys = {\n",
    "        'consumer_key':        'irzeg5mNLek4utdotfT284wLV',\n",
    "        'consumer_secret':     'L42uDnM5f9Qqbiql2mQBKwisTt9EozJVfjdy6d5cGzyPDJ6L13',\n",
    "        'access_token_key':    '17564363-ISwFywmfdZlSzZ5dxYNbHdyKdKaoZqbv531tCiZk2',\n",
    "        'access_token_secret': '0u936wgBZd0Q6Dft7aQImehn0QcP1eX4BWAdqkoLZaIFH'\n",
    "    }"
   ]
  },
  {
   "cell_type": "code",
   "execution_count": 6,
   "metadata": {
    "scrolled": true
   },
   "outputs": [
    {
     "name": "stdout",
     "output_type": "stream",
     "text": [
      "Here's the full interview with @PikettyLeMonde: https://t.co/iuIJ3vmj4q\n",
      "I didn’t buy Ford you idiot. https://t.co/IoI6oqagTJ\n",
      "RT @KTLA: After allegations that deputies shared photos from the helicopter crash that killed Lakers star Kobe Bryant, his daughter and 7 o…\n",
      "A 72-year-old bicyclist was killed by an SUV that was trying to parallel park in the East Village. \n",
      "\n",
      "https://t.co/Dk5eswgEwE\n",
      "Madonna flew from UK to Bridgehampton to attend birthday party https://t.co/njGOS45Dwa https://t.co/L9mrsiWLNO\n",
      "“I was kind of like their voice because they were voiceless.” Tanisha Brunson-Malone places yellow flowers on the b… https://t.co/34ljARw1Gm\n",
      "RT @glamelegance: @realDonaldTrump Lucky?? 70K innocent American citizens died on your watch in 8 weeks. 🙄 #UnfitToBePresident\n",
      "RT @briantylercohen: @realDonaldTrump We have 4% of the world’s population and 34% of the world’s cases.\n",
      "\n",
      "Maybe Mexico isn’t the issue here…\n",
      "Southbound 3 trains are proceeding with delays after we moved a train with a door malfunction at 145 St . https://t.co/nI359fRgYg\n",
      "RT @soledadobrien: Just. One. With the follow up.\n",
      "Walt Disney was racist\n",
      "RT @liz_anne: Growth is realizing that other people’s judgements of you are their burdens, not yours\n",
      "Disney says it lost $1.4 billion during its last quarter because of the coronavirus outbreak. And its financial pre… https://t.co/8f5hmlcV5o\n",
      "What’s wild is that Super Heavy will have 31 Raptor engines in same space!\n",
      "Knicks great Patrick Ewing: My two Olympic gold medals were stolen https://t.co/JiaJjinw1y https://t.co/H02JAZvS7w\n",
      "Southbound 3 trains are delayed while our crews work to correct a door malfunction on a train at 145 St.\n",
      "Every single 'Harry Potter' spell, ranked by usefulness https://t.co/5WqWPBnqGC https://t.co/P3odloucLL\n",
      "Scott Disick's Rehab Facility Releases Statement After His Privacy Was Violated! (via @JustJared) https://t.co/yqHGe5fE4n\n",
      "cinco de dilpo https://t.co/l09ycoU5nm\n"
     ]
    }
   ],
   "source": [
    "auth = tweepy.OAuthHandler(consumer_key, consumer_secret)\n",
    "auth.set_access_token(access_token, access_token_secret)\n",
    "\n",
    "api = tweepy.API(auth)\n",
    "\n",
    "public_tweets = api.home_timeline()\n",
    "for tweet in public_tweets:\n",
    "    print(tweet.text)"
   ]
  },
  {
   "cell_type": "code",
   "execution_count": 7,
   "metadata": {
    "scrolled": true
   },
   "outputs": [
    {
     "data": {
      "text/plain": [
       "Status(_api=<tweepy.api.API object at 0x121254890>, _json={'created_at': 'Wed May 06 03:43:27 +0000 2020', 'id': 1257878620321742850, 'id_str': '1257878620321742850', 'text': \"Here's the full interview with @PikettyLeMonde: https://t.co/iuIJ3vmj4q\", 'truncated': False, 'entities': {'hashtags': [], 'symbols': [], 'user_mentions': [{'screen_name': 'PikettyLeMonde', 'name': 'Thomas Piketty', 'id': 4068347835, 'id_str': '4068347835', 'indices': [31, 46]}], 'urls': [{'url': 'https://t.co/iuIJ3vmj4q', 'expanded_url': 'https://youtu.be/XtahuPcsNVM', 'display_url': 'youtu.be/XtahuPcsNVM', 'indices': [48, 71]}]}, 'source': '<a href=\"https://mobile.twitter.com\" rel=\"nofollow\">Twitter Web App</a>', 'in_reply_to_status_id': 1257835808024862721, 'in_reply_to_status_id_str': '1257835808024862721', 'in_reply_to_user_id': 158414847, 'in_reply_to_user_id_str': '158414847', 'in_reply_to_screen_name': 'TheDailyShow', 'user': {'id': 158414847, 'id_str': '158414847', 'name': 'The Daily Show', 'screen_name': 'TheDailyShow', 'location': '', 'description': \"Trevor Noah and The World's Fakest News Team. Weeknights 11/10c on @ComedyCentral.\\n\\nDonate to #FirstRespondersFirst: https://t.co/Nkrp4kH7Ds\", 'url': 'https://t.co/BAakBFaEGx', 'entities': {'url': {'urls': [{'url': 'https://t.co/BAakBFaEGx', 'expanded_url': 'http://thedailyshow.com', 'display_url': 'thedailyshow.com', 'indices': [0, 23]}]}, 'description': {'urls': [{'url': 'https://t.co/Nkrp4kH7Ds', 'expanded_url': 'http://dailyshow.com/firstrespondersfirst', 'display_url': 'dailyshow.com/firstresponder…', 'indices': [117, 140]}]}}, 'protected': False, 'followers_count': 8616883, 'friends_count': 612, 'listed_count': 37301, 'created_at': 'Tue Jun 22 16:41:05 +0000 2010', 'favourites_count': 1726, 'utc_offset': None, 'time_zone': None, 'geo_enabled': True, 'verified': True, 'statuses_count': 22397, 'lang': None, 'contributors_enabled': False, 'is_translator': False, 'is_translation_enabled': False, 'profile_background_color': 'C0DEED', 'profile_background_image_url': 'http://abs.twimg.com/images/themes/theme1/bg.png', 'profile_background_image_url_https': 'https://abs.twimg.com/images/themes/theme1/bg.png', 'profile_background_tile': False, 'profile_image_url': 'http://pbs.twimg.com/profile_images/1246210124252958721/9sPxtCEL_normal.jpg', 'profile_image_url_https': 'https://pbs.twimg.com/profile_images/1246210124252958721/9sPxtCEL_normal.jpg', 'profile_banner_url': 'https://pbs.twimg.com/profile_banners/158414847/1585954622', 'profile_link_color': '0084B4', 'profile_sidebar_border_color': 'FFFFFF', 'profile_sidebar_fill_color': 'DDEEF6', 'profile_text_color': '333333', 'profile_use_background_image': True, 'has_extended_profile': False, 'default_profile': False, 'default_profile_image': False, 'following': True, 'follow_request_sent': False, 'notifications': False, 'translator_type': 'none'}, 'geo': None, 'coordinates': None, 'place': None, 'contributors': None, 'is_quote_status': False, 'retweet_count': 2, 'favorite_count': 4, 'favorited': False, 'retweeted': False, 'possibly_sensitive': False, 'possibly_sensitive_appealable': False, 'lang': 'en'}, created_at=datetime.datetime(2020, 5, 6, 3, 43, 27), id=1257878620321742850, id_str='1257878620321742850', text=\"Here's the full interview with @PikettyLeMonde: https://t.co/iuIJ3vmj4q\", truncated=False, entities={'hashtags': [], 'symbols': [], 'user_mentions': [{'screen_name': 'PikettyLeMonde', 'name': 'Thomas Piketty', 'id': 4068347835, 'id_str': '4068347835', 'indices': [31, 46]}], 'urls': [{'url': 'https://t.co/iuIJ3vmj4q', 'expanded_url': 'https://youtu.be/XtahuPcsNVM', 'display_url': 'youtu.be/XtahuPcsNVM', 'indices': [48, 71]}]}, source='Twitter Web App', source_url='https://mobile.twitter.com', in_reply_to_status_id=1257835808024862721, in_reply_to_status_id_str='1257835808024862721', in_reply_to_user_id=158414847, in_reply_to_user_id_str='158414847', in_reply_to_screen_name='TheDailyShow', author=User(_api=<tweepy.api.API object at 0x121254890>, _json={'id': 158414847, 'id_str': '158414847', 'name': 'The Daily Show', 'screen_name': 'TheDailyShow', 'location': '', 'description': \"Trevor Noah and The World's Fakest News Team. Weeknights 11/10c on @ComedyCentral.\\n\\nDonate to #FirstRespondersFirst: https://t.co/Nkrp4kH7Ds\", 'url': 'https://t.co/BAakBFaEGx', 'entities': {'url': {'urls': [{'url': 'https://t.co/BAakBFaEGx', 'expanded_url': 'http://thedailyshow.com', 'display_url': 'thedailyshow.com', 'indices': [0, 23]}]}, 'description': {'urls': [{'url': 'https://t.co/Nkrp4kH7Ds', 'expanded_url': 'http://dailyshow.com/firstrespondersfirst', 'display_url': 'dailyshow.com/firstresponder…', 'indices': [117, 140]}]}}, 'protected': False, 'followers_count': 8616883, 'friends_count': 612, 'listed_count': 37301, 'created_at': 'Tue Jun 22 16:41:05 +0000 2010', 'favourites_count': 1726, 'utc_offset': None, 'time_zone': None, 'geo_enabled': True, 'verified': True, 'statuses_count': 22397, 'lang': None, 'contributors_enabled': False, 'is_translator': False, 'is_translation_enabled': False, 'profile_background_color': 'C0DEED', 'profile_background_image_url': 'http://abs.twimg.com/images/themes/theme1/bg.png', 'profile_background_image_url_https': 'https://abs.twimg.com/images/themes/theme1/bg.png', 'profile_background_tile': False, 'profile_image_url': 'http://pbs.twimg.com/profile_images/1246210124252958721/9sPxtCEL_normal.jpg', 'profile_image_url_https': 'https://pbs.twimg.com/profile_images/1246210124252958721/9sPxtCEL_normal.jpg', 'profile_banner_url': 'https://pbs.twimg.com/profile_banners/158414847/1585954622', 'profile_link_color': '0084B4', 'profile_sidebar_border_color': 'FFFFFF', 'profile_sidebar_fill_color': 'DDEEF6', 'profile_text_color': '333333', 'profile_use_background_image': True, 'has_extended_profile': False, 'default_profile': False, 'default_profile_image': False, 'following': True, 'follow_request_sent': False, 'notifications': False, 'translator_type': 'none'}, id=158414847, id_str='158414847', name='The Daily Show', screen_name='TheDailyShow', location='', description=\"Trevor Noah and The World's Fakest News Team. Weeknights 11/10c on @ComedyCentral.\\n\\nDonate to #FirstRespondersFirst: https://t.co/Nkrp4kH7Ds\", url='https://t.co/BAakBFaEGx', entities={'url': {'urls': [{'url': 'https://t.co/BAakBFaEGx', 'expanded_url': 'http://thedailyshow.com', 'display_url': 'thedailyshow.com', 'indices': [0, 23]}]}, 'description': {'urls': [{'url': 'https://t.co/Nkrp4kH7Ds', 'expanded_url': 'http://dailyshow.com/firstrespondersfirst', 'display_url': 'dailyshow.com/firstresponder…', 'indices': [117, 140]}]}}, protected=False, followers_count=8616883, friends_count=612, listed_count=37301, created_at=datetime.datetime(2010, 6, 22, 16, 41, 5), favourites_count=1726, utc_offset=None, time_zone=None, geo_enabled=True, verified=True, statuses_count=22397, lang=None, contributors_enabled=False, is_translator=False, is_translation_enabled=False, profile_background_color='C0DEED', profile_background_image_url='http://abs.twimg.com/images/themes/theme1/bg.png', profile_background_image_url_https='https://abs.twimg.com/images/themes/theme1/bg.png', profile_background_tile=False, profile_image_url='http://pbs.twimg.com/profile_images/1246210124252958721/9sPxtCEL_normal.jpg', profile_image_url_https='https://pbs.twimg.com/profile_images/1246210124252958721/9sPxtCEL_normal.jpg', profile_banner_url='https://pbs.twimg.com/profile_banners/158414847/1585954622', profile_link_color='0084B4', profile_sidebar_border_color='FFFFFF', profile_sidebar_fill_color='DDEEF6', profile_text_color='333333', profile_use_background_image=True, has_extended_profile=False, default_profile=False, default_profile_image=False, following=True, follow_request_sent=False, notifications=False, translator_type='none'), user=User(_api=<tweepy.api.API object at 0x121254890>, _json={'id': 158414847, 'id_str': '158414847', 'name': 'The Daily Show', 'screen_name': 'TheDailyShow', 'location': '', 'description': \"Trevor Noah and The World's Fakest News Team. Weeknights 11/10c on @ComedyCentral.\\n\\nDonate to #FirstRespondersFirst: https://t.co/Nkrp4kH7Ds\", 'url': 'https://t.co/BAakBFaEGx', 'entities': {'url': {'urls': [{'url': 'https://t.co/BAakBFaEGx', 'expanded_url': 'http://thedailyshow.com', 'display_url': 'thedailyshow.com', 'indices': [0, 23]}]}, 'description': {'urls': [{'url': 'https://t.co/Nkrp4kH7Ds', 'expanded_url': 'http://dailyshow.com/firstrespondersfirst', 'display_url': 'dailyshow.com/firstresponder…', 'indices': [117, 140]}]}}, 'protected': False, 'followers_count': 8616883, 'friends_count': 612, 'listed_count': 37301, 'created_at': 'Tue Jun 22 16:41:05 +0000 2010', 'favourites_count': 1726, 'utc_offset': None, 'time_zone': None, 'geo_enabled': True, 'verified': True, 'statuses_count': 22397, 'lang': None, 'contributors_enabled': False, 'is_translator': False, 'is_translation_enabled': False, 'profile_background_color': 'C0DEED', 'profile_background_image_url': 'http://abs.twimg.com/images/themes/theme1/bg.png', 'profile_background_image_url_https': 'https://abs.twimg.com/images/themes/theme1/bg.png', 'profile_background_tile': False, 'profile_image_url': 'http://pbs.twimg.com/profile_images/1246210124252958721/9sPxtCEL_normal.jpg', 'profile_image_url_https': 'https://pbs.twimg.com/profile_images/1246210124252958721/9sPxtCEL_normal.jpg', 'profile_banner_url': 'https://pbs.twimg.com/profile_banners/158414847/1585954622', 'profile_link_color': '0084B4', 'profile_sidebar_border_color': 'FFFFFF', 'profile_sidebar_fill_color': 'DDEEF6', 'profile_text_color': '333333', 'profile_use_background_image': True, 'has_extended_profile': False, 'default_profile': False, 'default_profile_image': False, 'following': True, 'follow_request_sent': False, 'notifications': False, 'translator_type': 'none'}, id=158414847, id_str='158414847', name='The Daily Show', screen_name='TheDailyShow', location='', description=\"Trevor Noah and The World's Fakest News Team. Weeknights 11/10c on @ComedyCentral.\\n\\nDonate to #FirstRespondersFirst: https://t.co/Nkrp4kH7Ds\", url='https://t.co/BAakBFaEGx', entities={'url': {'urls': [{'url': 'https://t.co/BAakBFaEGx', 'expanded_url': 'http://thedailyshow.com', 'display_url': 'thedailyshow.com', 'indices': [0, 23]}]}, 'description': {'urls': [{'url': 'https://t.co/Nkrp4kH7Ds', 'expanded_url': 'http://dailyshow.com/firstrespondersfirst', 'display_url': 'dailyshow.com/firstresponder…', 'indices': [117, 140]}]}}, protected=False, followers_count=8616883, friends_count=612, listed_count=37301, created_at=datetime.datetime(2010, 6, 22, 16, 41, 5), favourites_count=1726, utc_offset=None, time_zone=None, geo_enabled=True, verified=True, statuses_count=22397, lang=None, contributors_enabled=False, is_translator=False, is_translation_enabled=False, profile_background_color='C0DEED', profile_background_image_url='http://abs.twimg.com/images/themes/theme1/bg.png', profile_background_image_url_https='https://abs.twimg.com/images/themes/theme1/bg.png', profile_background_tile=False, profile_image_url='http://pbs.twimg.com/profile_images/1246210124252958721/9sPxtCEL_normal.jpg', profile_image_url_https='https://pbs.twimg.com/profile_images/1246210124252958721/9sPxtCEL_normal.jpg', profile_banner_url='https://pbs.twimg.com/profile_banners/158414847/1585954622', profile_link_color='0084B4', profile_sidebar_border_color='FFFFFF', profile_sidebar_fill_color='DDEEF6', profile_text_color='333333', profile_use_background_image=True, has_extended_profile=False, default_profile=False, default_profile_image=False, following=True, follow_request_sent=False, notifications=False, translator_type='none'), geo=None, coordinates=None, place=None, contributors=None, is_quote_status=False, retweet_count=2, favorite_count=4, favorited=False, retweeted=False, possibly_sensitive=False, possibly_sensitive_appealable=False, lang='en')"
      ]
     },
     "execution_count": 7,
     "metadata": {},
     "output_type": "execute_result"
    }
   ],
   "source": [
    "public_tweets[0]"
   ]
  },
  {
   "cell_type": "code",
   "execution_count": 9,
   "metadata": {},
   "outputs": [
    {
     "name": "stdout",
     "output_type": "stream",
     "text": [
      "{\n",
      "    \"contributors\": null,\n",
      "    \"coordinates\": null,\n",
      "    \"created_at\": \"Wed May 06 03:43:27 +0000 2020\",\n",
      "    \"entities\": {\n",
      "        \"hashtags\": [],\n",
      "        \"symbols\": [],\n",
      "        \"urls\": [\n",
      "            {\n",
      "                \"display_url\": \"youtu.be/XtahuPcsNVM\",\n",
      "                \"expanded_url\": \"https://youtu.be/XtahuPcsNVM\",\n",
      "                \"indices\": [\n",
      "                    48,\n",
      "                    71\n",
      "                ],\n",
      "                \"url\": \"https://t.co/iuIJ3vmj4q\"\n",
      "            }\n",
      "        ],\n",
      "        \"user_mentions\": [\n",
      "            {\n",
      "                \"id\": 4068347835,\n",
      "                \"id_str\": \"4068347835\",\n",
      "                \"indices\": [\n",
      "                    31,\n",
      "                    46\n",
      "                ],\n",
      "                \"name\": \"Thomas Piketty\",\n",
      "                \"screen_name\": \"PikettyLeMonde\"\n",
      "            }\n",
      "        ]\n",
      "    },\n",
      "    \"favorite_count\": 4,\n",
      "    \"favorited\": false,\n",
      "    \"geo\": null,\n",
      "    \"id\": 1257878620321742850,\n",
      "    \"id_str\": \"1257878620321742850\",\n",
      "    \"in_reply_to_screen_name\": \"TheDailyShow\",\n",
      "    \"in_reply_to_status_id\": 1257835808024862721,\n",
      "    \"in_reply_to_status_id_str\": \"1257835808024862721\",\n",
      "    \"in_reply_to_user_id\": 158414847,\n",
      "    \"in_reply_to_user_id_str\": \"158414847\",\n",
      "    \"is_quote_status\": false,\n",
      "    \"lang\": \"en\",\n",
      "    \"place\": null,\n",
      "    \"possibly_sensitive\": false,\n",
      "    \"possibly_sensitive_appealable\": false,\n",
      "    \"retweet_count\": 2,\n",
      "    \"retweeted\": false,\n",
      "    \"source\": \"<a href=\\\"https://mobile.twitter.com\\\" rel=\\\"nofollow\\\">Twitter Web App</a>\",\n",
      "    \"text\": \"Here's the full interview with @PikettyLeMonde: https://t.co/iuIJ3vmj4q\",\n",
      "    \"truncated\": false,\n",
      "    \"user\": {\n",
      "        \"contributors_enabled\": false,\n",
      "        \"created_at\": \"Tue Jun 22 16:41:05 +0000 2010\",\n",
      "        \"default_profile\": false,\n",
      "        \"default_profile_image\": false,\n",
      "        \"description\": \"Trevor Noah and The World's Fakest News Team. Weeknights 11/10c on @ComedyCentral.\\n\\nDonate to #FirstRespondersFirst: https://t.co/Nkrp4kH7Ds\",\n",
      "        \"entities\": {\n",
      "            \"description\": {\n",
      "                \"urls\": [\n",
      "                    {\n",
      "                        \"display_url\": \"dailyshow.com/firstresponder\\u2026\",\n",
      "                        \"expanded_url\": \"http://dailyshow.com/firstrespondersfirst\",\n",
      "                        \"indices\": [\n",
      "                            117,\n",
      "                            140\n",
      "                        ],\n",
      "                        \"url\": \"https://t.co/Nkrp4kH7Ds\"\n",
      "                    }\n",
      "                ]\n",
      "            },\n",
      "            \"url\": {\n",
      "                \"urls\": [\n",
      "                    {\n",
      "                        \"display_url\": \"thedailyshow.com\",\n",
      "                        \"expanded_url\": \"http://thedailyshow.com\",\n",
      "                        \"indices\": [\n",
      "                            0,\n",
      "                            23\n",
      "                        ],\n",
      "                        \"url\": \"https://t.co/BAakBFaEGx\"\n",
      "                    }\n",
      "                ]\n",
      "            }\n",
      "        },\n",
      "        \"favourites_count\": 1726,\n",
      "        \"follow_request_sent\": false,\n",
      "        \"followers_count\": 8616883,\n",
      "        \"following\": true,\n",
      "        \"friends_count\": 612,\n",
      "        \"geo_enabled\": true,\n",
      "        \"has_extended_profile\": false,\n",
      "        \"id\": 158414847,\n",
      "        \"id_str\": \"158414847\",\n",
      "        \"is_translation_enabled\": false,\n",
      "        \"is_translator\": false,\n",
      "        \"lang\": null,\n",
      "        \"listed_count\": 37301,\n",
      "        \"location\": \"\",\n",
      "        \"name\": \"The Daily Show\",\n",
      "        \"notifications\": false,\n",
      "        \"profile_background_color\": \"C0DEED\",\n",
      "        \"profile_background_image_url\": \"http://abs.twimg.com/images/themes/theme1/bg.png\",\n",
      "        \"profile_background_image_url_https\": \"https://abs.twimg.com/images/themes/theme1/bg.png\",\n",
      "        \"profile_background_tile\": false,\n",
      "        \"profile_banner_url\": \"https://pbs.twimg.com/profile_banners/158414847/1585954622\",\n",
      "        \"profile_image_url\": \"http://pbs.twimg.com/profile_images/1246210124252958721/9sPxtCEL_normal.jpg\",\n",
      "        \"profile_image_url_https\": \"https://pbs.twimg.com/profile_images/1246210124252958721/9sPxtCEL_normal.jpg\",\n",
      "        \"profile_link_color\": \"0084B4\",\n",
      "        \"profile_sidebar_border_color\": \"FFFFFF\",\n",
      "        \"profile_sidebar_fill_color\": \"DDEEF6\",\n",
      "        \"profile_text_color\": \"333333\",\n",
      "        \"profile_use_background_image\": true,\n",
      "        \"protected\": false,\n",
      "        \"screen_name\": \"TheDailyShow\",\n",
      "        \"statuses_count\": 22397,\n",
      "        \"time_zone\": null,\n",
      "        \"translator_type\": \"none\",\n",
      "        \"url\": \"https://t.co/BAakBFaEGx\",\n",
      "        \"utc_offset\": null,\n",
      "        \"verified\": true\n",
      "    }\n",
      "}\n"
     ]
    }
   ],
   "source": [
    "status = public_tweets[0]\n",
    "\n",
    "#convert to string\n",
    "json_str = json.dumps(status._json)\n",
    "\n",
    "#deserialise string into python object\n",
    "parsed = json.loads(json_str)\n",
    "\n",
    "print(json.dumps(parsed, indent=4, sort_keys=True))"
   ]
  },
  {
   "cell_type": "code",
   "execution_count": null,
   "metadata": {},
   "outputs": [],
   "source": [
    "api = tweepy.API(auth)"
   ]
  },
  {
   "cell_type": "code",
   "execution_count": null,
   "metadata": {},
   "outputs": [],
   "source": [
    "auth = tweepy.OAuthHandler(twitter_keys['consumer_key'], twitter_keys['consumer_secret'])\n",
    "auth.set_access_token(twitter_keys['access_token_key'], twitter_keys['access_token_secret'])"
   ]
  },
  {
   "cell_type": "code",
   "execution_count": null,
   "metadata": {
    "scrolled": true
   },
   "outputs": [],
   "source": [
    "auth = tweepy.OAuthHandler(consumer_key, consumer_secret)\n",
    "auth.set_access_token(access_token, access_token_secret)\n",
    "\n",
    "api = tweepy.API(auth)\n",
    "\n",
    "public_tweets = api.home_timeline()\n",
    "for tweet in public_tweets:\n",
    "    print(tweet.text)"
   ]
  },
  {
   "cell_type": "code",
   "execution_count": null,
   "metadata": {},
   "outputs": [],
   "source": [
    "auth = tweepy.AppAuthHandler(consumer_key, consumer_secret)"
   ]
  },
  {
   "cell_type": "code",
   "execution_count": null,
   "metadata": {},
   "outputs": [],
   "source": []
  }
 ],
 "metadata": {
  "kernelspec": {
   "display_name": "Python 3",
   "language": "python",
   "name": "python3"
  },
  "language_info": {
   "codemirror_mode": {
    "name": "ipython",
    "version": 3
   },
   "file_extension": ".py",
   "mimetype": "text/x-python",
   "name": "python",
   "nbconvert_exporter": "python",
   "pygments_lexer": "ipython3",
   "version": "3.7.6"
  },
  "toc": {
   "base_numbering": 1,
   "nav_menu": {},
   "number_sections": true,
   "sideBar": true,
   "skip_h1_title": false,
   "title_cell": "Table of Contents",
   "title_sidebar": "Contents",
   "toc_cell": false,
   "toc_position": {},
   "toc_section_display": true,
   "toc_window_display": false
  }
 },
 "nbformat": 4,
 "nbformat_minor": 4
}
