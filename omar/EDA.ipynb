{
 "cells": [
  {
   "cell_type": "code",
   "execution_count": 75,
   "metadata": {},
   "outputs": [
    {
     "ename": "NameError",
     "evalue": "name 'sys' is not defined",
     "output_type": "error",
     "traceback": [
      "\u001b[0;31m---------------------------------------------------------------------------\u001b[0m",
      "\u001b[0;31mNameError\u001b[0m                                 Traceback (most recent call last)",
      "\u001b[0;32m<ipython-input-75-075f1b9ae1be>\u001b[0m in \u001b[0;36m<module>\u001b[0;34m\u001b[0m\n\u001b[1;32m      2\u001b[0m \u001b[0;34m\u001b[0m\u001b[0m\n\u001b[1;32m      3\u001b[0m \u001b[0;32mimport\u001b[0m \u001b[0mnumpy\u001b[0m \u001b[0;32mas\u001b[0m \u001b[0mnp\u001b[0m\u001b[0;34m\u001b[0m\u001b[0;34m\u001b[0m\u001b[0m\n\u001b[0;32m----> 4\u001b[0;31m \u001b[0mnp\u001b[0m\u001b[0;34m.\u001b[0m\u001b[0mset_printoptions\u001b[0m\u001b[0;34m(\u001b[0m\u001b[0mthreshold\u001b[0m\u001b[0;34m=\u001b[0m\u001b[0msys\u001b[0m\u001b[0;34m.\u001b[0m\u001b[0mmaxsize\u001b[0m\u001b[0;34m)\u001b[0m\u001b[0;34m\u001b[0m\u001b[0;34m\u001b[0m\u001b[0m\n\u001b[0m\u001b[1;32m      5\u001b[0m \u001b[0;32mimport\u001b[0m \u001b[0mpandas\u001b[0m \u001b[0;32mas\u001b[0m \u001b[0mpd\u001b[0m\u001b[0;34m\u001b[0m\u001b[0;34m\u001b[0m\u001b[0m\n\u001b[1;32m      6\u001b[0m \u001b[0;32mimport\u001b[0m \u001b[0mseaborn\u001b[0m \u001b[0;32mas\u001b[0m \u001b[0msns\u001b[0m\u001b[0;34m\u001b[0m\u001b[0;34m\u001b[0m\u001b[0m\n",
      "\u001b[0;31mNameError\u001b[0m: name 'sys' is not defined"
     ]
    }
   ],
   "source": [
    "import warnings\n",
    "\n",
    "import numpy as np\n",
    "import pandas as pd\n",
    "import seaborn as sns\n",
    "import matplotlib.pyplot as plt\n",
    "from sklearn.preprocessing import StandardScaler\n",
    "from sklearn.model_selection import train_test_split, cross_val_score, KFold\n",
    "from sklearn.metrics import mean_squared_error\n",
    "from sklearn.dummy import DummyClassifier,DummyRegressor\n",
    "from sklearn import metrics\n",
    "from sklearn.linear_model import Ridge\n",
    "from sklearn.linear_model import RidgeCV\n",
    "from sklearn.linear_model import Lasso, LassoCV\n",
    "from sklearn.linear_model import LinearRegression\n",
    "from sklearn.model_selection import train_test_split\n",
    "from scipy.stats import norm, skew\n",
    "from scipy import stats\n",
    "RANDOM_STATE = 42"
   ]
  },
  {
   "cell_type": "code",
   "execution_count": 2,
   "metadata": {
    "scrolled": true
   },
   "outputs": [
    {
     "data": {
      "text/html": [
       "<div>\n",
       "<style scoped>\n",
       "    .dataframe tbody tr th:only-of-type {\n",
       "        vertical-align: middle;\n",
       "    }\n",
       "\n",
       "    .dataframe tbody tr th {\n",
       "        vertical-align: top;\n",
       "    }\n",
       "\n",
       "    .dataframe thead th {\n",
       "        text-align: right;\n",
       "    }\n",
       "</style>\n",
       "<table border=\"1\" class=\"dataframe\">\n",
       "  <thead>\n",
       "    <tr style=\"text-align: right;\">\n",
       "      <th></th>\n",
       "      <th>tweet_id</th>\n",
       "      <th>username</th>\n",
       "      <th>text</th>\n",
       "      <th>tweet_date</th>\n",
       "      <th>search_term</th>\n",
       "      <th>city</th>\n",
       "      <th>lat</th>\n",
       "      <th>long</th>\n",
       "      <th>radius</th>\n",
       "      <th>query_start</th>\n",
       "      <th>name_and_tweet</th>\n",
       "      <th>outage_sentiment</th>\n",
       "      <th>state</th>\n",
       "    </tr>\n",
       "  </thead>\n",
       "  <tbody>\n",
       "    <tr>\n",
       "      <th>0</th>\n",
       "      <td>710245730590404608</td>\n",
       "      <td>ttwn sf bay area</td>\n",
       "      <td>power outage in cupertino bayarea traffic</td>\n",
       "      <td>2016-03-16 23:25:52</td>\n",
       "      <td>power outage</td>\n",
       "      <td>San Jose</td>\n",
       "      <td>37.332300</td>\n",
       "      <td>-121.853394</td>\n",
       "      <td>10mi</td>\n",
       "      <td>2016-01-01</td>\n",
       "      <td>ttwn sf bay area power outage in cupertino bay...</td>\n",
       "      <td>0.33</td>\n",
       "      <td>California</td>\n",
       "    </tr>\n",
       "    <tr>\n",
       "      <th>1</th>\n",
       "      <td>708811502241734656</td>\n",
       "      <td>san jose now</td>\n",
       "      <td>weather alert flash flood watch in bay area am...</td>\n",
       "      <td>2016-03-13 00:26:45</td>\n",
       "      <td>power outage</td>\n",
       "      <td>San Jose</td>\n",
       "      <td>37.332300</td>\n",
       "      <td>-121.853394</td>\n",
       "      <td>10mi</td>\n",
       "      <td>2016-01-01</td>\n",
       "      <td>san jose now weather alert flash flood watch i...</td>\n",
       "      <td>0.25</td>\n",
       "      <td>California</td>\n",
       "    </tr>\n",
       "    <tr>\n",
       "      <th>2</th>\n",
       "      <td>706856719733776384</td>\n",
       "      <td>san jose now</td>\n",
       "      <td>power outages in san francisco on peninsula in...</td>\n",
       "      <td>2016-03-07 14:59:09</td>\n",
       "      <td>power outage</td>\n",
       "      <td>San Jose</td>\n",
       "      <td>37.332300</td>\n",
       "      <td>-121.853394</td>\n",
       "      <td>10mi</td>\n",
       "      <td>2016-01-01</td>\n",
       "      <td>san jose now power outages in san francisco on...</td>\n",
       "      <td>0.18</td>\n",
       "      <td>California</td>\n",
       "    </tr>\n",
       "    <tr>\n",
       "      <th>3</th>\n",
       "      <td>726876023573204993</td>\n",
       "      <td>san jose now</td>\n",
       "      <td>power outage in fremont several intersections ...</td>\n",
       "      <td>2016-05-01 20:48:43</td>\n",
       "      <td>power outage</td>\n",
       "      <td>San Jose</td>\n",
       "      <td>37.332300</td>\n",
       "      <td>-121.853394</td>\n",
       "      <td>10mi</td>\n",
       "      <td>2016-01-01</td>\n",
       "      <td>san jose now power outage in fremont several i...</td>\n",
       "      <td>0.23</td>\n",
       "      <td>California</td>\n",
       "    </tr>\n",
       "    <tr>\n",
       "      <th>4</th>\n",
       "      <td>724681945095888897</td>\n",
       "      <td>san jose now</td>\n",
       "      <td>east bay power outages also affects bart uc be...</td>\n",
       "      <td>2016-04-25 19:30:14</td>\n",
       "      <td>power outage</td>\n",
       "      <td>San Jose</td>\n",
       "      <td>37.332300</td>\n",
       "      <td>-121.853394</td>\n",
       "      <td>10mi</td>\n",
       "      <td>2016-01-01</td>\n",
       "      <td>san jose now east bay power outages also affec...</td>\n",
       "      <td>0.20</td>\n",
       "      <td>California</td>\n",
       "    </tr>\n",
       "    <tr>\n",
       "      <th>...</th>\n",
       "      <td>...</td>\n",
       "      <td>...</td>\n",
       "      <td>...</td>\n",
       "      <td>...</td>\n",
       "      <td>...</td>\n",
       "      <td>...</td>\n",
       "      <td>...</td>\n",
       "      <td>...</td>\n",
       "      <td>...</td>\n",
       "      <td>...</td>\n",
       "      <td>...</td>\n",
       "      <td>...</td>\n",
       "      <td>...</td>\n",
       "    </tr>\n",
       "    <tr>\n",
       "      <th>16908</th>\n",
       "      <td>1138224668207407106</td>\n",
       "      <td>katy blakey</td>\n",
       "      <td>if  like me  you wondered what to do about the...</td>\n",
       "      <td>2019-06-10 23:21:22</td>\n",
       "      <td>#poweroutage</td>\n",
       "      <td>Dallas</td>\n",
       "      <td>32.776665</td>\n",
       "      <td>-96.796989</td>\n",
       "      <td>15mi</td>\n",
       "      <td>2016-01-01</td>\n",
       "      <td>katy blakey if  like me  you wondered what to ...</td>\n",
       "      <td>0.10</td>\n",
       "      <td>Texas</td>\n",
       "    </tr>\n",
       "    <tr>\n",
       "      <th>16909</th>\n",
       "      <td>1138224130631843840</td>\n",
       "      <td>t r e y</td>\n",
       "      <td>this dallas poweroutage has gone to far the pa...</td>\n",
       "      <td>2019-06-10 23:19:14</td>\n",
       "      <td>#poweroutage</td>\n",
       "      <td>Dallas</td>\n",
       "      <td>32.776665</td>\n",
       "      <td>-96.796989</td>\n",
       "      <td>15mi</td>\n",
       "      <td>2016-01-01</td>\n",
       "      <td>t r e y this dallas poweroutage has gone to fa...</td>\n",
       "      <td>0.12</td>\n",
       "      <td>Texas</td>\n",
       "    </tr>\n",
       "    <tr>\n",
       "      <th>16910</th>\n",
       "      <td>1138140304341635073</td>\n",
       "      <td>charity advertising  marketing partners</td>\n",
       "      <td>cant stop wont stop  dallasweather thunderstor...</td>\n",
       "      <td>2019-06-10 17:46:08</td>\n",
       "      <td>#poweroutage</td>\n",
       "      <td>Dallas</td>\n",
       "      <td>32.776665</td>\n",
       "      <td>-96.796989</td>\n",
       "      <td>15mi</td>\n",
       "      <td>2016-01-01</td>\n",
       "      <td>charity advertising  marketing partners cant s...</td>\n",
       "      <td>0.07</td>\n",
       "      <td>Texas</td>\n",
       "    </tr>\n",
       "    <tr>\n",
       "      <th>16911</th>\n",
       "      <td>1138102344728666113</td>\n",
       "      <td>eisemann center</td>\n",
       "      <td>power ac  wifi if anyone needs a place to chil...</td>\n",
       "      <td>2019-06-10 15:15:18</td>\n",
       "      <td>#poweroutage</td>\n",
       "      <td>Dallas</td>\n",
       "      <td>32.776665</td>\n",
       "      <td>-96.796989</td>\n",
       "      <td>15mi</td>\n",
       "      <td>2016-01-01</td>\n",
       "      <td>eisemann center power ac  wifi if anyone needs...</td>\n",
       "      <td>0.11</td>\n",
       "      <td>Texas</td>\n",
       "    </tr>\n",
       "    <tr>\n",
       "      <th>16912</th>\n",
       "      <td>1137919777261985792</td>\n",
       "      <td>patrick ptomey</td>\n",
       "      <td>eating meatballs in the dark dallasstorm power...</td>\n",
       "      <td>2019-06-10 03:09:51</td>\n",
       "      <td>#poweroutage</td>\n",
       "      <td>Dallas</td>\n",
       "      <td>32.776665</td>\n",
       "      <td>-96.796989</td>\n",
       "      <td>15mi</td>\n",
       "      <td>2016-01-01</td>\n",
       "      <td>patrick ptomey eating meatballs in the dark da...</td>\n",
       "      <td>0.14</td>\n",
       "      <td>Texas</td>\n",
       "    </tr>\n",
       "  </tbody>\n",
       "</table>\n",
       "<p>16913 rows × 13 columns</p>\n",
       "</div>"
      ],
      "text/plain": [
       "                  tweet_id                                 username  \\\n",
       "0       710245730590404608                         ttwn sf bay area   \n",
       "1       708811502241734656                             san jose now   \n",
       "2       706856719733776384                             san jose now   \n",
       "3       726876023573204993                             san jose now   \n",
       "4       724681945095888897                             san jose now   \n",
       "...                    ...                                      ...   \n",
       "16908  1138224668207407106                              katy blakey   \n",
       "16909  1138224130631843840                                  t r e y   \n",
       "16910  1138140304341635073  charity advertising  marketing partners   \n",
       "16911  1138102344728666113                          eisemann center   \n",
       "16912  1137919777261985792                           patrick ptomey   \n",
       "\n",
       "                                                    text           tweet_date  \\\n",
       "0              power outage in cupertino bayarea traffic  2016-03-16 23:25:52   \n",
       "1      weather alert flash flood watch in bay area am...  2016-03-13 00:26:45   \n",
       "2      power outages in san francisco on peninsula in...  2016-03-07 14:59:09   \n",
       "3      power outage in fremont several intersections ...  2016-05-01 20:48:43   \n",
       "4      east bay power outages also affects bart uc be...  2016-04-25 19:30:14   \n",
       "...                                                  ...                  ...   \n",
       "16908  if  like me  you wondered what to do about the...  2019-06-10 23:21:22   \n",
       "16909  this dallas poweroutage has gone to far the pa...  2019-06-10 23:19:14   \n",
       "16910  cant stop wont stop  dallasweather thunderstor...  2019-06-10 17:46:08   \n",
       "16911  power ac  wifi if anyone needs a place to chil...  2019-06-10 15:15:18   \n",
       "16912  eating meatballs in the dark dallasstorm power...  2019-06-10 03:09:51   \n",
       "\n",
       "        search_term      city        lat        long radius query_start  \\\n",
       "0      power outage  San Jose  37.332300 -121.853394   10mi  2016-01-01   \n",
       "1      power outage  San Jose  37.332300 -121.853394   10mi  2016-01-01   \n",
       "2      power outage  San Jose  37.332300 -121.853394   10mi  2016-01-01   \n",
       "3      power outage  San Jose  37.332300 -121.853394   10mi  2016-01-01   \n",
       "4      power outage  San Jose  37.332300 -121.853394   10mi  2016-01-01   \n",
       "...             ...       ...        ...         ...    ...         ...   \n",
       "16908  #poweroutage    Dallas  32.776665  -96.796989   15mi  2016-01-01   \n",
       "16909  #poweroutage    Dallas  32.776665  -96.796989   15mi  2016-01-01   \n",
       "16910  #poweroutage    Dallas  32.776665  -96.796989   15mi  2016-01-01   \n",
       "16911  #poweroutage    Dallas  32.776665  -96.796989   15mi  2016-01-01   \n",
       "16912  #poweroutage    Dallas  32.776665  -96.796989   15mi  2016-01-01   \n",
       "\n",
       "                                          name_and_tweet  outage_sentiment  \\\n",
       "0      ttwn sf bay area power outage in cupertino bay...              0.33   \n",
       "1      san jose now weather alert flash flood watch i...              0.25   \n",
       "2      san jose now power outages in san francisco on...              0.18   \n",
       "3      san jose now power outage in fremont several i...              0.23   \n",
       "4      san jose now east bay power outages also affec...              0.20   \n",
       "...                                                  ...               ...   \n",
       "16908  katy blakey if  like me  you wondered what to ...              0.10   \n",
       "16909  t r e y this dallas poweroutage has gone to fa...              0.12   \n",
       "16910  charity advertising  marketing partners cant s...              0.07   \n",
       "16911  eisemann center power ac  wifi if anyone needs...              0.11   \n",
       "16912  patrick ptomey eating meatballs in the dark da...              0.14   \n",
       "\n",
       "            state  \n",
       "0      California  \n",
       "1      California  \n",
       "2      California  \n",
       "3      California  \n",
       "4      California  \n",
       "...           ...  \n",
       "16908       Texas  \n",
       "16909       Texas  \n",
       "16910       Texas  \n",
       "16911       Texas  \n",
       "16912       Texas  \n",
       "\n",
       "[16913 rows x 13 columns]"
      ]
     },
     "execution_count": 2,
     "metadata": {},
     "output_type": "execute_result"
    }
   ],
   "source": [
    "tweets = pd.read_csv('../data/cleaned_tweets.csv')\n",
    "tweets"
   ]
  },
  {
   "cell_type": "code",
   "execution_count": 93,
   "metadata": {},
   "outputs": [
    {
     "data": {
      "text/plain": [
       "Index(['California', 'Texas', 'New York', 'Michigan'], dtype='object')"
      ]
     },
     "execution_count": 93,
     "metadata": {},
     "output_type": "execute_result"
    }
   ],
   "source": [
    "states = tweets['state'].value_counts().index\n",
    "states"
   ]
  },
  {
   "cell_type": "code",
   "execution_count": 83,
   "metadata": {
    "scrolled": true
   },
   "outputs": [
    {
     "data": {
      "text/plain": [
       "search_term                        state     \n",
       "#poweroutage                       California    151 \n",
       "                                   New York      52  \n",
       "                                   Texas         33  \n",
       "                                   Michigan      29  \n",
       "CNPalerts AND power outage         Texas         6   \n",
       "ConED AND service                  New York      13  \n",
       "National Grid AND outage           New York      5   \n",
       "National Grid AND power            New York      19  \n",
       "National Grid AND service          New York      8   \n",
       "PG&E AND outage                    California    46  \n",
       "PG&E AND power                     California    104 \n",
       "RG&E AND power                     New York      10  \n",
       "RG&E AND service                   New York      5   \n",
       "SDG&E AND outage                   California    10  \n",
       "SDG&E AND power                    California    20  \n",
       "SDGE AND outage                    California    43  \n",
       "SDGE AND power                     California    71  \n",
       "centerpoint energy AND outage      Texas         10  \n",
       "centerpoint energy AND power       Texas         7   \n",
       "consumers energy AND outage        Michigan      5   \n",
       "consumers energy AND power outage  Michigan      4   \n",
       "dte AND power                      Michigan      120 \n",
       "dte AND power outage               Michigan      33  \n",
       "dte energy AND outage              Michigan      23  \n",
       "electric off                       California    150 \n",
       "                                   New York      142 \n",
       "                                   Texas         110 \n",
       "                                   Michigan      33  \n",
       "electric out                       New York      305 \n",
       "                                   California    303 \n",
       "                                   Texas         214 \n",
       "                                   Michigan      90  \n",
       "lights out                         Texas         976 \n",
       "                                   California    934 \n",
       "                                   Michigan      885 \n",
       "                                   New York      699 \n",
       "lost power                         California    261 \n",
       "                                   Texas         240 \n",
       "                                   New York      197 \n",
       "                                   Michigan      100 \n",
       "power cut                          California    212 \n",
       "                                   Texas         162 \n",
       "                                   New York      157 \n",
       "                                   Michigan      49  \n",
       "power failure                      New York      23  \n",
       "                                   California    14  \n",
       "                                   Texas         11  \n",
       "                                   Michigan      6   \n",
       "power interruption                 California    5   \n",
       "                                   New York      3   \n",
       "                                   Texas         3   \n",
       "                                   Michigan      1   \n",
       "power off                          California    581 \n",
       "                                   Texas         503 \n",
       "                                   New York      424 \n",
       "                                   Michigan      208 \n",
       "power out                          California    1282\n",
       "                                   Texas         642 \n",
       "                                   New York      636 \n",
       "                                   Michigan      402 \n",
       "power outage                       California    563 \n",
       "                                   Texas         363 \n",
       "                                   New York      256 \n",
       "                                   Michigan      208 \n",
       "service interruption               New York      22  \n",
       "                                   California    10  \n",
       "                                   Texas         9   \n",
       "                                   Michigan      3   \n",
       "transformer AND power              California    54  \n",
       "                                   New York      43  \n",
       "                                   Texas         37  \n",
       "                                   Michigan      5   \n",
       "Name: state, dtype: int64"
      ]
     },
     "execution_count": 83,
     "metadata": {},
     "output_type": "execute_result"
    }
   ],
   "source": [
    "search_bystate = tweets.groupby('search_term')['state'].value_counts(sort=True)\n",
    "search_bystate"
   ]
  },
  {
   "cell_type": "code",
   "execution_count": 92,
   "metadata": {},
   "outputs": [
    {
     "ename": "ValueError",
     "evalue": "Neither the `x` nor `y` variable appears to be numeric.",
     "output_type": "error",
     "traceback": [
      "\u001b[0;31m---------------------------------------------------------------------------\u001b[0m",
      "\u001b[0;31mValueError\u001b[0m                                Traceback (most recent call last)",
      "\u001b[0;32m<ipython-input-92-94639003c583>\u001b[0m in \u001b[0;36m<module>\u001b[0;34m\u001b[0m\n\u001b[1;32m     12\u001b[0m \u001b[0msns\u001b[0m\u001b[0;34m.\u001b[0m\u001b[0mset_color_codes\u001b[0m\u001b[0;34m(\u001b[0m\u001b[0;34m\"pastel\"\u001b[0m\u001b[0;34m)\u001b[0m\u001b[0;34m\u001b[0m\u001b[0;34m\u001b[0m\u001b[0m\n\u001b[1;32m     13\u001b[0m sns.barplot(x=(tweets['state']=='Michigan'), y=search_terms_chart, data=tweets,\n\u001b[0;32m---> 14\u001b[0;31m             label=\"Michigan\", color=\"b\")\n\u001b[0m\u001b[1;32m     15\u001b[0m \u001b[0;34m\u001b[0m\u001b[0m\n\u001b[1;32m     16\u001b[0m \u001b[0;31m# Plot the crashes where alcohol was involved\u001b[0m\u001b[0;34m\u001b[0m\u001b[0;34m\u001b[0m\u001b[0;34m\u001b[0m\u001b[0m\n",
      "\u001b[0;32m/opt/anaconda3/envs/DSI/lib/python3.7/site-packages/seaborn/categorical.py\u001b[0m in \u001b[0;36mbarplot\u001b[0;34m(x, y, hue, data, order, hue_order, estimator, ci, n_boot, units, seed, orient, color, palette, saturation, errcolor, errwidth, capsize, dodge, ax, **kwargs)\u001b[0m\n\u001b[1;32m   3148\u001b[0m                           \u001b[0mestimator\u001b[0m\u001b[0;34m,\u001b[0m \u001b[0mci\u001b[0m\u001b[0;34m,\u001b[0m \u001b[0mn_boot\u001b[0m\u001b[0;34m,\u001b[0m \u001b[0munits\u001b[0m\u001b[0;34m,\u001b[0m \u001b[0mseed\u001b[0m\u001b[0;34m,\u001b[0m\u001b[0;34m\u001b[0m\u001b[0;34m\u001b[0m\u001b[0m\n\u001b[1;32m   3149\u001b[0m                           \u001b[0morient\u001b[0m\u001b[0;34m,\u001b[0m \u001b[0mcolor\u001b[0m\u001b[0;34m,\u001b[0m \u001b[0mpalette\u001b[0m\u001b[0;34m,\u001b[0m \u001b[0msaturation\u001b[0m\u001b[0;34m,\u001b[0m\u001b[0;34m\u001b[0m\u001b[0;34m\u001b[0m\u001b[0m\n\u001b[0;32m-> 3150\u001b[0;31m                           errcolor, errwidth, capsize, dodge)\n\u001b[0m\u001b[1;32m   3151\u001b[0m \u001b[0;34m\u001b[0m\u001b[0m\n\u001b[1;32m   3152\u001b[0m     \u001b[0;32mif\u001b[0m \u001b[0max\u001b[0m \u001b[0;32mis\u001b[0m \u001b[0;32mNone\u001b[0m\u001b[0;34m:\u001b[0m\u001b[0;34m\u001b[0m\u001b[0;34m\u001b[0m\u001b[0m\n",
      "\u001b[0;32m/opt/anaconda3/envs/DSI/lib/python3.7/site-packages/seaborn/categorical.py\u001b[0m in \u001b[0;36m__init__\u001b[0;34m(self, x, y, hue, data, order, hue_order, estimator, ci, n_boot, units, seed, orient, color, palette, saturation, errcolor, errwidth, capsize, dodge)\u001b[0m\n\u001b[1;32m   1613\u001b[0m         \u001b[0;34m\"\"\"Initialize the plotter.\"\"\"\u001b[0m\u001b[0;34m\u001b[0m\u001b[0;34m\u001b[0m\u001b[0m\n\u001b[1;32m   1614\u001b[0m         self.establish_variables(x, y, hue, data, orient,\n\u001b[0;32m-> 1615\u001b[0;31m                                  order, hue_order, units)\n\u001b[0m\u001b[1;32m   1616\u001b[0m         \u001b[0mself\u001b[0m\u001b[0;34m.\u001b[0m\u001b[0mestablish_colors\u001b[0m\u001b[0;34m(\u001b[0m\u001b[0mcolor\u001b[0m\u001b[0;34m,\u001b[0m \u001b[0mpalette\u001b[0m\u001b[0;34m,\u001b[0m \u001b[0msaturation\u001b[0m\u001b[0;34m)\u001b[0m\u001b[0;34m\u001b[0m\u001b[0;34m\u001b[0m\u001b[0m\n\u001b[1;32m   1617\u001b[0m         \u001b[0mself\u001b[0m\u001b[0;34m.\u001b[0m\u001b[0mestimate_statistic\u001b[0m\u001b[0;34m(\u001b[0m\u001b[0mestimator\u001b[0m\u001b[0;34m,\u001b[0m \u001b[0mci\u001b[0m\u001b[0;34m,\u001b[0m \u001b[0mn_boot\u001b[0m\u001b[0;34m,\u001b[0m \u001b[0mseed\u001b[0m\u001b[0;34m)\u001b[0m\u001b[0;34m\u001b[0m\u001b[0;34m\u001b[0m\u001b[0m\n",
      "\u001b[0;32m/opt/anaconda3/envs/DSI/lib/python3.7/site-packages/seaborn/categorical.py\u001b[0m in \u001b[0;36mestablish_variables\u001b[0;34m(self, x, y, hue, data, orient, order, hue_order, units)\u001b[0m\n\u001b[1;32m    153\u001b[0m \u001b[0;34m\u001b[0m\u001b[0m\n\u001b[1;32m    154\u001b[0m             \u001b[0;31m# Figure out the plotting orientation\u001b[0m\u001b[0;34m\u001b[0m\u001b[0;34m\u001b[0m\u001b[0;34m\u001b[0m\u001b[0m\n\u001b[0;32m--> 155\u001b[0;31m             \u001b[0morient\u001b[0m \u001b[0;34m=\u001b[0m \u001b[0mself\u001b[0m\u001b[0;34m.\u001b[0m\u001b[0minfer_orient\u001b[0m\u001b[0;34m(\u001b[0m\u001b[0mx\u001b[0m\u001b[0;34m,\u001b[0m \u001b[0my\u001b[0m\u001b[0;34m,\u001b[0m \u001b[0morient\u001b[0m\u001b[0;34m)\u001b[0m\u001b[0;34m\u001b[0m\u001b[0;34m\u001b[0m\u001b[0m\n\u001b[0m\u001b[1;32m    156\u001b[0m \u001b[0;34m\u001b[0m\u001b[0m\n\u001b[1;32m    157\u001b[0m             \u001b[0;31m# Option 2a:\u001b[0m\u001b[0;34m\u001b[0m\u001b[0;34m\u001b[0m\u001b[0;34m\u001b[0m\u001b[0m\n",
      "\u001b[0;32m/opt/anaconda3/envs/DSI/lib/python3.7/site-packages/seaborn/categorical.py\u001b[0m in \u001b[0;36minfer_orient\u001b[0;34m(self, x, y, orient)\u001b[0m\n\u001b[1;32m    360\u001b[0m         \u001b[0;32melif\u001b[0m \u001b[0mis_not_numeric\u001b[0m\u001b[0;34m(\u001b[0m\u001b[0my\u001b[0m\u001b[0;34m)\u001b[0m\u001b[0;34m:\u001b[0m\u001b[0;34m\u001b[0m\u001b[0;34m\u001b[0m\u001b[0m\n\u001b[1;32m    361\u001b[0m             \u001b[0;32mif\u001b[0m \u001b[0mis_not_numeric\u001b[0m\u001b[0;34m(\u001b[0m\u001b[0mx\u001b[0m\u001b[0;34m)\u001b[0m\u001b[0;34m:\u001b[0m\u001b[0;34m\u001b[0m\u001b[0;34m\u001b[0m\u001b[0m\n\u001b[0;32m--> 362\u001b[0;31m                 \u001b[0;32mraise\u001b[0m \u001b[0mValueError\u001b[0m\u001b[0;34m(\u001b[0m\u001b[0mno_numeric\u001b[0m\u001b[0;34m)\u001b[0m\u001b[0;34m\u001b[0m\u001b[0;34m\u001b[0m\u001b[0m\n\u001b[0m\u001b[1;32m    363\u001b[0m             \u001b[0;32melse\u001b[0m\u001b[0;34m:\u001b[0m\u001b[0;34m\u001b[0m\u001b[0;34m\u001b[0m\u001b[0m\n\u001b[1;32m    364\u001b[0m                 \u001b[0;32mreturn\u001b[0m \u001b[0;34m\"h\"\u001b[0m\u001b[0;34m\u001b[0m\u001b[0;34m\u001b[0m\u001b[0m\n",
      "\u001b[0;31mValueError\u001b[0m: Neither the `x` nor `y` variable appears to be numeric."
     ]
    },
    {
     "data": {
      "image/png": "[encoded data removed]",
      "text/plain": [
       "<Figure size 432x1080 with 1 Axes>"
      ]
     },
     "metadata": {},
     "output_type": "display_data"
    }
   ],
   "source": [
    "sns.set(style=\"whitegrid\")\n",
    "\n",
    "search_terms_chart = ['power off','power out','power outage','service interruption', \n",
    "                      'transformer AND power', '#poweroutage', 'power failure', 'power cut', \n",
    "                      'electric off', 'electric out', 'lost power']\n",
    "\n",
    "# Initialize the matplotlib figure\n",
    "f, ax = plt.subplots(figsize=(6, 15))\n",
    "\n",
    "\n",
    "# Plot the total crashes\n",
    "sns.set_color_codes(\"pastel\")\n",
    "sns.barplot(x=(tweets['state']=='Michigan'), y=search_terms_chart, data=tweets,\n",
    "            label=\"Michigan\", color=\"b\")\n",
    "\n",
    "# Plot the crashes where alcohol was involved\n",
    "##sns.set_color_codes(\"muted\")\n",
    "##sns.barplot(x=\"alcohol\", y=\"abbrev\", data=crashes,\n",
    "##            label=\"Alcohol-involved\", color=\"b\")\n",
    "\n",
    "# Add a legend and informative axis label\n",
    "##ax.legend(ncol=2, loc=\"lower right\", frameon=True)\n",
    "##ax.set(xlim=(0, 24), ylabel=\"\",\n",
    "##       xlabel=\"Automobile collisions per billion miles\")\n",
    "##sns.despine(left=True, bottom=True)"
   ]
  },
  {
   "cell_type": "code",
   "execution_count": null,
   "metadata": {},
   "outputs": [],
   "source": [
    "fig, (ax1, ax2) = plt.subplots(1,2, figsize = (14,8), sharex=True) # unpack graphs\n",
    "# add title to entire figure\n",
    "ax1.barh(y=server_top_words.index,width=server_top_words,color='#5f7d95') \n",
    "ax2.barh(y=retail_top_words.index,width=retail_top_words,color='#00c9a2')\n",
    "ax1.set_title('Top Words from TalesFromYourServer Subreddit\\nr/TalesFromYourServer',size=14)\n",
    "ax2.set_title('Top Words from TalesFromRetail Subreddit\\nr/TalesFromRetail',size=14)\n",
    "ax1.set_xlabel('Frequency',size=16)\n",
    "ax2.set_xlabel('Frequency',size=16)\n",
    "ax1.set_ylabel('Unique Words in Top 40', size=16)\n",
    "ax2.set_ylabel('Unique Words in Top 40', size=16);"
   ]
  },
  {
   "cell_type": "code",
   "execution_count": null,
   "metadata": {},
   "outputs": [],
   "source": []
  },
  {
   "cell_type": "markdown",
   "metadata": {},
   "source": [
    "It appears that lights out is the top search term in our dataset. "
   ]
  },
  {
   "cell_type": "code",
   "execution_count": 22,
   "metadata": {
    "scrolled": true
   },
   "outputs": [
    {
     "data": {
      "text/plain": [
       "1653"
      ]
     },
     "execution_count": 22,
     "metadata": {},
     "output_type": "execute_result"
    }
   ],
   "source": [
    "len(tweets[tweets['search_term']=='power outage']['text'])"
   ]
  },
  {
   "cell_type": "code",
   "execution_count": 27,
   "metadata": {
    "scrolled": true
   },
   "outputs": [
    {
     "ename": "NameError",
     "evalue": "name 'states' is not defined",
     "output_type": "error",
     "traceback": [
      "\u001b[0;31m---------------------------------------------------------------------------\u001b[0m",
      "\u001b[0;31mNameError\u001b[0m                                 Traceback (most recent call last)",
      "\u001b[0;32m<ipython-input-27-f386e4804eda>\u001b[0m in \u001b[0;36m<module>\u001b[0;34m\u001b[0m\n\u001b[0;32m----> 1\u001b[0;31m \u001b[0mplt\u001b[0m\u001b[0;34m.\u001b[0m\u001b[0mbar\u001b[0m\u001b[0;34m(\u001b[0m\u001b[0mstates\u001b[0m\u001b[0;34m,\u001b[0m\u001b[0mtweets\u001b[0m\u001b[0;34m.\u001b[0m\u001b[0mgroupby\u001b[0m\u001b[0;34m(\u001b[0m\u001b[0;34m'state'\u001b[0m\u001b[0;34m)\u001b[0m\u001b[0;34m[\u001b[0m\u001b[0;34m'outage_sentiment'\u001b[0m\u001b[0;34m]\u001b[0m\u001b[0;34m.\u001b[0m\u001b[0mmean\u001b[0m\u001b[0;34m(\u001b[0m\u001b[0;34m)\u001b[0m\u001b[0;34m,\u001b[0m \u001b[0mcolor\u001b[0m \u001b[0;34m=\u001b[0m \u001b[0;34m'seagreen'\u001b[0m\u001b[0;34m)\u001b[0m\u001b[0;34m\u001b[0m\u001b[0;34m\u001b[0m\u001b[0m\n\u001b[0m\u001b[1;32m      2\u001b[0m \u001b[0mplt\u001b[0m\u001b[0;34m.\u001b[0m\u001b[0mtitle\u001b[0m\u001b[0;34m(\u001b[0m\u001b[0;34m'Average Outage Sentiment by State'\u001b[0m\u001b[0;34m,\u001b[0m\u001b[0msize\u001b[0m\u001b[0;34m=\u001b[0m\u001b[0;36m16\u001b[0m\u001b[0;34m)\u001b[0m\u001b[0;34m\u001b[0m\u001b[0;34m\u001b[0m\u001b[0m\n\u001b[1;32m      3\u001b[0m \u001b[0mplt\u001b[0m\u001b[0;34m.\u001b[0m\u001b[0mxlabel\u001b[0m\u001b[0;34m(\u001b[0m\u001b[0;34m'State'\u001b[0m\u001b[0;34m,\u001b[0m\u001b[0msize\u001b[0m\u001b[0;34m=\u001b[0m\u001b[0;36m13\u001b[0m\u001b[0;34m)\u001b[0m\u001b[0;34m\u001b[0m\u001b[0;34m\u001b[0m\u001b[0m\n\u001b[1;32m      4\u001b[0m \u001b[0mplt\u001b[0m\u001b[0;34m.\u001b[0m\u001b[0mylabel\u001b[0m\u001b[0;34m(\u001b[0m\u001b[0;34m'Average Outage Sentiment'\u001b[0m\u001b[0;34m,\u001b[0m\u001b[0msize\u001b[0m\u001b[0;34m=\u001b[0m\u001b[0;36m13\u001b[0m\u001b[0;34m)\u001b[0m\u001b[0;34m\u001b[0m\u001b[0;34m\u001b[0m\u001b[0m\n\u001b[1;32m      5\u001b[0m \u001b[0mplt\u001b[0m\u001b[0;34m.\u001b[0m\u001b[0mxticks\u001b[0m\u001b[0;34m(\u001b[0m\u001b[0msize\u001b[0m\u001b[0;34m=\u001b[0m\u001b[0;36m12\u001b[0m\u001b[0;34m)\u001b[0m\u001b[0;34m;\u001b[0m\u001b[0;34m\u001b[0m\u001b[0;34m\u001b[0m\u001b[0m\n",
      "\u001b[0;31mNameError\u001b[0m: name 'states' is not defined"
     ]
    }
   ],
   "source": [
    "plt.bar(states,tweets.groupby('state')['outage_sentiment'].mean(), color = 'seagreen')\n",
    "plt.title('Average Outage Sentiment by State',size=16)\n",
    "plt.xlabel('State',size=13)\n",
    "plt.ylabel('Average Outage Sentiment',size=13)\n",
    "plt.xticks(size=12);"
   ]
  },
  {
   "cell_type": "code",
   "execution_count": 20,
   "metadata": {
    "scrolled": true
   },
   "outputs": [
    {
     "data": {
      "text/plain": [
       "7018     0.20\n",
       "7019     0.18\n",
       "7020     0.18\n",
       "7021     0.23\n",
       "7022     0.23\n",
       "         ... \n",
       "10032    0.31\n",
       "10033    0.35\n",
       "10034    0.39\n",
       "10035    0.35\n",
       "10036    0.29\n",
       "Name: outage_sentiment, Length: 3019, dtype: float64"
      ]
     },
     "execution_count": 20,
     "metadata": {},
     "output_type": "execute_result"
    }
   ],
   "source": [
    "tweets[tweets['state']=='New York']['outage_sentiment']"
   ]
  },
  {
   "cell_type": "code",
   "execution_count": 82,
   "metadata": {},
   "outputs": [],
   "source": [
    "pd.set_option('display.max_rows', None)"
   ]
  },
  {
   "cell_type": "code",
   "execution_count": 69,
   "metadata": {
    "scrolled": true
   },
   "outputs": [
    {
     "data": {
      "text/plain": [
       "search_term\n",
       "dte AND power outage                 0.315758\n",
       "National Grid AND outage             0.308000\n",
       "SDGE AND outage                      0.297442\n",
       "PG&E AND outage                      0.297174\n",
       "PG&E AND power                       0.297019\n",
       "SDG&E AND outage                     0.291000\n",
       "dte energy AND outage                0.287826\n",
       "consumers energy AND outage          0.270000\n",
       "SDGE AND power                       0.254366\n",
       "dte AND power                        0.238333\n",
       "National Grid AND power              0.233684\n",
       "power outage                         0.233097\n",
       "centerpoint energy AND outage        0.228000\n",
       "SDG&E AND power                      0.222500\n",
       "National Grid AND service            0.212500\n",
       "consumers energy AND power outage    0.212500\n",
       "centerpoint energy AND power         0.210000\n",
       "ConED AND service                    0.205385\n",
       "transformer AND power                0.191908\n",
       "service interruption                 0.186304\n",
       "RG&E AND power                       0.182000\n",
       "CNPalerts AND power outage           0.175000\n",
       "#poweroutage                         0.172792\n",
       "power out                            0.157748\n",
       "power interruption                   0.148333\n",
       "power failure                        0.147049\n",
       "RG&E AND service                     0.144000\n",
       "Duke Energy AND service              0.117143\n",
       "power off                            0.093407\n",
       "power cut                            0.092062\n",
       "lost power                           0.087035\n",
       "lights out                           0.083773\n",
       "electric out                         0.076393\n",
       "electric off                         0.013354\n",
       "Name: outage_sentiment, dtype: float64"
      ]
     },
     "execution_count": 69,
     "metadata": {},
     "output_type": "execute_result"
    }
   ],
   "source": [
    "search_sent = tweets.groupby('search_term')['outage_sentiment'].mean().sort_values(ascending=False)\n",
    "search_sent"
   ]
  },
  {
   "cell_type": "code",
   "execution_count": 7,
   "metadata": {
    "scrolled": true
   },
   "outputs": [
    {
     "data": {
      "image/png": "[encoded data removed]",
      "text/plain": [
       "<Figure size 432x288 with 1 Axes>"
      ]
     },
     "metadata": {
      "needs_background": "light"
     },
     "output_type": "display_data"
    }
   ],
   "source": [
    "n_groups = 4\n",
    "means_ohio = df['state']90, 55, 40, 65)\n",
    "means_new_york = (85, 62, 54, 20)\n",
    "\n",
    "# create plot\n",
    "fig, ax = plt.subplots()\n",
    "index = np.arange(n_groups)\n",
    "bar_width = 0.35\n",
    "opacity = 0.8\n",
    "\n",
    "rects1 = plt.bar(index, means_frank, bar_width,\n",
    "alpha=opacity,\n",
    "color='b',\n",
    "label='Frank')\n",
    "\n",
    "rects2 = plt.bar(index + bar_width, means_guido, bar_width,\n",
    "alpha=opacity,\n",
    "color='g',\n",
    "label='Guido')\n",
    "\n",
    "plt.xlabel('Person')\n",
    "plt.ylabel('Scores')\n",
    "plt.title('Scores by person')\n",
    "plt.xticks(index + bar_width, ('A', 'B', 'C', 'D'))\n",
    "plt.legend()\n",
    "\n",
    "plt.tight_layout()\n",
    "plt.show()"
   ]
  },
  {
   "cell_type": "code",
   "execution_count": null,
   "metadata": {},
   "outputs": [],
   "source": [
    "n = int(input(\"Enter the number of elements to be inserted: \"))\n",
    "a=[]\n",
    "for i in range(0,n):\n",
    "    elem=int(input(\"Enter element: \"))\n",
    "    a.append(elem)\n",
    "avg=sum(a)/n\n",
    "print(\"Average of elements in the list\",round(avg,2))"
   ]
  },
  {
   "cell_type": "code",
   "execution_count": null,
   "metadata": {},
   "outputs": [],
   "source": []
  }
 ],
 "metadata": {
  "kernelspec": {
   "display_name": "Python 3",
   "language": "python",
   "name": "python3"
  },
  "language_info": {
   "codemirror_mode": {
    "name": "ipython",
    "version": 3
   },
   "file_extension": ".py",
   "mimetype": "text/x-python",
   "name": "python",
   "nbconvert_exporter": "python",
   "pygments_lexer": "ipython3",
   "version": "3.7.6"
  },
  "toc": {
   "base_numbering": 1,
   "nav_menu": {},
   "number_sections": true,
   "sideBar": true,
   "skip_h1_title": false,
   "title_cell": "Table of Contents",
   "title_sidebar": "Contents",
   "toc_cell": false,
   "toc_position": {},
   "toc_section_display": true,
   "toc_window_display": false
  }
 },
 "nbformat": 4,
 "nbformat_minor": 4
}
